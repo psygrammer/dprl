{
 "cells": [
  {
   "cell_type": "markdown",
   "metadata": {},
   "source": [
    "#[OA]"
   ]
  },
  {
   "cell_type": "markdown",
   "metadata": {},
   "source": [
    "#3. Dealing with Short Text in Ads for Contextual Advertising"
   ]
  },
  {
   "cell_type": "markdown",
   "metadata": {},
   "source": [
    "<img src=sun.jpg>\n",
    "(http://moccaice.tistory.com/3)"
   ]
  },
  {
   "cell_type": "markdown",
   "metadata": {},
   "source": [
    "- 웹페이지에서 연관된 광고를 검색하는 것은 정보 검색의 문제와 같다.\n",
    "- 하지만 광고 검색에서의 문제는 은 웹 검색과 비교해볼때 몇가지 미묘한 차이가 있다."
   ]
  },
  {
   "cell_type": "markdown",
   "metadata": {},
   "source": [
    "1. 광고 문구는 짧고 사용자를 유혹하는 것이 목적 -> 그래서 짧고, 문법에 맞지 않는 구문도 있다.\n",
    "2. 짧은 광고 문구는 단어의 차이에 대해 문제점이 있음.\n",
    "3. 웹 검색과는 다르게 광고 문서안에 링크 구조가 없음 -> 연관 광고로 이용되지 못함.\n",
    "4. 웹 검색과는 다르게 웹페이지의 감성을 고려해야 함."
   ]
  },
  {
   "cell_type": "markdown",
   "metadata": {},
   "source": []
  },
  {
   "cell_type": "markdown",
   "metadata": {},
   "source": [
    "####Q : 다음 글은 뭐에 대한 글일까? (출처: http://ryuseunghyun.tistory.com/2537)"
   ]
  },
  {
   "cell_type": "markdown",
   "metadata": {},
   "source": [
    "<img src=\"5d.png\">"
   ]
  },
  {
   "cell_type": "markdown",
   "metadata": {},
   "source": [
    "###문제는 vocabulary mismatch!"
   ]
  },
  {
   "cell_type": "markdown",
   "metadata": {},
   "source": [
    "- The short and commercial nature of the ad text often induces a problem called 'vocabulary mismatch' between ads and the Web page content\n",
    "- As the name suggests, vocabulary mismatch implies that the ad and content are semantically related but there is no syntactic similarity (word overlap) between them.\n",
    "- Thus, the problem of finding relevant ads for Web pages also has to deal with vocabulary mismatch."
   ]
  },
  {
   "cell_type": "markdown",
   "metadata": {},
   "source": [
    "------\n",
    "- The best performing strategy amongst the initial strategies, intuitively, was the one that considers all the ad text available (all the ad sections).\n",
    "- As the results in their work suggests, plain text match- ing does not give good performance, and there is a definite need for sophisticated models to drive better performance."
   ]
  },
  {
   "cell_type": "code",
   "execution_count": null,
   "metadata": {
    "collapsed": true
   },
   "outputs": [],
   "source": []
  },
  {
   "cell_type": "code",
   "execution_count": null,
   "metadata": {
    "collapsed": true
   },
   "outputs": [],
   "source": []
  },
  {
   "cell_type": "markdown",
   "metadata": {},
   "source": [
    "## 1. Expanding Vocabulary to Overcome Vocabulary Mismatch"
   ]
  },
  {
   "cell_type": "markdown",
   "metadata": {},
   "source": [
    "<img src=\"fig1.png\">"
   ]
  },
  {
   "cell_type": "markdown",
   "metadata": {},
   "source": [
    "### 1.1 Expand Web pages Using Similar Web Pages"
   ]
  },
  {
   "cell_type": "markdown",
   "metadata": {},
   "source": [
    "- 광고 텍스트의 sparseness와 Vocabulary Mismatch를 극복하는 한가지 방법은 유사한 웹페이지를 찾으며 웹페이지를 확장하는 것이다.\n",
    "- They propose expanding Web page content using terms from other similar pages.\n",
    "- 이 테크닉은 Sponsored Search를 통한 광고에 많이 사용된다."
   ]
  },
  {
   "cell_type": "markdown",
   "metadata": {},
   "source": [
    "###알고리즘\n",
    "- 원본 웹 페이지를 p0, 불러온 유사한 페이지를 D=d0,d1,...dn 이라고 함\n",
    "- The goodness of the terms that make the representation is determined using following equation:\n",
    "<img src=\"eq1.png\">\n",
    "- R is the representation for a Web page.\n",
    "- tfij is the term fre- quency of term ti in document dj\n",
    "- wi0 is the term frequency of term ti in page p\n",
    "- sim(R,dj) is the cosine similarity between the representa- tion R and document dj\n",
    "\n",
    "- For θ = 0, the representation only contains terms in the Web page p. By increasing θ, we allow terms not in the page to be a part of the representation. Initially, the representation of the page R contains the terms only in page p. The representation at any point of time will contain terms from similar documents that follow the following equation:\n",
    "<img src=\"eq2.png\">\n",
    "- Once the top terms are determined these terms are added to the Web page terms to expand the vocabulary. Once expanded, the page- ad similarity is the cosine similarity between the ad and the Web page terms.\n",
    "<img src=\"eq3.png\">\n",
    "- Where p represents the Web page, Ai is an ad with ki bid phrases, r is\n",
    "the representation of Web page."
   ]
  },
  {
   "cell_type": "code",
   "execution_count": null,
   "metadata": {
    "collapsed": true
   },
   "outputs": [],
   "source": []
  },
  {
   "cell_type": "markdown",
   "metadata": {},
   "source": [
    "### 1.2 Expand Ads"
   ]
  },
  {
   "cell_type": "markdown",
   "metadata": {},
   "source": [
    "- 광고 텍스트는 그 자체가 짧으므로 위처럼 유사한 광고끼리 묶어서 확장을 해도 원하는 결과를 얻을 수 없다.\n",
    "- 대신에 __랜딩 페이지(Landing page)__를 이용하여 확장을 한다.\n",
    "- __랜딩 페이지에는 광고가 연관되어야 할 맥락이 포함되어 있다.__\n",
    "- (랜딩페이지 참고자료 : http://joinsm.com/?page_id=53)\n",
    "------\n",
    "- 하지만 랜딩페이지에는 노이즈가 많이껴있기 때문에 이를 직접적으로 광고 텍스트로 확장하는 것은 좋지않다.\n",
    "- 한가지 방법이 연관된 키워드만 추출해서 광고 텍스트의 확장에 사용하는 것이다."
   ]
  },
  {
   "cell_type": "markdown",
   "metadata": {},
   "source": []
  },
  {
   "cell_type": "markdown",
   "metadata": {},
   "source": []
  },
  {
   "cell_type": "markdown",
   "metadata": {},
   "source": [
    "## 2. Leveraging Taxonomy"
   ]
  },
  {
   "cell_type": "markdown",
   "metadata": {},
   "source": [
    "- 웹페이지를 확장하는 것은 쉽게 토픽이 이동될 수 있다는 문제점이있다.\n",
    "- Retrieving ads from related but different topic might not always be the desired outcome.\n",
    "- 웹페이지와 광고의 __의미적인(semantic) 관계__를 추론할 필요가 있다.\n",
    "-----\n",
    "- 한가지 방법은 이 의미적 관계를 찾기 위해 분류(taxonomy)를 이용하는 것이다.\n",
    "- The nodes in the taxonomy can be organized based on some semantic relation like parent-child or the hypernym-hyponym relation.\n",
    "- Instances of publicly available taxonomies include Wikipedia category tree(https://en.wikipedia.org/wiki/Portal:Contents/Categories) and Open directory project(http://www.dmoz.org/).\n"
   ]
  },
  {
   "cell_type": "markdown",
   "metadata": {},
   "source": [
    "<img src=\"fig2.png\">"
   ]
  },
  {
   "cell_type": "markdown",
   "metadata": {},
   "source": [
    "- 광고와 웹페이지 카테고리 노드의 유사도(similarity)는 최소한의 공통조상(LCA, least common ancestor)과의 거리(distance)다.\n"
   ]
  },
  {
   "cell_type": "markdown",
   "metadata": {},
   "source": [
    "### 알고리즘\n",
    "- For an ad classified into a node ac and a page classified into the category a node pc, the similarity is given as follows,\n",
    "<img src=\"eq4.png\">\n",
    "- where sim gives the semantic proximity between the ad and page cat- egory in the taxonomy. Let the overall similarity score for an ad and page be denoted by TaxScore and defined as follows:\n",
    "<img src=\"eq5.png\">\n",
    "- The TaxScore function takes all combinations of the ad and Web page categories and multiplies the class weights and the generalization factor (sim) between categories.\n",
    "- The class weight of an ad A at a category node ac is the cosine similarity of the ad’s content with the category node’s expanded words.\n",
    "- The semantic score is calculated by classifying the page and the ads into taxonomy of topics and using the proximity of the ad and page classes.\n",
    "-----\n",
    "- semantically related ads are favoured for a page and thus it avoids the pitfalls of purely syntactic approach.\n",
    "- by using a hierarchical taxonomy, the system is robust to show related (general) ads if there is no match at a particular node in the taxonomy.\n",
    "- For example, if a Web page is talking about iPad and there are no ads to show on iPod, then ads on iPhone can be displayed."
   ]
  },
  {
   "cell_type": "code",
   "execution_count": null,
   "metadata": {
    "collapsed": true
   },
   "outputs": [],
   "source": []
  },
  {
   "cell_type": "markdown",
   "metadata": {},
   "source": [
    "## 3. Combining Semantics with the Syntax"
   ]
  },
  {
   "cell_type": "markdown",
   "metadata": {},
   "source": [
    "- 의미적인 점수(semantic score)를 얻을 지라도 누군가는 syntactic systems(such as word overlap)로부터 강력한 신호를 얻길 원한다.\n",
    "- 의미적인 방법은 __적은 textual overlap이지만 연관성있는__ 광고를 검색하도록 돕는 반면, syntactic match는 명확한 textual overlap으로 광고를 검색한다.\n",
    "- One useful approach is to combine the semantic and syntactic scores linearly."
   ]
  },
  {
   "cell_type": "code",
   "execution_count": null,
   "metadata": {
    "collapsed": true
   },
   "outputs": [],
   "source": []
  }
 ],
 "metadata": {
  "kernelspec": {
   "display_name": "Python 2",
   "language": "python",
   "name": "python2"
  },
  "language_info": {
   "codemirror_mode": {
    "name": "ipython",
    "version": 2
   },
   "file_extension": ".py",
   "mimetype": "text/x-python",
   "name": "python",
   "nbconvert_exporter": "python",
   "pygments_lexer": "ipython2",
   "version": "2.7.10"
  }
 },
 "nbformat": 4,
 "nbformat_minor": 0
}
