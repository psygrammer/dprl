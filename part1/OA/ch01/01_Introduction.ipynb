{
 "cells": [
  {
   "cell_type": "markdown",
   "metadata": {},
   "source": [
    "# 1. Introduction"
   ]
  },
  {
   "cell_type": "markdown",
   "metadata": {},
   "source": [
    "* 싸이그래머+싸이지먼트 / 온라인광고 [1]\n",
    "* 김무성"
   ]
  },
  {
   "cell_type": "markdown",
   "metadata": {},
   "source": [
    "# Contents"
   ]
  },
  {
   "cell_type": "markdown",
   "metadata": {},
   "source": [
    "* 1.1 Introduction to Computational Advertising\n",
    "* 1.2 Issues and Challenges\n",
    "* 1.3 Scope of the Survey\n",
    "* 1.4 Organization of the Survey"
   ]
  },
  {
   "cell_type": "markdown",
   "metadata": {},
   "source": [
    "# 1.1 Introduction to Computational Advertising"
   ]
  },
  {
   "cell_type": "markdown",
   "metadata": {},
   "source": [
    "* 1.1.1 Anatomy of a Textual Ad\n",
    "* 1.1.2 Matching Strategies and Pricing\n",
    "* 1.1.3 Scenarios in Online Advertising"
   ]
  },
  {
   "cell_type": "markdown",
   "metadata": {},
   "source": [
    "<img src=\"figures/fig1.1.png\" width=600 />"
   ]
  },
  {
   "cell_type": "markdown",
   "metadata": {},
   "source": [
    "<img src=\"figures/fig1.2.png\" width=600 />"
   ]
  },
  {
   "cell_type": "markdown",
   "metadata": {},
   "source": [
    "## 1.1.1 Anatomy of a Textual Ad"
   ]
  },
  {
   "cell_type": "markdown",
   "metadata": {},
   "source": [
    "* Bid term/phrase: \n",
    "    - The term bid by the advertiser for the ad. This is invisible to the user, and it is used to indicate what content the ad should be shown against. For each bid term bid by the advertiser, they have to pay the bid amount.\n",
    "* Bid amount: \n",
    "    - The amount bid by the advertiser for the bid phrase. This too is invisible to the user.\n",
    "* Title: \n",
    "    - This is the title of the ad.\n",
    "* Description/Creative: \n",
    "    - The description is the text displayed below the title. It typically consists of a short description of the ad and is usually written to attract the user. It is also known as creative.\n",
    "* Display URL: \n",
    "    - The URL displayed in the ad. To improve the presentation of ads and to reduce the space, the display URL is usually different from that of the original/landing page URL. The landing page for an ad is the page where a user lands after clicking on an ad as shown in Figure 1.3."
   ]
  },
  {
   "cell_type": "markdown",
   "metadata": {},
   "source": [
    "<img src=\"figures/fig1.3.png\" width=600 />"
   ]
  },
  {
   "cell_type": "markdown",
   "metadata": {},
   "source": [
    "## 1.1.2 Matching Strategies and Pricing"
   ]
  },
  {
   "cell_type": "markdown",
   "metadata": {},
   "source": [
    "* Typically ad placement engines allow two different matching strategies for advertisers \n",
    "    - Exact match \n",
    "        - In the case of exact match, an ad is retrieved only if there is an exact match between the bid phrase of the ad and the text (query or Web page).\n",
    "        - In this scenario, the advertiser has knowledge of the keywords that are relevant to their business and makes a bid accordingly.\n",
    "    - Broad/Advance match  \n",
    "        - Broad match allow advertisers to choose initial bid phrase, and the ad placement engine takes care of finding relevant content for the ad even if there is no exact match.\n",
    "        - This relaxes the constraint of com- ing up with all relevant bid phrases for the exact match involved in the previous case. \n",
    "        - Advertisers still have to bid on their ad. \n",
    "        - This bidding is real time\n",
    "        - the bid amount plays an important role in the position at which the ad is shown. "
   ]
  },
  {
   "cell_type": "markdown",
   "metadata": {},
   "source": [
    "* In an online advertising ecosystem, one of the following pricing schemes is adopted:\n",
    "    - Pay-per-Click (PPC)\n",
    "        - In PPC model, the advertiser pays some amount each time a user clicks their ad\n",
    "    - Pay-per-Impression (PPI) \n",
    "        - In PPI model, the advertiser pays every time their ad is displayed against the content.\n",
    "    - Pay-per-Transaction (PPT)\n",
    "        - While in a PPT model the advertiser has to pay only when a user does a transaction after clicking on the ad."
   ]
  },
  {
   "cell_type": "markdown",
   "metadata": {},
   "source": [
    "* Ranking in such a two-step fashion caters to the need of all the four parties involved \n",
    "    - User, \n",
    "    - Advertiser, \n",
    "    - Publisher and \n",
    "    - Ad engine."
   ]
  },
  {
   "cell_type": "markdown",
   "metadata": {},
   "source": [
    "## 1.1.3 Scenarios in Online Advertising"
   ]
  },
  {
   "cell_type": "markdown",
   "metadata": {},
   "source": [
    "* Contextual Advertising\n",
    "* Sponsored Search\n",
    "* Display Advertising"
   ]
  },
  {
   "cell_type": "markdown",
   "metadata": {},
   "source": [
    "### Contextual Advertising"
   ]
  },
  {
   "cell_type": "markdown",
   "metadata": {},
   "source": [
    "* implicit interest\n",
    "    - A user’s visit on a page typically indicates their implicit interest in Web page’s topic Broder et al. [2007]. This implicit interest can be exploited by placing relevant ads next to the content as there is a higher chance of user visiting the ad if it is relevant to the content.\n",
    "* Contextual Advertising \n",
    "    - can be seen as an interaction between \n",
    "        - the publisher, \n",
    "        - advertiser, \n",
    "        - ad placement engine, and \n",
    "        - the user."
   ]
  },
  {
   "cell_type": "markdown",
   "metadata": {},
   "source": [
    "<img src=\"figures/fig1.4.png\" width=600 />"
   ]
  },
  {
   "cell_type": "markdown",
   "metadata": {},
   "source": [
    "### Sponsored Search"
   ]
  },
  {
   "cell_type": "markdown",
   "metadata": {},
   "source": [
    "* In Sponsored Search, relevant advertisements are shown in response to a search query.\n",
    "* explicit interest\n",
    "    - With Sponsored Search, user explicitly mentions their in- terest in the topic by issuing a query related to the topic. This explicit interest is exploited in Sponsored Search.\n",
    "* Sponsored Search \n",
    "    - can be seen as an interaction between three parties\n",
    "        - search engine, \n",
    "        - user and \n",
    "        - the advertiser. "
   ]
  },
  {
   "cell_type": "markdown",
   "metadata": {},
   "source": [
    "<img src=\"figures/fig1.5.png\" width=600 />"
   ]
  },
  {
   "cell_type": "markdown",
   "metadata": {},
   "source": [
    "### Display Advertising"
   ]
  },
  {
   "cell_type": "markdown",
   "metadata": {},
   "source": [
    "* Display Advertising is different from Contextual Advertising and Sponsored Search in many ways. \n",
    "* Display ads (also called banner ads) usually come in a rich multimedia form – image, video, flash and audio.\n",
    "* As in the PPI model, \n",
    "    - bidding in Display Advertising happens \n",
    "        - on a per impression basis.\n",
    "    - the sale of the impression slots \n",
    "        - on the publisher ads page can happen in two ways\n",
    "            - (a) Bulk sale of impressions and\n",
    "                - In the case of bulk sale of impressions, the advertiser buys n number of impressions on the publisher ads page. \n",
    "                - The ad is shown on the page until the advertiser ads budget is exhausted.\n",
    "            - (b) Auction individual impressions in real time. \n",
    "                - This entire process of auction happens in real time\n",
    "                - This real time auction of impressions is commonly known as Real-Time Bidding (RTB)."
   ]
  },
  {
   "cell_type": "markdown",
   "metadata": {},
   "source": [
    "<img src=\"figures/fig1.6.png\" width=600 />"
   ]
  },
  {
   "cell_type": "markdown",
   "metadata": {},
   "source": [
    "# 1.2 Issues and Challenges"
   ]
  },
  {
   "cell_type": "markdown",
   "metadata": {},
   "source": [
    "* Short Ad text:\n",
    "    - Ad text is short and is intended to attract the user, hence it contains short non-grammatical English phrases. \n",
    "* Sparse queries (Vocabulary mismatch):\n",
    "    - In case of Sponsored Search, the query is issued by the user and ads are submitted by the advertiser and both are short, this often induces a problem called vocabulary mis-match Ribeiro Neto et al. \n",
    "* Noisy Web content:\n",
    "    - Web pages usually contain noisy data. The application of tradi- tional information retrieval algorithm to retrieve ads from such noisy pages may lead to irrelevant ads. Therefore, the noisy con- tent of the Web page needs to be dealt with in a more sophisti- cated manner Yih et al. [2006], Dave and Varma [2010a], Wu and Bolivar [2008].\n",
    "* No Page Rank!: \n",
    "    - Unlike Web search, there is no link structure among the documents (ads) that can be exploited to apply algo-rithms like Page Rank or HITS to serve authoritative and relevant\n",
    "ads.\n",
    "* Ad Spam and Click Spam: \n",
    "    - Advertisers bid on false keywords or highly frequent keywords that are not related to their business. \n",
    "* Opinionated Content:\n",
    "    - Some of the Web page content like forums and in particular mi- croblogs are highly opinionated. Targeting ads on opinionated posts involves dealing with negative sentiments. \n",
    "* Dealing with new Ads in Ranking:\n",
    "    - In order to maximize the expected revenue, the search engine must predict the probability of a click on an ad, more commonly known as click-through rate (CTR) of an ad.\n",
    "* How much can behavioral targeting help online advertising? : \n",
    "    - One big question in the case of content level targeting is whether user behavior can also be incorporated to retrieve more relevant ads. \n",
    "* What to consider while targeting users?:\n",
    "    - In the case of user level targeting, one of the challenges is to profile the user for targeting them. Advertisers gather information about the user from the cookies. User modeling is more challenging than content modeling, as unlike the content, the user behavior changes with time. In the case of user targeting based on their social circle, formulating a user’s influence on their contacts for various actions (like clicking on ads) is a big challenge Cheng and Cantú-Paz [2010b], Dav"
   ]
  },
  {
   "cell_type": "markdown",
   "metadata": {},
   "source": [
    "# 1.3 Scope of the Survey"
   ]
  },
  {
   "cell_type": "markdown",
   "metadata": {},
   "source": [
    "# 1.4 Organization of the Survey"
   ]
  },
  {
   "cell_type": "markdown",
   "metadata": {},
   "source": [
    "# 참고자료"
   ]
  },
  {
   "cell_type": "code",
   "execution_count": null,
   "metadata": {
    "collapsed": true
   },
   "outputs": [],
   "source": []
  }
 ],
 "metadata": {
  "kernelspec": {
   "display_name": "Python 2",
   "language": "python",
   "name": "python2"
  },
  "language_info": {
   "codemirror_mode": {
    "name": "ipython",
    "version": 2
   },
   "file_extension": ".py",
   "mimetype": "text/x-python",
   "name": "python",
   "nbconvert_exporter": "python",
   "pygments_lexer": "ipython2",
   "version": "2.7.6"
  }
 },
 "nbformat": 4,
 "nbformat_minor": 0
}
