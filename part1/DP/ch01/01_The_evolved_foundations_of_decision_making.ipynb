{
 "cells": [
  {
   "cell_type": "markdown",
   "metadata": {},
   "source": [
    "# The evolved foundations of decision making"
   ]
  },
  {
   "cell_type": "markdown",
   "metadata": {},
   "source": [
    "* 싸이그래머+싸이지먼트 / 의사결정심리 [1]\n",
    "* 김무성"
   ]
  },
  {
   "cell_type": "markdown",
   "metadata": {},
   "source": [
    "<img src=\"figures/ctbl.png\" width=600 />"
   ]
  },
  {
   "cell_type": "markdown",
   "metadata": {},
   "source": [
    "# Contents"
   ]
  },
  {
   "cell_type": "markdown",
   "metadata": {},
   "source": [
    "* Introduction\n",
    "* The evolved foundations of decision making\n",
    "* Adaptively important decision domains\n",
    "* Rational vs. irrational vs. evolved decision making\n",
    "* Profiting from an evolutionary perspective: the case of the hot-hand phenomenon\n",
    "* Conclusions: how to evolutionize JDM research"
   ]
  },
  {
   "cell_type": "markdown",
   "metadata": {},
   "source": [
    "| |  | \n",
    "| ----- |------| \n",
    "|<img src=\"https://upload.wikimedia.org/wikipedia/commons/c/c8/Daniel_KAHNEMAN.jpg\" /> | <img src=\"http://www.dfg.de/zentralablage/bilder/gefoerderte_projekte/preistraeger/communicator/communicator_2011/gerd_gigerenzer.jpg\" width=150 />  | \n",
    "|<img src=\"http://image.kyobobook.co.kr/images/book/xlarge/150/x9788934956150.jpg\" width=350/>| <img src=\"http://image.kyobobook.co.kr/images/book/xlarge/166/x9791155400166.jpg\" width=350 />  | \n",
    "|<img src=\"http://www.federalreserve.gov/pubs/feds/2010/201025/fig2.gif\" width=450 /> |<img src=\"https://www.mpib-berlin.mpg.de/volltexte/institut/dok/full/gg/ggpogmdm_/ggpogmdm_02.gif\" width=450 /> |"
   ]
  },
  {
   "cell_type": "markdown",
   "metadata": {
    "collapsed": true
   },
   "source": [
    "# Introduction"
   ]
  },
  {
   "cell_type": "markdown",
   "metadata": {},
   "source": [
    "* <font color=\"red\">Decision making</font> involves <font color=\"red\">using information to guide behavior</font> among multiple possible courses of <font color=\"red\">action</font>.\n",
    "* <font color=\"red\">Evolution</font> cannot shape individual choices one by one, but <font color=\"red\">it can create information-processing mechanisms</font> that will <font color=\"red\">reliably produce particular kinds of choices</font> – adaptive ones – as outputs in specific <font color=\"blue\">environments and situations that provide characteristic cues as inputs</font> (Tooby & Cosmides, 1992; Gigerenzer & Todd, 1999)\n",
    "* <font color=\"red\">The study of decision making</font> thus should <font color=\"red\">build on an understanding</font> of the <font color=\"blue\">evolutionary foundations</font> of decision mechanisms.\n",
    "* In this chapter, we explore those foundations and how they can inform judgment and decision making research.\n",
    "* We begin by considering the nature of the <font color=\"red\">evolved components</font> that enable <font color=\"red\">adaptive decision making</font>: <font color=\"blue\">capacities</font>, <font color=\"blue\">building blocks</font>, and <font color=\"blue\">decision mechanisms themselves</font>.\n",
    "* we discuss the ways that the functional, <font color=\"red\">adaptive perspective on human decision making</font> can be <font color=\"red\">reconciled</font> with the common view in the <font color=\"blue\">JDM world that people are mightily</font> <font color=\"red\">irrational</font>.\n",
    "* Next, to show how an <font color=\"red\">evolutionary perspective</font> can lead to <font color=\"red\">new insights</font> and experiments in JDM research, we go into a <font color=\"red\">particular example</font> in some detail: understanding the hot-hand phenomenon. Finally, we conclude with further directions for studying judgment and decision making by taking its evolutionary origins into account."
   ]
  },
  {
   "cell_type": "markdown",
   "metadata": {},
   "source": [
    "<img src=\"http://pondside.uchicago.edu/~feder/research_files/image002.jpg\" />"
   ]
  },
  {
   "cell_type": "markdown",
   "metadata": {},
   "source": [
    "<img src=\"http://www.medicalexhibits.com/obrasky/2010/10109_01A.jpg\" width=600 />"
   ]
  },
  {
   "cell_type": "markdown",
   "metadata": {
    "collapsed": true
   },
   "source": [
    "# The evolved foundations of decision making"
   ]
  },
  {
   "cell_type": "markdown",
   "metadata": {},
   "source": [
    "* Adaptive goals\n",
    "* Evolved capacities and heuristics\n",
    "* Information structure in the environment\n",
    "* Shaping goals, tools, and behaviors"
   ]
  },
  {
   "cell_type": "markdown",
   "metadata": {},
   "source": [
    "Minds are adapted to make appropriate decisions in the environments in which they evolved."
   ]
  },
  {
   "cell_type": "markdown",
   "metadata": {},
   "source": [
    "* We can think about \n",
    "    - the impact of those environments \n",
    "    - on the workings of decision mechanisms \n",
    "    - for any particular species at three broad time-scales, roughly distinct but interacting. \n",
    "        - First, the <font color=\"red\">overarching demands of life</font> that have long held in our <font color=\"red\">general terrestrial environment</font> \n",
    "            - <font color=\"blue\">determined the adaptive goals</font> \n",
    "                - that much of <font color=\"red\">decision making is aimed at solving</font>. \n",
    "        - Second, <font color=\"red\">the species’ particular ancestral environment</font> \n",
    "            - <font color=\"blue\">determined</font> through its interaction <font color=\"red\">with evolution</font> the <font color=\"blue\">specific cognitive capacities</font> \n",
    "                - that an organism can bring to bear in making adaptive decisions. \n",
    "        - And third, the <font color=\"red\">current task environment</font> that any individual faces\n",
    "            - <font color=\"blue\">determines</font> <font color=\"red\">what</font> <font color=\"blue\">information structures</font> <font color=\"red\">are available</font> \n",
    "                -  to an organism’s evolved <font color=\"blue\">decision mechanisms</font> <font color=\"red\">for making particular choices</font>.\n"
   ]
  },
  {
   "cell_type": "markdown",
   "metadata": {},
   "source": [
    "* To provide an example that will allow us \n",
    "    - to illustrate these <font color=\"red\">different sources of environmental influence</font> on decision making, \n",
    "    - consider the problem of \n",
    "        - <font color=\"red\">deciding</font> \n",
    "            - which of <font color=\"blue\">two meals to eat</font> \n",
    "            - at a <font color=\"purple\">new restaurant</font>.\n",
    "        - The decision can be made on \n",
    "            - the basis of <font color=\"red\">pieces of information</font>, or cues, \n",
    "                - that you know or can find out about each meal, such as \n",
    "                    - whether each is made from local ingredients, \n",
    "                    - is vegetarian, \n",
    "                    - has less than your daily allotment of calories, \n",
    "                    - contains macadamia nuts, \n",
    "                    - and so on.\n",
    "    - Now the <font color=\"red\">question</font> is, <font color=\"red\">how should these cues</font> – of which there can be many, either in memory or available to look up externally – <font color=\"red\">be processed</font> <font color=\"blue\">to arrive at a decision</font> about the meal to have?"
   ]
  },
  {
   "cell_type": "markdown",
   "metadata": {},
   "source": [
    "* Simpler approaches \n",
    "    - would be to <font color=\"red\">ignore all of this information</font> and \n",
    "    - <font color=\"red\">just rely on</font>, for instance, whether you <font color=\"blue\">recognize one of the meals</font> and not the other, \n",
    "    - or on the meal <font color=\"blue\">choice of a friend</font> who has eaten at this place before. \n",
    "* Thus, you could rely on \n",
    "    - the <font color=\"red\">recognition heuristic</font> (Goldstein & Gigerenzer, 1999; 2002), \n",
    "        - which says when selecting between a recognized and an unrecognized option to\n",
    "pick the recognized one, \n",
    "    - or you could use a <font color=\"red\">social learning heuristic</font> \n",
    "        - to imitate the behavior of others (Boyd & Richerson, 1985). "
   ]
  },
  {
   "cell_type": "markdown",
   "metadata": {},
   "source": [
    "## Adaptive goals"
   ]
  },
  {
   "cell_type": "markdown",
   "metadata": {},
   "source": [
    "* <font color=\"red\">Evolutionary biology distinguishes</font> between \n",
    "    - <font color=\"blue\">proximal goals</font> (and)         \n",
    "        - There are many proximal goals, \n",
    "            - some more closely related to survival, \n",
    "                - such as \n",
    "                    - finding food \n",
    "                    - and avoiding predators, \n",
    "            - and others more associated with reproduction, \n",
    "                - such as \n",
    "                    - finding mates \n",
    "                    - and protecting offspring\n",
    "        - Different species will evolve different sets of proximal goals \n",
    "            - depending on their biological setting, including \n",
    "                - the ecology they are enmeshed in \n",
    "                - and the life history they have evolved to lead.\n",
    "    - <font color=\"blue\">ultimate goals</font>.\n",
    "        - The single ultimate goal, driving all of evolution, is \n",
    "            - reproduction – specifically, increasing the proportion of one’s genetic representation in future generations. \n",
    "        - Survival is only important insofar as it leads to increased reproduction for oneself or one’s kin.  \n"
   ]
  },
  {
   "cell_type": "markdown",
   "metadata": {},
   "source": [
    "* The mind’s “<font color=\"red\">adaptive toolbox</font>” (Gigerenzer, 2000) is \n",
    "    - filled with <font color=\"blue\">decision mechanisms</font> \n",
    "        - for achieving these <font color=\"blue\">proximal goals</font>, \n",
    "            - such as recognizing offspring (and which among humans can also be used for other modern tasks, such as recognition-based consumer choice)"
   ]
  },
  {
   "cell_type": "markdown",
   "metadata": {},
   "source": [
    "## Evolved capacities and heuristics"
   ]
  },
  {
   "cell_type": "markdown",
   "metadata": {},
   "source": [
    "* Capacities\n",
    "* Building blocks\n",
    "* Heuristics"
   ]
  },
  {
   "cell_type": "markdown",
   "metadata": {},
   "source": [
    "#### \"build-in\" VS \"learned\""
   ]
  },
  {
   "cell_type": "markdown",
   "metadata": {},
   "source": [
    "* Some of our decision mechanisms are evolved and essentially “<font color=\"red\">built-in</font>,” \n",
    "    - such as ducking when a looming object approaches; \n",
    "* others are <font color=\"red\">learned</font>, either \n",
    "    - through <font color=\"blue\">individual experience</font> \n",
    "    - or from <font color=\"blue\">other individuals</font> or one’s <font color=\"blue\">culture</font> (but all via learning mechanisms that are themselves ultimately evolved). \n",
    "* Many of the tools in the <font color=\"red\">adaptive toolbox</font> take the form of \n",
    "    - <font color=\"red\">simple heuristics</font>, \n",
    "        - which are <font color=\"blue\">rules of thumb</font> \n",
    "        - or decision-making <font color=\"blue\">shortcuts</font> to adaptive behavior \n",
    "        - that rely on \n",
    "            - <font color=\"blue\">little information</font> and \n",
    "            - <font color=\"blue\">little cognitive processing</font> (Gigerenzer, Todd & the ABC Research Group, 1999). \n",
    "    - <font color=\"red\">Heuristics</font> are typically composed of \n",
    "        - simpler <font color=\"blue\">building blocks</font>, \n",
    "            - which in turn rely on underlying \n",
    "                - <font color=\"blue\">evolved capacities</font>, \n",
    "                    - all of which have been <font color=\"red\">shaped</font> \n",
    "                        - by the species’ <font color=\"red\">evolutionary interaction</font> with <font color=\"blue\">particular environment structures</font>."
   ]
  },
  {
   "cell_type": "markdown",
   "metadata": {},
   "source": [
    "### Capacities"
   ]
  },
  {
   "cell_type": "markdown",
   "metadata": {},
   "source": [
    "### Building blocks"
   ]
  },
  {
   "cell_type": "markdown",
   "metadata": {},
   "source": [
    "### Heuristics"
   ]
  },
  {
   "cell_type": "markdown",
   "metadata": {},
   "source": [
    "## Information structure in the environment"
   ]
  },
  {
   "cell_type": "markdown",
   "metadata": {},
   "source": [
    "## Shaping goals, tools, and behaviors"
   ]
  },
  {
   "cell_type": "markdown",
   "metadata": {
    "collapsed": true
   },
   "source": [
    "# Adaptively important decision domains   "
   ]
  },
  {
   "cell_type": "markdown",
   "metadata": {},
   "source": [
    "* Evolutionarily important decision-making problems at the level of the individual\n",
    "* Evolutionarily important decision-making problems at the level of the social group"
   ]
  },
  {
   "cell_type": "markdown",
   "metadata": {},
   "source": [
    "## Evolutionarily important decision-making problems at the level of the individual"
   ]
  },
  {
   "cell_type": "markdown",
   "metadata": {},
   "source": [
    "## Evolutionarily important decision-making problems at the level of the social group"
   ]
  },
  {
   "cell_type": "markdown",
   "metadata": {
    "collapsed": true
   },
   "source": [
    "# Rational vs. irrational vs. evolved decision making"
   ]
  },
  {
   "cell_type": "markdown",
   "metadata": {},
   "source": [
    "* When adaptive benefits outweigh irrational costs – error management theory\n",
    "* When evolved mechanisms act in appropriate environments – ecological rationality"
   ]
  },
  {
   "cell_type": "markdown",
   "metadata": {},
   "source": [
    "## When adaptive benefits outweigh irrational costs – error management theory"
   ]
  },
  {
   "cell_type": "markdown",
   "metadata": {},
   "source": [
    "## When evolved mechanisms act in appropriate environments – ecological rationality"
   ]
  },
  {
   "cell_type": "markdown",
   "metadata": {
    "collapsed": true
   },
   "source": [
    "# Profiting from an evolutionary perspective: the case of the hot-hand phenomenon"
   ]
  },
  {
   "cell_type": "markdown",
   "metadata": {},
   "source": [
    "# Conclusions: how to evolutionize JDM research"
   ]
  },
  {
   "cell_type": "markdown",
   "metadata": {},
   "source": [
    "# 참고자료"
   ]
  },
  {
   "cell_type": "markdown",
   "metadata": {},
   "source": [
    "* [1] Judgment and Decision Making as a Skill: Learning, Development and Evolution - http://www.amazon.com/Judgment-Decision-Making-Skill-Development/dp/1107676525\n",
    "* [2] https://en.wikipedia.org/wiki/Daniel_Kahneman\n",
    "* [3] https://en.wikipedia.org/wiki/Gerd_Gigerenzer\n",
    "* [4] 생각에 관한 생각 - http://www.kyobobook.co.kr/product/detailViewKor.laf?ejkGb=KOR&mallGb=KOR&barcode=9788934956150\n",
    "* [5] 지금 생각이 답이다 - http://www.kyobobook.co.kr/product/detailViewKor.laf?ejkGb=KOR&mallGb=KOR&barcode=9791155400166\n",
    "* [6] Functional psychology or functionalism - https://en.wikipedia.org/wiki/Functional_psychology"
   ]
  }
 ],
 "metadata": {
  "kernelspec": {
   "display_name": "Python 2",
   "language": "python",
   "name": "python2"
  },
  "language_info": {
   "codemirror_mode": {
    "name": "ipython",
    "version": 2
   },
   "file_extension": ".py",
   "mimetype": "text/x-python",
   "name": "python",
   "nbconvert_exporter": "python",
   "pygments_lexer": "ipython2",
   "version": "2.7.3"
  }
 },
 "nbformat": 4,
 "nbformat_minor": 0
}
