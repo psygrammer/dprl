{
 "cells": [
  {
   "cell_type": "markdown",
   "metadata": {},
   "source": [
    "# The evolved foundations of decision making"
   ]
  },
  {
   "cell_type": "markdown",
   "metadata": {},
   "source": [
    "* 싸이그래머+싸이지먼트 / 의사결정심리 [1]\n",
    "* 김무성"
   ]
  },
  {
   "cell_type": "markdown",
   "metadata": {},
   "source": [
    "<img src=\"figures/ctbl.png\" width=600 />"
   ]
  },
  {
   "cell_type": "markdown",
   "metadata": {},
   "source": [
    "# Contents"
   ]
  },
  {
   "cell_type": "markdown",
   "metadata": {},
   "source": [
    "* Introduction\n",
    "* The evolved foundations of decision making\n",
    "* Adaptively important decision domains\n",
    "* Rational vs. irrational vs. evolved decision making\n",
    "* Profiting from an evolutionary perspective: the case of the hot-hand phenomenon\n",
    "* Conclusions: how to evolutionize JDM research"
   ]
  },
  {
   "cell_type": "markdown",
   "metadata": {},
   "source": [
    "<img src=\"http://cfs3.tistory.com/upload_control/download.blog?fhandle=YmxvZzEwNzUzNkBmczMudGlzdG9yeS5jb206L2F0dGFjaC8wLzE0MDAwMDAwMDAwMi5ibXA%3D\" /> "
   ]
  },
  {
   "cell_type": "markdown",
   "metadata": {},
   "source": [
    "| |  | \n",
    "| ----- |------| \n",
    "|<img src=\"https://upload.wikimedia.org/wikipedia/commons/c/c8/Daniel_KAHNEMAN.jpg\" /> | <img src=\"http://www.dfg.de/zentralablage/bilder/gefoerderte_projekte/preistraeger/communicator/communicator_2011/gerd_gigerenzer.jpg\" width=150 />  | \n",
    "|<img src=\"http://image.kyobobook.co.kr/images/book/xlarge/150/x9788934956150.jpg\" width=350/>| <img src=\"http://image.kyobobook.co.kr/images/book/xlarge/166/x9791155400166.jpg\" width=350 />  | \n",
    "|<img src=\"http://www.federalreserve.gov/pubs/feds/2010/201025/fig2.gif\" width=450 /> |<img src=\"https://www.mpib-berlin.mpg.de/volltexte/institut/dok/full/gg/ggpogmdm_/ggpogmdm_02.gif\" width=450 /> |"
   ]
  },
  {
   "cell_type": "markdown",
   "metadata": {
    "collapsed": true
   },
   "source": [
    "# Introduction"
   ]
  },
  {
   "cell_type": "markdown",
   "metadata": {},
   "source": [
    "* <font color=\"red\">Decision making</font> involves <font color=\"red\">using information to guide behavior</font> among multiple possible courses of <font color=\"red\">action</font>.\n",
    "* <font color=\"red\">Evolution</font> cannot shape individual choices one by one, but <font color=\"red\">it can create information-processing mechanisms</font> that will <font color=\"red\">reliably produce particular kinds of choices</font> – adaptive ones – as outputs in specific <font color=\"blue\">environments and situations that provide characteristic cues as inputs</font> (Tooby & Cosmides, 1992; Gigerenzer & Todd, 1999)\n",
    "* <font color=\"red\">The study of decision making</font> thus should <font color=\"red\">build on an understanding</font> of the <font color=\"blue\">evolutionary foundations</font> of decision mechanisms.\n",
    "* In this chapter, we explore those foundations and how they can inform judgment and decision making research.\n",
    "* We begin by considering the nature of the <font color=\"red\">evolved components</font> that enable <font color=\"red\">adaptive decision making</font>: <font color=\"blue\">capacities</font>, <font color=\"blue\">building blocks</font>, and <font color=\"blue\">decision mechanisms themselves</font>.\n",
    "* we discuss the ways that the functional, <font color=\"red\">adaptive perspective on human decision making</font> can be <font color=\"red\">reconciled</font> with the common view in the <font color=\"blue\">JDM world that people are mightily</font> <font color=\"red\">irrational</font>.\n",
    "* Next, to show how an <font color=\"red\">evolutionary perspective</font> can lead to <font color=\"red\">new insights</font> and experiments in JDM research, we go into a <font color=\"red\">particular example</font> in some detail: understanding the hot-hand phenomenon. Finally, we conclude with further directions for studying judgment and decision making by taking its evolutionary origins into account."
   ]
  },
  {
   "cell_type": "markdown",
   "metadata": {},
   "source": [
    "<img src=\"http://pondside.uchicago.edu/~feder/research_files/image002.jpg\" />"
   ]
  },
  {
   "cell_type": "markdown",
   "metadata": {},
   "source": [
    "<img src=\"http://www.medicalexhibits.com/obrasky/2010/10109_01A.jpg\" width=600 />"
   ]
  },
  {
   "cell_type": "markdown",
   "metadata": {
    "collapsed": true
   },
   "source": [
    "# The evolved foundations of decision making"
   ]
  },
  {
   "cell_type": "markdown",
   "metadata": {},
   "source": [
    "* Adaptive goals\n",
    "* Evolved capacities and heuristics\n",
    "* Information structure in the environment\n",
    "* Shaping goals, tools, and behaviors"
   ]
  },
  {
   "cell_type": "markdown",
   "metadata": {},
   "source": [
    "Minds are adapted to make appropriate decisions in the environments in which they evolved."
   ]
  },
  {
   "cell_type": "markdown",
   "metadata": {},
   "source": [
    "* We can think about \n",
    "    - the impact of those environments \n",
    "    - on the workings of decision mechanisms \n",
    "    - for any particular species at three broad time-scales, roughly distinct but interacting. \n",
    "        - First, the <font color=\"red\">overarching demands of life</font> that have long held in our <font color=\"red\">general terrestrial environment</font> \n",
    "            - <font color=\"blue\">determined the adaptive goals</font> \n",
    "                - that much of <font color=\"red\">decision making is aimed at solving</font>. \n",
    "        - Second, <font color=\"red\">the species’ particular ancestral environment</font> \n",
    "            - <font color=\"blue\">determined</font> through its interaction <font color=\"red\">with evolution</font> the <font color=\"blue\">specific cognitive capacities</font> \n",
    "                - that an organism can bring to bear in making adaptive decisions. \n",
    "        - And third, the <font color=\"red\">current task environment</font> that any individual faces\n",
    "            - <font color=\"blue\">determines</font> <font color=\"red\">what</font> <font color=\"blue\">information structures</font> <font color=\"red\">are available</font> \n",
    "                -  to an organism’s evolved <font color=\"blue\">decision mechanisms</font> <font color=\"red\">for making particular choices</font>.\n"
   ]
  },
  {
   "cell_type": "markdown",
   "metadata": {},
   "source": [
    "* To provide an example that will allow us \n",
    "    - to illustrate these <font color=\"red\">different sources of environmental influence</font> on decision making, \n",
    "    - consider the problem of \n",
    "        - <font color=\"red\">deciding</font> \n",
    "            - which of <font color=\"blue\">two meals to eat</font> \n",
    "            - at a <font color=\"purple\">new restaurant</font>.\n",
    "        - The decision can be made on \n",
    "            - the basis of <font color=\"red\">pieces of information</font>, or cues, \n",
    "                - that you know or can find out about each meal, such as \n",
    "                    - whether each is made from local ingredients, \n",
    "                    - is vegetarian, \n",
    "                    - has less than your daily allotment of calories, \n",
    "                    - contains macadamia nuts, \n",
    "                    - and so on.\n",
    "    - Now the <font color=\"red\">question</font> is, <font color=\"red\">how should these cues</font> – of which there can be many, either in memory or available to look up externally – <font color=\"red\">be processed</font> <font color=\"blue\">to arrive at a decision</font> about the meal to have?"
   ]
  },
  {
   "cell_type": "markdown",
   "metadata": {},
   "source": [
    "* Simpler approaches \n",
    "    - would be to <font color=\"red\">ignore all of this information</font> and \n",
    "    - <font color=\"red\">just rely on</font>, for instance, whether you <font color=\"blue\">recognize one of the meals</font> and not the other, \n",
    "    - or on the meal <font color=\"blue\">choice of a friend</font> who has eaten at this place before. \n",
    "* Thus, you could rely on \n",
    "    - the <font color=\"red\">recognition heuristic</font> (Goldstein & Gigerenzer, 1999; 2002), \n",
    "        - which says when selecting between a recognized and an unrecognized option to\n",
    "pick the recognized one, \n",
    "    - or you could use a <font color=\"red\">social learning heuristic</font> \n",
    "        - to imitate the behavior of others (Boyd & Richerson, 1985). "
   ]
  },
  {
   "cell_type": "markdown",
   "metadata": {},
   "source": [
    "## Adaptive goals"
   ]
  },
  {
   "cell_type": "markdown",
   "metadata": {},
   "source": [
    "* <font color=\"red\">Evolutionary biology distinguishes</font> between \n",
    "    - <font color=\"blue\">proximal goals</font> (and)         \n",
    "        - There are many proximal goals, \n",
    "            - some more closely related to survival, \n",
    "                - such as \n",
    "                    - finding food \n",
    "                    - and avoiding predators, \n",
    "            - and others more associated with reproduction, \n",
    "                - such as \n",
    "                    - finding mates \n",
    "                    - and protecting offspring\n",
    "        - Different species will evolve different sets of proximal goals \n",
    "            - depending on their biological setting, including \n",
    "                - the ecology they are enmeshed in \n",
    "                - and the life history they have evolved to lead.\n",
    "    - <font color=\"blue\">ultimate goals</font>.\n",
    "        - The single ultimate goal, driving all of evolution, is \n",
    "            - reproduction – specifically, increasing the proportion of one’s genetic representation in future generations. \n",
    "        - Survival is only important insofar as it leads to increased reproduction for oneself or one’s kin.  \n"
   ]
  },
  {
   "cell_type": "markdown",
   "metadata": {},
   "source": [
    "* The mind’s “<font color=\"red\">adaptive toolbox</font>” (Gigerenzer, 2000) is \n",
    "    - filled with <font color=\"blue\">decision mechanisms</font> \n",
    "        - for achieving these <font color=\"blue\">proximal goals</font>, \n",
    "            - such as recognizing offspring (and which among humans can also be used for other modern tasks, such as recognition-based consumer choice)"
   ]
  },
  {
   "cell_type": "markdown",
   "metadata": {},
   "source": [
    "## Evolved capacities and heuristics"
   ]
  },
  {
   "cell_type": "markdown",
   "metadata": {},
   "source": [
    "* Capacities\n",
    "* Building blocks\n",
    "* Heuristics"
   ]
  },
  {
   "cell_type": "markdown",
   "metadata": {},
   "source": [
    "#### \"build-in\" VS \"learned\""
   ]
  },
  {
   "cell_type": "markdown",
   "metadata": {},
   "source": [
    "* Some of our decision mechanisms are evolved and essentially “<font color=\"red\">built-in</font>,” \n",
    "    - such as ducking when a looming object approaches; \n",
    "* others are <font color=\"red\">learned</font>, either \n",
    "    - through <font color=\"blue\">individual experience</font> \n",
    "    - or from <font color=\"blue\">other individuals</font> or one’s <font color=\"blue\">culture</font> (but all via learning mechanisms that are themselves ultimately evolved). \n",
    "* Many of the tools in the <font color=\"red\">adaptive toolbox</font> take the form of \n",
    "    - <font color=\"red\">simple heuristics</font>, \n",
    "        - which are <font color=\"blue\">rules of thumb</font> \n",
    "        - or decision-making <font color=\"blue\">shortcuts</font> to adaptive behavior \n",
    "        - that rely on \n",
    "            - <font color=\"blue\">little information</font> and \n",
    "            - <font color=\"blue\">little cognitive processing</font> (Gigerenzer, Todd & the ABC Research Group, 1999). \n",
    "    - <font color=\"red\">Heuristics</font> are typically composed of \n",
    "        - simpler <font color=\"blue\">building blocks</font>, \n",
    "            - which in turn rely on underlying \n",
    "                - <font color=\"blue\">evolved capacities</font>, \n",
    "                    - all of which have been <font color=\"red\">shaped</font> \n",
    "                        - by the species’ <font color=\"red\">evolutionary interaction</font> with <font color=\"blue\">particular environment structures</font>."
   ]
  },
  {
   "cell_type": "markdown",
   "metadata": {},
   "source": [
    "### Capacities"
   ]
  },
  {
   "cell_type": "markdown",
   "metadata": {},
   "source": [
    "* There are many evolved capacities that decision mechanisms can rely on, and different species will have different sets. \n",
    "* Some important classes of capacities include:\n",
    "    - perception \n",
    "        - e.g. tracking moving objects, \n",
    "        - orienting to sounds\n",
    "    - search \n",
    "        - e.g. exploring to find resources,\n",
    "        - staying in a local area to exploit found resource patches\n",
    "    - learning \n",
    "        - e.g. one-trial learning of dangerous objects, \n",
    "        - operant conditioning, \n",
    "        - imitating others\n",
    "    - memory \n",
    "        - e.g. recognizing individuals or names,\n",
    "        - recalling important features of objects,\n",
    "        - forgetting unnecessary information \n",
    "    - social intelligence \n",
    "        - e.g. cooperating with kin or others,\n",
    "        - tracking status and reputation,\n",
    "        - identifying with a group"
   ]
  },
  {
   "cell_type": "markdown",
   "metadata": {},
   "source": [
    "### Building blocks"
   ]
  },
  {
   "cell_type": "markdown",
   "metadata": {},
   "source": [
    "* Decision heuristics can be <font color=\"red\">constructed from</font> building blocks, \n",
    "    - including ones that \n",
    "        - guide the <font color=\"red\">search</font> for information or\n",
    "        - <font color=\"red\">choice alternatives</font> (or both), \n",
    "    - that stop that search process, \n",
    "    - and that make a decision based on the results of the search.\n",
    "* Building blocks themselves <font color=\"red\">draw on</font> an organism’s evolved capacities: \n",
    "    - for instance, “search for recognition knowledge” \n",
    "        - is a building block of the recognition heuristic that \n",
    "            - employs the ability to recognize objects encountered in the past. \n",
    "* The simpler a building block is, the easier it may be to <font color=\"red\">combine with</font> others and the more widely it may be used. \n",
    "* Different building blocks, like the heuristics they compose, will perform <font color=\"red\">better or worse</font> in particular <font color=\"red\">environments</font>."
   ]
  },
  {
   "cell_type": "markdown",
   "metadata": {},
   "source": [
    "* Examples\n",
    "    - search building block\n",
    "        - The first well-studied category of building block comprises those that control the search for the information or alternatives upon which decision making strategies act \n",
    "    - stop-search building block\n",
    "        - The next important class of building blocks serves to stop the decision maker’s search.\n",
    "            - one-reason decision making\n",
    "    - inference building block\n",
    "        - Finally, once search has been guided to find the appropriate alternatives or information and then been stopped, a third type of building block can be called upon to make an inference (or choice) based on the results of the search.\n",
    "        - These decision rules can also be very simple and computationally bounded, for instance using only one cue or reason, whatever the total number of cues found during search (Bröder, forthcoming). \n",
    "        - Such single-cue decision making does not need to weight or combine cues, and so no common currency between cues need be determined. "
   ]
  },
  {
   "cell_type": "markdown",
   "metadata": {},
   "source": [
    "### Heuristics"
   ]
  },
  {
   "cell_type": "markdown",
   "metadata": {},
   "source": [
    "* Heuristics are where the rubber meets the road, or <font color=\"red\">where the mind meets the environment</font>, by making the decisions that guide action in the world.\n",
    "* They process \n",
    "    - the patterns of information available \n",
    "    - from the environment, \n",
    "    - via their building blocks \n",
    "        - based on evolved abilities, \n",
    "    - to produce the agent’s goal-directed behavior.\n",
    "* Thus, it is at this level that we expect to see the closest fit between mind and world, the hallmark of <font color=\"red\">ecological rationality</font>."
   ]
  },
  {
   "cell_type": "markdown",
   "metadata": {},
   "source": [
    "## Information structure in the environment"
   ]
  },
  {
   "cell_type": "markdown",
   "metadata": {},
   "source": [
    "* The patterns of information that decision mechanisms operate on can arise from a variety of environmental processes, including \n",
    "    - physical, \n",
    "    - biological, \n",
    "    - social, and \n",
    "    - cultural sources."
   ]
  },
  {
   "cell_type": "markdown",
   "metadata": {},
   "source": [
    "* physical environment\n",
    "    - Patterns of information from the physical environment (e.g. daily light/ dark cycles and three-dimensional movement patterns – Shepard, 2001) have had the longest impact on evolving behavior. \n",
    "    - Many of these patterns can be characterized by \n",
    "        - cue validities \n",
    "            - (how often particular cues yield accurate decisions), \n",
    "        - redundancies \n",
    "            - (correlations between different cue values), and \n",
    "        - discrimination rates \n",
    "            - (how often particular cues distinguish between alternatives, regardless of their accuracy). \n",
    "        - The distribution of particular events\n",
    "            - (such as whether rain is common or rare) \n",
    "            - also influences the mechanisms that people use to reason about them"
   ]
  },
  {
   "cell_type": "markdown",
   "metadata": {},
   "source": [
    "* biological environment\n",
    "    - Similar patterns can be exploited in biological environments \n",
    "        - comprising members of other species in roles of predators, prey, and parasites\n",
    "            - for instance, the distribution of cue success (combining validity and discrimination rate) can be used to categorize different species \n",
    "    - Furthermore, the spatiotemporal patterns of items, \n",
    "        - including how they are spread across patches such as fruits clustered on bushes, \n",
    "        - can determine \n",
    "            - what search heuristic will work best for deciding \n",
    "            - when to stop search or \n",
    "            - when to switch from one patch to the next"
   ]
  },
  {
   "cell_type": "markdown",
   "metadata": {},
   "source": [
    "* Social environment\n",
    "    - Social environments are also critically important, especially for humans. \n",
    "    - We can use heuristics to make ecologically rational decisions about \n",
    "        - other people as potential mates, \n",
    "            - based on the sequential pattern of people we have previously encountered (Todd & Miller, 1999), \n",
    "        - or about other people as potential coalition partners, \n",
    "            - based on our own and others’ levels of strength (Benenson et al., 2009) \n",
    "        - or the available reputational information (Hess & Hagen, 2006). \n",
    "    - Much of the information we use in decision making also comes from others, \n",
    "        - including via \n",
    "            - friends \n",
    "            - or other social contacts, \n",
    "            - which can create useful patterns in knowledge."
   ]
  },
  {
   "cell_type": "markdown",
   "metadata": {},
   "source": [
    "* cultural environment\n",
    "    - Environment structures \n",
    "        - can also arise over time <font color=\"red\">in cultures</font>, \n",
    "        - or be deliberately created <font color=\"red\">by institutions</font>, \n",
    "        - to influence the behavior of others.\n",
    "    - Cultural systems such as <font color=\"red\">age-at-marriage norms</font> provide an example:\n",
    "        - Billari, Prskawetz & Fürnkranz (2003) used an agent-based model in which norms were used as an agent’s built-in constraint, \n",
    "            - such as that marrying happened within a specific age interval rather than during the full course of that agent’s life.\n",
    "            - In their simulations, \n",
    "                - age-at-marriage norms stabilized in the population and persisted in the long run. \n",
    "                - This shows that norms can be important in shaping the life of an individual and provide a simple guide to decision making in an otherwise complex environment. \n",
    "    - <font color=\"red\">In modern institutions</font>, <font color=\"red\">direct design of rules</font> for behavior is sometimes  <font color=\"red\">felicitous</font>, \n",
    "        - as when governments design structures that <font color=\"red\">work well with our evolved decision mechanisms</font>, \n",
    "            - such as defaults that get more citizens to donate organs (Johnson & Goldstein, 2003), \n",
    "            - or traffic laws for intersection right-of-way set up in a hierarchical manner that matches our one reason decision mechanisms (Bennis et al., forthcoming).\n",
    "        -  In other cases, \n",
    "            - institutions create environment structures that <font color=\"red\">do not fit well</font> with people’s decision mechanisms, and instead can cloud minds and lead to <font color=\"red\">poor choices</font>.             \n"
   ]
  },
  {
   "cell_type": "markdown",
   "metadata": {},
   "source": [
    "## Shaping goals, tools, and behaviors"
   ]
  },
  {
   "cell_type": "markdown",
   "metadata": {},
   "source": [
    "* To summarize, the structure of the environment \n",
    "    - can influence \n",
    "        - an organism’s proximal goals, \n",
    "        - the toolbox of capacities, \n",
    "        - building blocks, and\n",
    "        - heuristics \n",
    "            - that the organism relies on, \n",
    "        - and the decisions \n",
    "            - that the organism makes as it encounters its world.\n",
    "* But it is not exactly the same environment that impacts \n",
    "    - at these three points: \n",
    "        - the ancient environment in which the organism’s ancestors evolved \n",
    "            - <font color=\"red\">shaped</font> its goals and tools, \n",
    "        - while the environment it currently \n",
    "            - <font color=\"red\">inhabits</font> affects its present decisions.\n",
    "* Thus, it is important to \n",
    "    - <font color=\"red\">distinguish between past and present</font> environments \n",
    "    - when considering <font color=\"red\">how decision mechanisms evolved</font>, \n",
    "    - for the former may act in the latter"
   ]
  },
  {
   "cell_type": "markdown",
   "metadata": {
    "collapsed": true
   },
   "source": [
    "# Adaptively important decision domains   "
   ]
  },
  {
   "cell_type": "markdown",
   "metadata": {},
   "source": [
    "* Evolutionarily important decision-making problems at the level of the individual\n",
    "* Evolutionarily important decision-making problems at the level of the social group"
   ]
  },
  {
   "cell_type": "markdown",
   "metadata": {},
   "source": [
    "#### Scientists studying the evolution of behavior are \n",
    "* concerned \n",
    "    - with the adaptive problems and \n",
    "    - selective pressures \n",
    "        - our ancestors encountered in their environments, \n",
    "    - the psychological mechanisms \n",
    "        - that evolved to help them solve those problems, \n",
    "    - and the way those evolved mechanisms function in current environments \n",
    "* Consequently, \n",
    "    - evolutionary scholars stress the role of <font color=\"red\">domain-specificity</font> \n",
    "        - in the functional organization of the mind \n",
    "     - and that human cognition is not well understood \n",
    "         - when seeing it as a <font color=\"red\">general-purpose problem solver</font>.  "
   ]
  },
  {
   "cell_type": "markdown",
   "metadata": {},
   "source": [
    "#### These two key principles \n",
    "* have an important implication for the study of human decision making, namely, that researchers must pay attention to the kinds of <font color=\"red\">decision-making domains</font> that were \n",
    "    - <font color=\"blue\">evolutionarily important</font>, \n",
    "        - as it was within those adaptive problem domains \n",
    "    - where domain-specific decision mechanisms got adapted to <font color=\"blue\">particular environment structures</font> (which may or may not any more match the statistical regularities of modern environments; see above). "
   ]
  },
  {
   "cell_type": "markdown",
   "metadata": {},
   "source": [
    "#### Typically, these adaptive problems domains \n",
    "* cluster around decision-making areas such as \n",
    "    - finding food and shelter, \n",
    "    - finding a mate, \n",
    "    - problems of parenting and \n",
    "    - kinship, and \n",
    "    - cooperation. \n",
    "* For the purpose of this chapter, however, we will focus on \n",
    "    - how these decision-making problems \n",
    "        - relate to \n",
    "            - the <font color=\"red\">level of the individual</font> and \n",
    "            - the <font color=\"red\">level of the social group</font>."
   ]
  },
  {
   "cell_type": "markdown",
   "metadata": {},
   "source": [
    "## Evolutionarily important decision-making problems at the level of the individual"
   ]
  },
  {
   "cell_type": "markdown",
   "metadata": {},
   "source": [
    "* Many examples of <font color=\"red\">ecologically rational decision-making mechanisms</font> in humans are to be found when the individual has to meet its <font color=\"red\">caloric requirements</font> for survival and navigate itself in a harsh and dangerous environment.\n",
    "    - Scheibehenne, Miesler & Todd (2007), for instance, could show that \n",
    "        - a <font color=\"red\">simple lexicographic strategy</font> is as good as \n",
    "            - more <font color=\"blue\">complex models</font> \n",
    "            - in predicting what kind of <font color=\"red\">lunch choices</font> people make \n",
    "                - when having to choose among an item set of 20 different lunch options.\n",
    "    - Saad & Russo (1996) \n",
    "        - investigated <font color=\"red\">stopping rules</font> \n",
    "            - in people <font color=\"red\">searching for suitable habitats</font> and \n",
    "        - found that \n",
    "            - most participants don’t have constant, but rather <font color=\"red\">adaptive thresholds</font> \n",
    "                - when determining when to stop acquiring more information, \n",
    "                - and that they used a <font color=\"red\">core attribute heuristic</font> \n",
    "                    - to simplify the amount of calculation required for their threshold-based stopping policy."
   ]
  },
  {
   "cell_type": "markdown",
   "metadata": {},
   "source": [
    "## Evolutionarily important decision-making problems at the level of the social group"
   ]
  },
  {
   "cell_type": "markdown",
   "metadata": {},
   "source": [
    "* For organisms that care for their offspring and live in social groups, such as humans, \n",
    "    - there are additional basic proximal goals, \n",
    "        - including \n",
    "            - protecting offspring, \n",
    "            - forming coalitions, \n",
    "            - achieving status, and \n",
    "            - finding a mate. \n",
    "* The adaptive toolbox of a social species contains a <font color=\"red\">repertoire of social heuristics</font> for solving these kinds of proximal goals.\n",
    "* Lieberman, Tooby & Cosmides (2007) studied\n",
    "    - the evolved decision-making mechanisms \n",
    "        - that humans have to assess genetic relatedness.\n",
    "    - They theorized that <font color=\"red\">human kin detection mechanisms</font> \n",
    "        - must have a way of computing a kinship index that \n",
    "            - corresponds to the genetic relatedness \n",
    "            - between \n",
    "                - the self and \n",
    "                - the other (familiar) individual. \n",
    "    - Multiple empirical tests \n",
    "        - on more than 600 subjects \n",
    "        - showed \n",
    "            - that the kin detection system apparently uses \n",
    "                - <font color=\"red\">two distinct cues</font> to compute genetic relatedness: \n",
    "                    - the familiar other’s <font color=\"red\">perinatal association</font> with the individual’s biological mother \n",
    "                    - and the <font color=\"red\">duration of sibling coresidence</font>. \n",
    "                - Such cues for genetic relatedness are also important in grandparental decisions in how\n",
    "many resources they invest in their grandchildren. \n",
    "    - Everything else being the same, research has shown that maternal grandmothers invest more in grandchildren than other grandparents do and that grandparents <font color=\"red\">invest more</font> in <font color=\"red\">daughters’ children</font> than in sons’ children, as the associated uncertainty about their genetic relatedness to their grandchildren is minimized\n",
    "* <font color=\"red\">Once kinship is detected or assumed </font>to be present, it can <font color=\"red\">affect the outcome of social decision-making scenarios</font>.\n",
    "* Wang (1996a; b) and Wang & Johnston (1995) \n",
    "    - revisited the hypothetical <font color=\"red\">life–death decision problem</font> known as the Asian disease problem in which subjects have to choose among two medical treatment plans for 600 anonymous people (see Tversky & Kahneman, 1981).\n",
    "    - Wang and colleagues argued that \n",
    "        - subjects might have had difficulties reasoning \n",
    "            - in such a novel and naïve group context. \n",
    "         - Over evolutionary time, <font color=\"red\">humans lived in much smaller groups</font>,\n",
    "             - about 100–150 individuals (see Dunbar, 1993), \n",
    "             - where, unlike modern environments, the presence of kin was very common. \n",
    "    - When Wang and colleagues \n",
    "        - administered a <font color=\"red\">modified version of the Asian disease problem</font> to research subjects \n",
    "            – a version where group decisions varied by no more than <font color=\"red\">6 or 60 lives (i.e. an evolutionary typical small-group context)</font> \n",
    "            – the <font color=\"blue\">framing effect disappeared</font>.   \n"
   ]
  },
  {
   "cell_type": "markdown",
   "metadata": {
    "collapsed": true
   },
   "source": [
    "# Rational vs. irrational vs. evolved decision making"
   ]
  },
  {
   "cell_type": "markdown",
   "metadata": {},
   "source": [
    "* When adaptive benefits outweigh irrational costs – error management theory\n",
    "* When evolved mechanisms act in appropriate environments – ecological rationality"
   ]
  },
  {
   "cell_type": "markdown",
   "metadata": {},
   "source": [
    "#### The common view among researchers studying judgment and decision making \n",
    "* is that human reasoning is biased through our use of often inappropriate heuristics (Tversky & Kahneman, 1974; Kahneman & Tversky, 1996), and that people are consequently irrational in much of what we do (Ariely, 2008).\n",
    "* <font color=\"red\">But how can this be, if we evolved to make adaptive decisions?</font>\n",
    "    - First, \n",
    "        - the instances of irrational behavior we sometimes see people engaged in may be <font color=\"red\">outweighed</font> <font color=\"blue\">by the benefits of avoiding more costly errors</font>.\n",
    "    - Second, \n",
    "        - our decision heuristics that seem inappropriate <font color=\"red\">in specific modern settings</font> may be designed by evolution for use in different environmental situations, where they perform well."
   ]
  },
  {
   "cell_type": "markdown",
   "metadata": {},
   "source": [
    "## When adaptive benefits outweigh irrational costs – error management theory"
   ]
  },
  {
   "cell_type": "markdown",
   "metadata": {},
   "source": [
    "* People can make adaptive decisions using simple mechanisms and reliable cues, but they are still at risk of making errors. \n",
    "* Although completely eliminating errors is rarely possible in the context of decision making, it is possible to systematically commit one type of error over another."
   ]
  },
  {
   "cell_type": "markdown",
   "metadata": {},
   "source": [
    "## When evolved mechanisms act in appropriate environments – ecological rationality"
   ]
  },
  {
   "cell_type": "markdown",
   "metadata": {},
   "source": [
    "* Another seeming irrationality occurs when decision mechanisms that work fine in appropriate environments are invoked in inappropriate environments and the principle of ecological rationality is violated.\n",
    "* Ecological rationality describes the match between structure and representation of information in the environment on one side, and decision-making algorithms such as heuristics on the other. \n",
    "* Whenever this match exists, heuristics can perform well "
   ]
  },
  {
   "cell_type": "markdown",
   "metadata": {
    "collapsed": true
   },
   "source": [
    "# Profiting from an evolutionary perspective: the case of the hot-hand phenomenon"
   ]
  },
  {
   "cell_type": "markdown",
   "metadata": {},
   "source": [
    "* As an example of the benefits of taking an evolutionary perspective for understanding a particular domain of decision making, we now turn to a phenomenon that has generated much debate and a number of proposed explanations with little overarching conceptual coherence.\n",
    "* A large body of research in psychology suggests that people have difficulty thinking about randomness and often perceive systematic patterns in series of independent events (e.g. Falk & Konold, 1997; Nickerson, 2002; Oskarsson et al.,2009). "
   ]
  },
  {
   "cell_type": "markdown",
   "metadata": {},
   "source": [
    "# Conclusions: how to evolutionize JDM research"
   ]
  },
  {
   "cell_type": "markdown",
   "metadata": {},
   "source": [
    "* The decision mechanisms generating the human behavior that we study did not arise through mathematical derivation of the optimal way to process information and make choices; rather, they evolved through successive tinkering within a framework of biological and cultural constraints to meet, as well as possible, the adaptive challenges that face us (and faced our ancestors) in particular environments and domains. In this chapter we have illustrated how the field of judgment and decision making will benefit from adding this evolutionary perspective to its research approach."
   ]
  },
  {
   "cell_type": "markdown",
   "metadata": {},
   "source": [
    "# 참고자료"
   ]
  },
  {
   "cell_type": "markdown",
   "metadata": {},
   "source": [
    "* [1] Judgment and Decision Making as a Skill: Learning, Development and Evolution - http://www.amazon.com/Judgment-Decision-Making-Skill-Development/dp/1107676525\n",
    "* [2] https://en.wikipedia.org/wiki/Daniel_Kahneman\n",
    "* [3] https://en.wikipedia.org/wiki/Gerd_Gigerenzer\n",
    "* [4] 생각에 관한 생각 - http://www.kyobobook.co.kr/product/detailViewKor.laf?ejkGb=KOR&mallGb=KOR&barcode=9788934956150\n",
    "* [5] 지금 생각이 답이다 - http://www.kyobobook.co.kr/product/detailViewKor.laf?ejkGb=KOR&mallGb=KOR&barcode=9791155400166\n",
    "* [6] Functional psychology or functionalism - https://en.wikipedia.org/wiki/Functional_psychology"
   ]
  }
 ],
 "metadata": {
  "kernelspec": {
   "display_name": "Python 2",
   "language": "python",
   "name": "python2"
  },
  "language_info": {
   "codemirror_mode": {
    "name": "ipython",
    "version": 2
   },
   "file_extension": ".py",
   "mimetype": "text/x-python",
   "name": "python",
   "nbconvert_exporter": "python",
   "pygments_lexer": "ipython2",
   "version": "2.7.3"
  }
 },
 "nbformat": 4,
 "nbformat_minor": 0
}
