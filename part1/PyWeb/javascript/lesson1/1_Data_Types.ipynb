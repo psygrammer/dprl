{
 "cells": [
  {
   "cell_type": "markdown",
   "metadata": {
    "collapsed": true
   },
   "source": [
    "# Lesson 1 - Data Types"
   ]
  },
  {
   "cell_type": "markdown",
   "metadata": {},
   "source": [
    "# Contents"
   ]
  },
  {
   "cell_type": "markdown",
   "metadata": {
    "collapsed": true
   },
   "source": [
    "* var loveJS = true;\n",
    "* save and .append() Data\n",
    "* string.replace()\n",
    "* Mixing .replace() and .append()\n",
    "* Format Data, Build a Resume Header\n",
    "* String Manipulation Quiz 1\n",
    "* Truthy/Falsy\n",
    "* var quiz = true;\n",
    "* Arrays\n",
    "* .append()ing Arrays Quiz\n",
    "* Array Manipulation\n",
    "* String Manipulation 2\n",
    "* Object Literal Notation\n",
    "* Biography Quiz\n",
    "* Dot and Bracket Notation\n",
    "* Practice with Objects Quiz\n",
    "* A Note about JSON\n",
    "* JSON\n",
    "* Validating JSON\n",
    "* Validating JSON Quiz\n",
    "* All the Resume Sections Quiz"
   ]
  },
  {
   "cell_type": "markdown",
   "metadata": {},
   "source": [
    "# var loveJS = true;"
   ]
  },
  {
   "cell_type": "markdown",
   "metadata": {},
   "source": [
    "# save and .append() Data"
   ]
  },
  {
   "cell_type": "markdown",
   "metadata": {},
   "source": [
    "# string.replace()"
   ]
  },
  {
   "cell_type": "markdown",
   "metadata": {},
   "source": [
    "# Mixing .replace() and .append()"
   ]
  },
  {
   "cell_type": "markdown",
   "metadata": {},
   "source": [
    "# Format Data, Build a Resume Header"
   ]
  },
  {
   "cell_type": "markdown",
   "metadata": {},
   "source": [
    "# String Manipulation Quiz 1"
   ]
  },
  {
   "cell_type": "code",
   "execution_count": 4,
   "metadata": {
    "collapsed": false
   },
   "outputs": [
    {
     "name": "stdout",
     "output_type": "stream",
     "text": [
      "u\n",
      "U\n",
      "dacity\n",
      "Udacity\n"
     ]
    }
   ],
   "source": [
    "var s = \"audacity\";\n",
    "\n",
    "console.log(s[1])\n",
    "console.log(s[1].toUpperCase())\n",
    "\n",
    "console.log(s.slice(2))\n",
    "\n",
    "s = s[1].toUpperCase() + s.slice(2);\n",
    "console.log(s)"
   ]
  },
  {
   "cell_type": "code",
   "execution_count": null,
   "metadata": {
    "collapsed": true
   },
   "outputs": [],
   "source": []
  },
  {
   "cell_type": "markdown",
   "metadata": {},
   "source": [
    "# Truthy/Falsy"
   ]
  },
  {
   "cell_type": "markdown",
   "metadata": {},
   "source": [
    "# var quiz = true;"
   ]
  },
  {
   "cell_type": "markdown",
   "metadata": {},
   "source": [
    "# Arrays"
   ]
  },
  {
   "cell_type": "markdown",
   "metadata": {},
   "source": [
    "# .append()ing Arrays Quiz"
   ]
  },
  {
   "cell_type": "markdown",
   "metadata": {},
   "source": [
    "# Array Manipulation"
   ]
  },
  {
   "cell_type": "markdown",
   "metadata": {},
   "source": [
    "# String Manipulation 2"
   ]
  },
  {
   "cell_type": "markdown",
   "metadata": {},
   "source": [
    "# Object Literal Notation"
   ]
  },
  {
   "cell_type": "markdown",
   "metadata": {},
   "source": [
    "# Biography Quiz"
   ]
  },
  {
   "cell_type": "markdown",
   "metadata": {},
   "source": [
    "# Dot and Bracket Notation"
   ]
  },
  {
   "cell_type": "markdown",
   "metadata": {},
   "source": [
    "# Practice with Objects Quiz"
   ]
  },
  {
   "cell_type": "markdown",
   "metadata": {},
   "source": [
    "# A Note about JSON"
   ]
  },
  {
   "cell_type": "markdown",
   "metadata": {},
   "source": [
    "# JSON"
   ]
  },
  {
   "cell_type": "markdown",
   "metadata": {},
   "source": [
    "# Validating JSON"
   ]
  },
  {
   "cell_type": "markdown",
   "metadata": {},
   "source": [
    "# Validating JSON Quiz"
   ]
  },
  {
   "cell_type": "markdown",
   "metadata": {},
   "source": [
    "# All the Resume Sections Quiz"
   ]
  },
  {
   "cell_type": "markdown",
   "metadata": {},
   "source": [
    "# 참고자료"
   ]
  },
  {
   "cell_type": "markdown",
   "metadata": {
    "collapsed": true
   },
   "source": [
    "* [1] https://www.udacity.com/course/viewer#!/c-ud804/l-1930528550/m-1917728596\n",
    "* [2] jupyter의 자바스크립트 커널 설정 - https://github.com/minrk/jskernel"
   ]
  }
 ],
 "metadata": {
  "kernelspec": {
   "display_name": "Javascript",
   "language": "",
   "name": "jskernel"
  },
  "language_info": {
   "file_extension": ".js",
   "mimetype": "text/javascript",
   "name": "javascript"
  }
 },
 "nbformat": 4,
 "nbformat_minor": 0
}
