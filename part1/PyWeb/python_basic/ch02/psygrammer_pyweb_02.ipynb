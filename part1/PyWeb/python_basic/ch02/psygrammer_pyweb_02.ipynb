{
 "cells": [
  {
   "cell_type": "markdown",
   "metadata": {},
   "source": [
    "# psygrammer - dprl"
   ]
  },
  {
   "cell_type": "markdown",
   "metadata": {},
   "source": [
    "## 2015/08/24 2회차 정광윤: 파이썬 기초"
   ]
  },
  {
   "cell_type": "markdown",
   "metadata": {},
   "source": [
    "---"
   ]
  },
  {
   "cell_type": "markdown",
   "metadata": {},
   "source": [
    "### References"
   ]
  },
  {
   "cell_type": "markdown",
   "metadata": {},
   "source": [
    "- [손고리즘ML - 2015/05/11, 파이썬 보강(임은지)](http://nbviewer.ipython.org/github/songorithm/ML/blob/master/part1/study02/sp_python/pyPractice.ipynb)\n",
    "- [싸이그래머 : 생물심리Py(biopsypy) - 파이썬 기초 연습문제(김무성)](https://github.com/psygrammer/biopsypy/blob/master/python_basic/python_basic_exercise.ipynb)\n",
    "- [싸이그래머 : 생물심리Py(biopsypy) - 파이썬으로 네이버 실시간 급상승 검색어 가져오기(김무성)](https://github.com/psygrammer/biopsypy/blob/master/web/naverTopRank.py.ipynb)\n",
    "- [손고리즘 - [손고리즘-2] (다시 한번) 파이썬을 이용한 알고리즘 기초, 2015/08/24 8회차 정렬과 검색(Not Yet)](https://github.com/songorithm/basic-algorithms-season2)"
   ]
  },
  {
   "cell_type": "markdown",
   "metadata": {},
   "source": [
    "---"
   ]
  },
  {
   "cell_type": "markdown",
   "metadata": {},
   "source": [
    "## 1. Problem"
   ]
  },
  {
   "cell_type": "markdown",
   "metadata": {},
   "source": [
    "### 1.1 다음에서 주어진 문자열에서 모든 대문자를 소문자로 변환하고, 문자 ','와 '.'를 없앤 후에 각 단어를 순서대로 출력하시오."
   ]
  },
  {
   "cell_type": "markdown",
   "metadata": {},
   "source": [
    "source: [15/04/21/Psygrammer/Biopsypy/Python Basic/김무성님](https://github.com/psygrammer/biopsypy/blob/master/python_basic/python_basic_exercise.ipynb)"
   ]
  },
  {
   "cell_type": "code",
   "execution_count": 2,
   "metadata": {
    "collapsed": true
   },
   "outputs": [],
   "source": [
    "s = 'We propose to start by making it possible to teach programming in Python, \\\n",
    "an existing scripting language, and to focus on creating a new development environment and teaching materials for it'"
   ]
  },
  {
   "cell_type": "code",
   "execution_count": 14,
   "metadata": {
    "collapsed": false
   },
   "outputs": [
    {
     "data": {
      "text/plain": [
       "['we',\n",
       " 'propose',\n",
       " 'to',\n",
       " 'start',\n",
       " 'by',\n",
       " 'making',\n",
       " 'it',\n",
       " 'possible',\n",
       " 'to',\n",
       " 'teach',\n",
       " 'programming',\n",
       " 'in',\n",
       " 'python,',\n",
       " 'an',\n",
       " 'existing',\n",
       " 'scripting',\n",
       " 'language,',\n",
       " 'and',\n",
       " 'to',\n",
       " 'focus',\n",
       " 'on',\n",
       " 'creating',\n",
       " 'a',\n",
       " 'new',\n",
       " 'development',\n",
       " 'environment',\n",
       " 'and',\n",
       " 'teaching',\n",
       " 'materials',\n",
       " 'for',\n",
       " 'it']"
      ]
     },
     "execution_count": 14,
     "metadata": {},
     "output_type": "execute_result"
    }
   ],
   "source": [
    "# Write your code below.\n",
    "s.lower().split()"
   ]
  },
  {
   "cell_type": "markdown",
   "metadata": {},
   "source": [
    "### 1.2 위 문제 9에서 각 단어가 몇 번씩 나타났는가도 함께 출력해보시오."
   ]
  },
  {
   "cell_type": "markdown",
   "metadata": {},
   "source": [
    "source: [15/04/21/Psygrammer/Biopsypy/Python Basic/김무성님](https://github.com/psygrammer/biopsypy/blob/master/python_basic/python_basic_exercise.ipynb)"
   ]
  },
  {
   "cell_type": "code",
   "execution_count": 30,
   "metadata": {
    "collapsed": true
   },
   "outputs": [],
   "source": [
    "# Write your code below."
   ]
  },
  {
   "cell_type": "markdown",
   "metadata": {},
   "source": [
    "### 1.3 단어의 순서가 바뀐 문자열을 만들어라('child motherless a like fee I Sometimes')"
   ]
  },
  {
   "cell_type": "markdown",
   "metadata": {},
   "source": [
    "source: [15/04/21/Psygrammer/Biopsypy/Python Basic/김무성님](https://github.com/psygrammer/biopsypy/blob/master/python_basic/python_basic_exercise.ipynb)"
   ]
  },
  {
   "cell_type": "code",
   "execution_count": 68,
   "metadata": {
    "collapsed": true
   },
   "outputs": [],
   "source": [
    "s = 'Sometiems I feel like a motherless child'\n",
    "\n",
    "# Write your code below."
   ]
  },
  {
   "cell_type": "markdown",
   "metadata": {},
   "source": [
    "### 1.4 위 문자열의 앞뒤 순서를 완전히 바꾼 문자열을 만들어라. (dlihc ssel..)"
   ]
  },
  {
   "cell_type": "markdown",
   "metadata": {},
   "source": [
    "source: [15/04/21/Psygrammer/Biopsypy/Python Basic/김무성님](https://github.com/psygrammer/biopsypy/blob/master/python_basic/python_basic_exercise.ipynb)"
   ]
  },
  {
   "cell_type": "code",
   "execution_count": 30,
   "metadata": {
    "collapsed": true
   },
   "outputs": [],
   "source": [
    "# Write your code below."
   ]
  },
  {
   "cell_type": "markdown",
   "metadata": {},
   "source": [
    "### 1.5 Hashtag 추출해서 List에 담기"
   ]
  },
  {
   "cell_type": "markdown",
   "metadata": {},
   "source": [
    "source: 정광윤"
   ]
  },
  {
   "cell_type": "code",
   "execution_count": 13,
   "metadata": {
    "collapsed": true
   },
   "outputs": [],
   "source": [
    "# 게시글 제목\n",
    "title = \"On top of the world! Life is so fantastic if you just let it. I have never been happier. #nyc #newyork #vacation #traveling\"\n",
    "\n",
    "# Write your code below."
   ]
  },
  {
   "cell_type": "markdown",
   "metadata": {},
   "source": [
    "### 1.6 모스부호 해석하기"
   ]
  },
  {
   "cell_type": "markdown",
   "metadata": {},
   "source": [
    "source: codingdojang.com"
   ]
  },
  {
   "cell_type": "code",
   "execution_count": 12,
   "metadata": {
    "collapsed": true
   },
   "outputs": [],
   "source": [
    "# 모스부호\n",
    "dic = {\n",
    "    '.-':'A','-...':'B','-.-.':'C','-..':'D','.':'E','..-.':'F',\n",
    "    '--.':'G','....':'H','..':'I','.---':'J','-.-':'K','.-..':'L',\n",
    "    '--':'M','-.':'N','---':'O','.--.':'P','--.-':'Q','.-.':'R',\n",
    "    '...':'S','-':'T','..-':'U','...-':'V','.--':'W','-..-':'X',\n",
    "    '-.--':'Y','--..':'Z'\n",
    "}\n",
    " \n",
    "# 풀어야할 암호\n",
    "code = '.... .  ... .-.. . . .--. ...  . .- .-. .-.. -.--'\n",
    " \n",
    "# Write your code below."
   ]
  },
  {
   "cell_type": "markdown",
   "metadata": {},
   "source": [
    "### 1.7 Sorting Algorithm - Bubble Sort"
   ]
  },
  {
   "cell_type": "code",
   "execution_count": 5,
   "metadata": {
    "collapsed": true
   },
   "outputs": [],
   "source": [
    "from IPython.display import YouTubeVideo"
   ]
  },
  {
   "cell_type": "code",
   "execution_count": 7,
   "metadata": {
    "collapsed": false
   },
   "outputs": [
    {
     "data": {
      "text/html": [
       "\n",
       "        <iframe\n",
       "            width=\"400\"\n",
       "            height=\"300\"\n",
       "            src=\"https://www.youtube.com/embed/ZZuD6iUe3Pc\"\n",
       "            frameborder=\"0\"\n",
       "            allowfullscreen\n",
       "        ></iframe>\n",
       "        "
      ],
      "text/plain": [
       "<IPython.lib.display.YouTubeVideo at 0x10a98a090>"
      ]
     },
     "execution_count": 7,
     "metadata": {},
     "output_type": "execute_result"
    }
   ],
   "source": [
    "YouTubeVideo('ZZuD6iUe3Pc')"
   ]
  },
  {
   "cell_type": "markdown",
   "metadata": {},
   "source": [
    "![](http://interactivepython.org/runestone/static/pythonds/_images/bubblepass.png)"
   ]
  },
  {
   "cell_type": "markdown",
   "metadata": {},
   "source": [
    "![](http://interactivepython.org/runestone/static/pythonds/_images/swap.png)"
   ]
  },
  {
   "cell_type": "markdown",
   "metadata": {},
   "source": [
    "source: [Problem Solving with Algorithms and Data Structures](http://interactivepython.org/runestone/static/pythonds/SortSearch/TheBubbleSort.html)"
   ]
  },
  {
   "cell_type": "code",
   "execution_count": 14,
   "metadata": {
    "collapsed": true
   },
   "outputs": [],
   "source": [
    "alist = [54,26,93,17,77,31,44,55,20]\n",
    "\n",
    "# Write your code below."
   ]
  },
  {
   "cell_type": "markdown",
   "metadata": {},
   "source": [
    "---"
   ]
  },
  {
   "cell_type": "markdown",
   "metadata": {},
   "source": [
    "## 2. Object-Oriented Programming in Python"
   ]
  },
  {
   "cell_type": "markdown",
   "metadata": {},
   "source": [
    "### References"
   ]
  },
  {
   "cell_type": "markdown",
   "metadata": {},
   "source": [
    "- Python Essential Guide\n",
    "- Learning Python\n",
    "- Jump to python\n",
    "- [Problem-Solving-Algorithms-Structures](http://interactivepython.org/runestone/static/pythonds/index.html)"
   ]
  },
  {
   "cell_type": "markdown",
   "metadata": {},
   "source": [
    "### 2.1 클래스"
   ]
  },
  {
   "cell_type": "markdown",
   "metadata": {},
   "source": [
    "- 클래스는 일반적으로 Method(함수), Class Variable(변수)을  모아놓은 것이다.\n",
    "- 클래스는 인스턴스라고 부르는 객체에 연결된다."
   ]
  },
  {
   "cell_type": "markdown",
   "metadata": {},
   "source": [
    "**객체와 인스턴스의 차이는?**"
   ]
  },
  {
   "cell_type": "markdown",
   "metadata": {},
   "source": [
    "- 클래스에 의해서 만들어진 객체를 인스턴스라고도 한다.\n",
    "- 그렇다면 객체와 인스턴스의 차이는 무엇일까?\n",
    "- 이렇게 생각 해 보자. cat = Animal() 이렇게 만들어진 cat은 객체이다.\n",
    "- 그리고 cat이라는 객체는 Animal의 인스턴스(instance)이다.\n",
    "- 즉 인스턴스라는 말은 특정 객체(cat)가 어떤 클래스(Animal)의 객체인지를 관계위주로 설명할 때 사용된다.\n",
    "- 즉, “cat은 인스턴스” 보다는 “cat은 객체”라는 표현 이 “cat은 Animal의 객체” 보다는 “cat은 Animal의 인스턴스” 라 는 표현이 훨씬 잘 어울린다."
   ]
  },
  {
   "cell_type": "markdown",
   "metadata": {},
   "source": [
    "### 2.2 클래스 정의하기"
   ]
  },
  {
   "cell_type": "markdown",
   "metadata": {},
   "source": [
    "#### 클래스 만드는 방법"
   ]
  },
  {
   "cell_type": "markdown",
   "metadata": {},
   "source": [
    "```python\n",
    "class Sample(상속받을 부모 클래스):\n",
    "    pass\n",
    "```"
   ]
  },
  {
   "cell_type": "markdown",
   "metadata": {},
   "source": [
    "#### 예제"
   ]
  },
  {
   "cell_type": "code",
   "execution_count": 41,
   "metadata": {
    "collapsed": false
   },
   "outputs": [],
   "source": [
    "class FirstClass:\n",
    "    def setdata(self, value):\n",
    "        self.data = value\n",
    "    def display(self):\n",
    "        print(self.data)"
   ]
  },
  {
   "cell_type": "markdown",
   "metadata": {},
   "source": [
    "#### 인스턴스 만들기"
   ]
  },
  {
   "cell_type": "code",
   "execution_count": 42,
   "metadata": {
    "collapsed": true
   },
   "outputs": [],
   "source": [
    "x = FirstClass()\n",
    "y = FirstClass()"
   ]
  },
  {
   "cell_type": "code",
   "execution_count": 7,
   "metadata": {
    "collapsed": false
   },
   "outputs": [
    {
     "name": "stdout",
     "output_type": "stream",
     "text": [
      "<__main__.FirstClass instance at 0x104b0b170> <__main__.FirstClass instance at 0x104b0b830>\n"
     ]
    }
   ],
   "source": [
    "print x, y"
   ]
  },
  {
   "cell_type": "code",
   "execution_count": 8,
   "metadata": {
    "collapsed": false
   },
   "outputs": [
    {
     "ename": "AttributeError",
     "evalue": "FirstClass instance has no attribute 'data'",
     "output_type": "error",
     "traceback": [
      "\u001b[0;31m---------------------------------------------------------------------------\u001b[0m",
      "\u001b[0;31mAttributeError\u001b[0m                            Traceback (most recent call last)",
      "\u001b[0;32m<ipython-input-8-5b202a7f83ba>\u001b[0m in \u001b[0;36m<module>\u001b[0;34m()\u001b[0m\n\u001b[0;32m----> 1\u001b[0;31m \u001b[0mx\u001b[0m\u001b[0;34m.\u001b[0m\u001b[0mdata\u001b[0m\u001b[0;34m\u001b[0m\u001b[0m\n\u001b[0m",
      "\u001b[0;31mAttributeError\u001b[0m: FirstClass instance has no attribute 'data'"
     ]
    }
   ],
   "source": [
    "x.data"
   ]
  },
  {
   "cell_type": "code",
   "execution_count": 43,
   "metadata": {
    "collapsed": true
   },
   "outputs": [],
   "source": [
    "x.setdata(\"King\")"
   ]
  },
  {
   "cell_type": "code",
   "execution_count": 44,
   "metadata": {
    "collapsed": false
   },
   "outputs": [
    {
     "data": {
      "text/plain": [
       "'King'"
      ]
     },
     "execution_count": 44,
     "metadata": {},
     "output_type": "execute_result"
    }
   ],
   "source": [
    "x.data"
   ]
  },
  {
   "cell_type": "markdown",
   "metadata": {},
   "source": [
    "![](https://lh3.googleusercontent.com/d3UWgTHgUdkGwWKppY1tpsokhEAdATN6a6BInrEQd4Fc=w596-h300-no)"
   ]
  },
  {
   "cell_type": "code",
   "execution_count": 11,
   "metadata": {
    "collapsed": false
   },
   "outputs": [
    {
     "name": "stdout",
     "output_type": "stream",
     "text": [
      "King\n"
     ]
    }
   ],
   "source": [
    "x.display()"
   ]
  },
  {
   "cell_type": "code",
   "execution_count": 12,
   "metadata": {
    "collapsed": false
   },
   "outputs": [
    {
     "ename": "AttributeError",
     "evalue": "FirstClass instance has no attribute 'data'",
     "output_type": "error",
     "traceback": [
      "\u001b[0;31m---------------------------------------------------------------------------\u001b[0m",
      "\u001b[0;31mAttributeError\u001b[0m                            Traceback (most recent call last)",
      "\u001b[0;32m<ipython-input-12-ea9ec7df6aad>\u001b[0m in \u001b[0;36m<module>\u001b[0;34m()\u001b[0m\n\u001b[0;32m----> 1\u001b[0;31m \u001b[0my\u001b[0m\u001b[0;34m.\u001b[0m\u001b[0mdisplay\u001b[0m\u001b[0;34m(\u001b[0m\u001b[0;34m)\u001b[0m\u001b[0;34m\u001b[0m\u001b[0m\n\u001b[0m",
      "\u001b[0;32m<ipython-input-3-1edc15eb91a0>\u001b[0m in \u001b[0;36mdisplay\u001b[0;34m(self)\u001b[0m\n\u001b[1;32m      3\u001b[0m         \u001b[0mself\u001b[0m\u001b[0;34m.\u001b[0m\u001b[0mdata\u001b[0m \u001b[0;34m=\u001b[0m \u001b[0mvalue\u001b[0m\u001b[0;34m\u001b[0m\u001b[0m\n\u001b[1;32m      4\u001b[0m     \u001b[0;32mdef\u001b[0m \u001b[0mdisplay\u001b[0m\u001b[0;34m(\u001b[0m\u001b[0mself\u001b[0m\u001b[0;34m)\u001b[0m\u001b[0;34m:\u001b[0m\u001b[0;34m\u001b[0m\u001b[0m\n\u001b[0;32m----> 5\u001b[0;31m         \u001b[0;32mprint\u001b[0m\u001b[0;34m(\u001b[0m\u001b[0mself\u001b[0m\u001b[0;34m.\u001b[0m\u001b[0mdata\u001b[0m\u001b[0;34m)\u001b[0m\u001b[0;34m\u001b[0m\u001b[0m\n\u001b[0m",
      "\u001b[0;31mAttributeError\u001b[0m: FirstClass instance has no attribute 'data'"
     ]
    }
   ],
   "source": [
    "y.display()"
   ]
  },
  {
   "cell_type": "markdown",
   "metadata": {},
   "source": [
    "### 2.3 Why Use Classes?"
   ]
  },
  {
   "cell_type": "markdown",
   "metadata": {},
   "source": [
    "#### 1) Inheritance"
   ]
  },
  {
   "cell_type": "markdown",
   "metadata": {},
   "source": [
    "The common properties need to be implemented only once for the general case and can be reused."
   ]
  },
  {
   "cell_type": "markdown",
   "metadata": {},
   "source": [
    "![](https://lh3.googleusercontent.com/XDHAJHIwNErFRZzROTRP4a_p4ufzG0hZFLFVICB67rmS=w1080-h376-no)"
   ]
  },
  {
   "cell_type": "code",
   "execution_count": 13,
   "metadata": {
    "collapsed": true
   },
   "outputs": [],
   "source": [
    "class SecondClass(FirstClass):\n",
    "    pass"
   ]
  },
  {
   "cell_type": "code",
   "execution_count": 14,
   "metadata": {
    "collapsed": true
   },
   "outputs": [],
   "source": [
    "z = SecondClass()"
   ]
  },
  {
   "cell_type": "code",
   "execution_count": 16,
   "metadata": {
    "collapsed": false
   },
   "outputs": [
    {
     "name": "stdout",
     "output_type": "stream",
     "text": [
      "Queen\n"
     ]
    }
   ],
   "source": [
    "z.setdata(\"Queen\")\n",
    "z.display()"
   ]
  },
  {
   "cell_type": "markdown",
   "metadata": {},
   "source": [
    "#### 2) Composition"
   ]
  },
  {
   "cell_type": "markdown",
   "metadata": {},
   "source": [
    "For instance, pizza-making robots are really collections of components that work together as a team. It might need arms to roll dough, motors to maneuver to the oven, and so on. In OOP parlance, our robot is an example of composition; it contains other objects."
   ]
  },
  {
   "cell_type": "markdown",
   "metadata": {},
   "source": [
    "#### 3) Multiple Instances"
   ]
  },
  {
   "cell_type": "markdown",
   "metadata": {},
   "source": [
    "Classes are essentially factories for generating one or more objects"
   ]
  },
  {
   "cell_type": "code",
   "execution_count": 17,
   "metadata": {
    "collapsed": true
   },
   "outputs": [],
   "source": [
    "a = FirstClass()\n",
    "b = FirstClass()"
   ]
  },
  {
   "cell_type": "markdown",
   "metadata": {},
   "source": [
    "#### 4) Customization via inheritance"
   ]
  },
  {
   "cell_type": "markdown",
   "metadata": {},
   "source": [
    "We can extend a class by redefining its attributes outside the class itself in new software components coded as subclasses."
   ]
  },
  {
   "cell_type": "code",
   "execution_count": 18,
   "metadata": {
    "collapsed": true
   },
   "outputs": [],
   "source": [
    "class CustomizedFirstClass(FirstClass):\n",
    "    def display(self):\n",
    "        print self.data, \"!!!\""
   ]
  },
  {
   "cell_type": "code",
   "execution_count": 20,
   "metadata": {
    "collapsed": false
   },
   "outputs": [
    {
     "name": "stdout",
     "output_type": "stream",
     "text": [
      "It's new class !!!\n"
     ]
    }
   ],
   "source": [
    "a = CustomizedFirstClass()\n",
    "a.setdata(\"It's new class\")\n",
    "a.display()"
   ]
  },
  {
   "cell_type": "markdown",
   "metadata": {},
   "source": [
    "#### 5) Operator Overloading"
   ]
  },
  {
   "cell_type": "markdown",
   "metadata": {},
   "source": [
    "Classes can define objects that respond to the sorts of operations we saw at work on built-in types."
   ]
  },
  {
   "cell_type": "code",
   "execution_count": 50,
   "metadata": {
    "collapsed": true
   },
   "outputs": [],
   "source": [
    "class ThirdClass(SecondClass):\n",
    "    def __init__(self, value):\n",
    "        self.data = value\n",
    "    def __add__(self, other):\n",
    "        return ThirdClass(self.data + other)\n",
    "    def __str__(self):\n",
    "        return '[ThirdClass: %s]' % self.data"
   ]
  },
  {
   "cell_type": "code",
   "execution_count": 51,
   "metadata": {
    "collapsed": false
   },
   "outputs": [
    {
     "name": "stdout",
     "output_type": "stream",
     "text": [
      "[ThirdClass: 10]\n"
     ]
    }
   ],
   "source": [
    "a = ThirdClass(10)  # __initi__\n",
    "print a  # __str__"
   ]
  },
  {
   "cell_type": "code",
   "execution_count": 52,
   "metadata": {
    "collapsed": false
   },
   "outputs": [
    {
     "name": "stdout",
     "output_type": "stream",
     "text": [
      "[ThirdClass: 13]\n"
     ]
    }
   ],
   "source": [
    "print a + 3  # __add__"
   ]
  },
  {
   "cell_type": "markdown",
   "metadata": {},
   "source": [
    "![](https://lh3.googleusercontent.com/MeZpVbk1ojiMmfQz4dgSePqzEfee0fDPq1dENO9-97bw=w366-h276-no)"
   ]
  },
  {
   "cell_type": "code",
   "execution_count": 84,
   "metadata": {
    "collapsed": false
   },
   "outputs": [],
   "source": [
    "class Fraction:\n",
    "    def __init__(self, top, bottom):\n",
    "        self.num = top\n",
    "        self.den = bottom\n",
    "        \n",
    "    def __str__(self):\n",
    "        return str(self.num)+\"/\"+str(self.den)\n",
    "    \n",
    "    def __add__(self,otherfraction):\n",
    "        newnum = self.num*otherfraction.den + self.den*otherfraction.num\n",
    "        newden = self.den * otherfraction.den\n",
    "        return Fraction(newnum,newden)"
   ]
  },
  {
   "cell_type": "code",
   "execution_count": 88,
   "metadata": {
    "collapsed": false
   },
   "outputs": [
    {
     "name": "stdout",
     "output_type": "stream",
     "text": [
      "3/5 2/4\n"
     ]
    }
   ],
   "source": [
    "myfraction1 = Fraction(3, 5)\n",
    "myfraction2 = Fraction(2, 4)\n",
    "print myfraction1, myfraction2"
   ]
  },
  {
   "cell_type": "code",
   "execution_count": 89,
   "metadata": {
    "collapsed": false
   },
   "outputs": [
    {
     "name": "stdout",
     "output_type": "stream",
     "text": [
      "22/20\n"
     ]
    }
   ],
   "source": [
    "result = myfraction1 + myfraction2\n",
    "print result"
   ]
  },
  {
   "cell_type": "markdown",
   "metadata": {},
   "source": [
    "<center>![](http://interactivepython.org/runestone/static/pythonds/_images/fraction2.png)\n",
    "An Instance of the Fraction Class with Two Methods</center>"
   ]
  },
  {
   "cell_type": "markdown",
   "metadata": {},
   "source": [
    "### 2.4 메서드 종류"
   ]
  },
  {
   "cell_type": "markdown",
   "metadata": {},
   "source": [
    "#### 1. Special Method"
   ]
  },
  {
   "cell_type": "markdown",
   "metadata": {},
   "source": [
    "- Methods named with double underscores (\\_\\_X__)\n",
    "- Such methods are called automatically when instances appear in built-in operations.\n",
    "    - For instance, if an instance object inherits an __add__ method, that method is called whenever the object appears in a + expression."
   ]
  },
  {
   "cell_type": "markdown",
   "metadata": {},
   "source": [
    "**Constructor and Destructor**\n",
    "\n",
    "Special method|Desc.\n",
    ":--:|--\n",
    "\\_\\_new__(cls [,\\*args [,\\**kwargs]])|새 인스턴스를 생성하기 위해 호출되는 클래스 메서드\n",
    "\\_\\_init__(self [,\\*args [,\\**kwargs]])|새 인스턴스를 초기화하기 위해 호출된다.\n",
    "\\_\\_del__(self)|인스턴스가 파괴될 때 호출된다."
   ]
  },
  {
   "cell_type": "markdown",
   "metadata": {},
   "source": [
    "**String Representation**\n",
    "\n",
    "Special method|Desc.\n",
    ":--:|--\n",
    "\\_\\_repr__(self)|공식적인 문자열\n",
    "\\_\\_str__(self)|더 간결하며 사용자에게 정보를 제공하는 문자열 반환, 비공식적인 문자열"
   ]
  },
  {
   "cell_type": "markdown",
   "metadata": {},
   "source": [
    "**Why Two Display Methods?**"
   ]
  },
  {
   "cell_type": "markdown",
   "metadata": {},
   "source": [
    "Python provides two display methods to support alternative displays for different audiences:\n",
    "- \\_\\_str\\_\\_\n",
    "    - is tried first for the print operation and the str built-in function (the in- ternal equivalent of which print runs). It generally should return a user-friendly display.\n",
    "- \\_\\_repr\\_\\_\n",
    "    - is used in all other contexts: for interactive echoes, the repr function, and nested appearances, as well as by print and str if no \\_\\_str\\_\\_ is present. It should generally return an as-code string that could be used to re-create the object, or a detailed display for developers.\n",
    "    - That is, \\_\\_repr\\_\\_ is used everywhere, except by print and str when a \\_\\_str\\_\\_ is defined. This means you can code a \\_\\_repr\\_\\_ to define a single display format used everywhere,"
   ]
  },
  {
   "cell_type": "markdown",
   "metadata": {},
   "source": [
    "![](https://lh3.googleusercontent.com/aLE_w_Ro5EifyBUcRn4LNRlLWt-k48oC53rfa_v29shA=w1032-h1412-no)"
   ]
  },
  {
   "cell_type": "markdown",
   "metadata": {},
   "source": [
    "*그 외 속성 접근을 위한 메서드 등 다수 존재*"
   ]
  },
  {
   "cell_type": "markdown",
   "metadata": {},
   "source": [
    "#### 2. Instance Method"
   ]
  },
  {
   "cell_type": "markdown",
   "metadata": {},
   "source": [
    "- 첫 번째 인수로 넘어오는 클래스의 인스턴스에 대해서 작동하는 함수이다.\n",
    "- 적법한 식별자 이름이라면 아무것이나 이 첫 번째 인수를 가리키는데 쓸 수 있지만, 관례적으로 self를 쓴다.\n",
    "- 클래스 정의에서 모든 함수는 인스턴스에 대해서 작동하는 것으로 가정한다.\n",
    "- 이 때 문에 첫 번째 매개변수로서 항상 self가 전달된다. "
   ]
  },
  {
   "cell_type": "code",
   "execution_count": 90,
   "metadata": {
    "collapsed": false
   },
   "outputs": [],
   "source": [
    "class FirstClass:\n",
    "    def setdata(self, value):\n",
    "        self.data = value\n",
    "    def display(self):\n",
    "        print(self.data)"
   ]
  },
  {
   "cell_type": "markdown",
   "metadata": {},
   "source": [
    "**인스턴스로 메서드에 접근**"
   ]
  },
  {
   "cell_type": "code",
   "execution_count": 92,
   "metadata": {
    "collapsed": false
   },
   "outputs": [
    {
     "name": "stdout",
     "output_type": "stream",
     "text": [
      "wannabe\n"
     ]
    }
   ],
   "source": [
    "x = FirstClass()\n",
    "x.setdata(\"wannabe\")\n",
    "x.display()"
   ]
  },
  {
   "cell_type": "code",
   "execution_count": 96,
   "metadata": {
    "collapsed": false
   },
   "outputs": [
    {
     "ename": "TypeError",
     "evalue": "unbound method setdata() must be called with FirstClass instance as first argument (got str instance instead)",
     "output_type": "error",
     "traceback": [
      "\u001b[0;31m---------------------------------------------------------------------------\u001b[0m",
      "\u001b[0;31mTypeError\u001b[0m                                 Traceback (most recent call last)",
      "\u001b[0;32m<ipython-input-96-d00a89a918b1>\u001b[0m in \u001b[0;36m<module>\u001b[0;34m()\u001b[0m\n\u001b[0;32m----> 1\u001b[0;31m \u001b[0mFirstClass\u001b[0m\u001b[0;34m.\u001b[0m\u001b[0msetdata\u001b[0m\u001b[0;34m(\u001b[0m\u001b[0;34m\"can I be there?\"\u001b[0m\u001b[0;34m)\u001b[0m\u001b[0;34m\u001b[0m\u001b[0m\n\u001b[0m",
      "\u001b[0;31mTypeError\u001b[0m: unbound method setdata() must be called with FirstClass instance as first argument (got str instance instead)"
     ]
    }
   ],
   "source": [
    "FirstClass.setdata(\"can I be there?\")"
   ]
  },
  {
   "cell_type": "code",
   "execution_count": 99,
   "metadata": {
    "collapsed": false
   },
   "outputs": [
    {
     "name": "stdout",
     "output_type": "stream",
     "text": [
      "can I be there?\n"
     ]
    }
   ],
   "source": [
    "FirstClass.setdata(x, \"can I be there?\")\n",
    "x.display()"
   ]
  },
  {
   "cell_type": "markdown",
   "metadata": {},
   "source": [
    "#### 3. Static Method"
   ]
  },
  {
   "cell_type": "markdown",
   "metadata": {},
   "source": [
    "- 정적 메서드(static method)는 클래스에 의해 정의되는 네임스페이스에 들어 있는 보통의 함수다.\n",
    "- 정적 메서드는 인스턴스에 대해서 작동하지 않는다.\n",
    "- 정적 메서드를 정의하려면 다음과 같이 @staticmethod 장식자를 사용하면 된다."
   ]
  },
  {
   "cell_type": "markdown",
   "metadata": {},
   "source": [
    "**예제**"
   ]
  },
  {
   "cell_type": "code",
   "execution_count": 118,
   "metadata": {
    "collapsed": false
   },
   "outputs": [],
   "source": [
    "class Spam:\n",
    "    numInstances = 0\n",
    "    def __init__(self):\n",
    "        Spam.numInstances += 1\n",
    "    \n",
    "    @staticmethod\n",
    "    def printNumInstances():\n",
    "        print(\"Number of instances created: %s\" % Spam.numInstances)"
   ]
  },
  {
   "cell_type": "markdown",
   "metadata": {},
   "source": [
    "**인스턴스의 함수로 접근 가능**"
   ]
  },
  {
   "cell_type": "code",
   "execution_count": 120,
   "metadata": {
    "collapsed": true
   },
   "outputs": [],
   "source": [
    "a = Spam()"
   ]
  },
  {
   "cell_type": "code",
   "execution_count": 121,
   "metadata": {
    "collapsed": false
   },
   "outputs": [
    {
     "name": "stdout",
     "output_type": "stream",
     "text": [
      "Number of instances created: 1\n"
     ]
    }
   ],
   "source": [
    "a.printNumInstances()"
   ]
  },
  {
   "cell_type": "markdown",
   "metadata": {},
   "source": [
    "**클래스의 함수로 접근 가능**"
   ]
  },
  {
   "cell_type": "code",
   "execution_count": 122,
   "metadata": {
    "collapsed": false
   },
   "outputs": [
    {
     "name": "stdout",
     "output_type": "stream",
     "text": [
      "Number of instances created: 1\n"
     ]
    }
   ],
   "source": [
    "Spam.printNumInstances()"
   ]
  },
  {
   "cell_type": "markdown",
   "metadata": {},
   "source": [
    "**만약 인스턴스 메서드였다면?**"
   ]
  },
  {
   "cell_type": "code",
   "execution_count": 112,
   "metadata": {
    "collapsed": false
   },
   "outputs": [],
   "source": [
    "class Spam:\n",
    "    numInstances = 0\n",
    "    def __init__(self):\n",
    "        Spam.numInstances += 1\n",
    "    \n",
    "    def printNumInstances(self):\n",
    "        print(\"Number of instances created: %s\" % Spam.numInstances)"
   ]
  },
  {
   "cell_type": "markdown",
   "metadata": {},
   "source": [
    "**클래스의 함수로 접근 불가능**"
   ]
  },
  {
   "cell_type": "code",
   "execution_count": 123,
   "metadata": {
    "collapsed": false
   },
   "outputs": [
    {
     "name": "stdout",
     "output_type": "stream",
     "text": [
      "Number of instances created: 1\n"
     ]
    }
   ],
   "source": [
    "Spam.printNumInstances()"
   ]
  },
  {
   "cell_type": "markdown",
   "metadata": {},
   "source": [
    "**인스턴스를 넘겨줘야 접근 가능**"
   ]
  },
  {
   "cell_type": "code",
   "execution_count": 114,
   "metadata": {
    "collapsed": true
   },
   "outputs": [],
   "source": [
    "a = Spam()"
   ]
  },
  {
   "cell_type": "code",
   "execution_count": 116,
   "metadata": {
    "collapsed": false
   },
   "outputs": [
    {
     "name": "stdout",
     "output_type": "stream",
     "text": [
      "Number of instances created: 1\n"
     ]
    }
   ],
   "source": [
    "Spam.printNumInstances(a)"
   ]
  },
  {
   "cell_type": "markdown",
   "metadata": {},
   "source": [
    "#### 4. Class Method"
   ]
  },
  {
   "cell_type": "markdown",
   "metadata": {},
   "source": [
    "- 클래스 메서드(class method)는 클래스 자체를 객체로 보고 클래스 객체에 대해 작동하는 메서드를 말한다.\n",
    "- 클래스 메서드는 @classmethod 장식자를 사용해서 정의한다.\n",
    "- 인스턴스 메서드와 다른 점은 첫 번째 인수로서 관례적으로 cls라는 이름을 가진 클래스가 전달된다는 점이다."
   ]
  },
  {
   "cell_type": "code",
   "execution_count": 162,
   "metadata": {
    "collapsed": true
   },
   "outputs": [],
   "source": [
    "class Times():\n",
    "    factor = 1\n",
    "    \n",
    "    @classmethod\n",
    "    def mul(cls,x):\n",
    "        return cls.factor*x\n",
    "\n",
    "class TwoTimes(Times):\n",
    "    factor = 2"
   ]
  },
  {
   "cell_type": "code",
   "execution_count": 173,
   "metadata": {
    "collapsed": false
   },
   "outputs": [
    {
     "ename": "TypeError",
     "evalue": "mul() takes exactly 2 arguments (3 given)",
     "output_type": "error",
     "traceback": [
      "\u001b[0;31m---------------------------------------------------------------------------\u001b[0m",
      "\u001b[0;31mTypeError\u001b[0m                                 Traceback (most recent call last)",
      "\u001b[0;32m<ipython-input-173-5a3f3e1c3bdb>\u001b[0m in \u001b[0;36m<module>\u001b[0;34m()\u001b[0m\n\u001b[0;32m----> 1\u001b[0;31m \u001b[0mTimes\u001b[0m\u001b[0;34m.\u001b[0m\u001b[0mmul\u001b[0m\u001b[0;34m(\u001b[0m\u001b[0mTimes\u001b[0m\u001b[0;34m,\u001b[0m \u001b[0;36m4\u001b[0m\u001b[0;34m)\u001b[0m\u001b[0;34m\u001b[0m\u001b[0m\n\u001b[0m",
      "\u001b[0;31mTypeError\u001b[0m: mul() takes exactly 2 arguments (3 given)"
     ]
    }
   ],
   "source": [
    "Times.mul(Times, 4)"
   ]
  },
  {
   "cell_type": "code",
   "execution_count": 185,
   "metadata": {
    "collapsed": false
   },
   "outputs": [
    {
     "data": {
      "text/plain": [
       "8"
      ]
     },
     "execution_count": 185,
     "metadata": {},
     "output_type": "execute_result"
    }
   ],
   "source": [
    "TwoTimes.mul(4)"
   ]
  },
  {
   "cell_type": "markdown",
   "metadata": {},
   "source": [
    "---"
   ]
  },
  {
   "cell_type": "markdown",
   "metadata": {},
   "source": [
    "## Solution"
   ]
  },
  {
   "cell_type": "markdown",
   "metadata": {},
   "source": [
    "### 1.1 다음에서 주어진 문자열에서 모든 대문자를 소문자로 변환하고, 문자 ','와 '.'를 없앤 후에 각 단어를 순서대로 출력하시오."
   ]
  },
  {
   "cell_type": "code",
   "execution_count": 16,
   "metadata": {
    "collapsed": false
   },
   "outputs": [
    {
     "name": "stdout",
     "output_type": "stream",
     "text": [
      "['we', 'propose', 'to', 'start', 'by', 'making', 'it', 'possible', 'to', 'teach', 'programming', 'in', 'python', 'an', 'existing', 'scripting', 'language', 'and', 'to', 'focus', 'on', 'creating', 'a', 'new', 'development', 'environment', 'and', 'teaching', 'materials', 'for', 'it']\n"
     ]
    }
   ],
   "source": [
    "s2 = s.lower().replace(\",\", \"\").replace(\".\", \"\").split()\n",
    "print s2"
   ]
  },
  {
   "cell_type": "markdown",
   "metadata": {},
   "source": [
    "### 1.2 위 문제 9에서 각 단어가 몇 번씩 나타났는가도 함께 출력해보시오."
   ]
  },
  {
   "cell_type": "code",
   "execution_count": 18,
   "metadata": {
    "collapsed": true
   },
   "outputs": [
    {
     "name": "stdout",
     "output_type": "stream",
     "text": [
      "we 1\n",
      "propose 1\n",
      "to 3\n",
      "start 1\n",
      "by 1\n",
      "making 1\n",
      "it 2\n",
      "possible 1\n",
      "to 3\n",
      "teach 1\n",
      "programming 1\n",
      "in 1\n",
      "python 1\n",
      "an 1\n",
      "existing 1\n",
      "scripting 1\n",
      "language 1\n",
      "and 2\n",
      "to 3\n",
      "focus 1\n",
      "on 1\n",
      "creating 1\n",
      "a 1\n",
      "new 1\n",
      "development 1\n",
      "environment 1\n",
      "and 2\n",
      "teaching 1\n",
      "materials 1\n",
      "for 1\n",
      "it 2\n"
     ]
    }
   ],
   "source": [
    "for i in s2:\n",
    "    print i, s2.count(i)"
   ]
  },
  {
   "cell_type": "markdown",
   "metadata": {},
   "source": [
    "### 1.3 단어의 순서가 바뀐 문자열을 만들어라('child motherless a like fee I Sometimes')"
   ]
  },
  {
   "cell_type": "code",
   "execution_count": 65,
   "metadata": {
    "collapsed": false
   },
   "outputs": [
    {
     "name": "stdout",
     "output_type": "stream",
     "text": [
      "child motherless a like feel I Sometiems\n"
     ]
    }
   ],
   "source": [
    "for i in range(len(s.split()), 0, -1):\n",
    "    print s.split()[i-1],"
   ]
  },
  {
   "cell_type": "markdown",
   "metadata": {},
   "source": [
    "### 1.4 위 문자열의 앞뒤 순서를 완전히 바꾼 문자열을 만들어라. (dlihc ssel..)"
   ]
  },
  {
   "cell_type": "code",
   "execution_count": 67,
   "metadata": {
    "collapsed": false
   },
   "outputs": [
    {
     "name": "stdout",
     "output_type": "stream",
     "text": [
      "d l i h c   s s e l r e h t o m   a   e k i l   l e e f   I   s m e i t e m o S\n"
     ]
    }
   ],
   "source": [
    "for i in range(len(s), 0, -1):\n",
    "    print s[i-1],"
   ]
  },
  {
   "cell_type": "markdown",
   "metadata": {},
   "source": [
    "### 1.5 Hashtag 추출해서 List에 담기"
   ]
  },
  {
   "cell_type": "code",
   "execution_count": 32,
   "metadata": {
    "collapsed": true
   },
   "outputs": [],
   "source": [
    "title = \"On top of the world! Life is so fantastic if you just let it. I have never been happier. #nyc #newyork #vacation #traveling\""
   ]
  },
  {
   "cell_type": "code",
   "execution_count": 39,
   "metadata": {
    "collapsed": false
   },
   "outputs": [
    {
     "name": "stdout",
     "output_type": "stream",
     "text": [
      "['nyc', 'newyork', 'vacation', 'traveling']\n"
     ]
    }
   ],
   "source": [
    "tag = []\n",
    "for i in title.split():\n",
    "    if i.startswith(\"#\"):\n",
    "        tag.append(i[1:])\n",
    "print tag"
   ]
  },
  {
   "cell_type": "code",
   "execution_count": 31,
   "metadata": {
    "collapsed": false
   },
   "outputs": [
    {
     "name": "stdout",
     "output_type": "stream",
     "text": [
      "['nyc', 'newyork', 'vacation', 'traveling']\n"
     ]
    }
   ],
   "source": [
    "# coding: utf-8\n",
    "\n",
    "# 게시글 제목\n",
    "title = \"On top of the world! Life is so fantastic if you just let it. I have never been happier. #nyc #newyork #vacation #traveling\"\n",
    "\n",
    "tag_list = []\n",
    "for tag in title.split(\" \"):\n",
    "    if tag.startswith(\"#\"):\n",
    "        tag_list.append(tag[1:])\n",
    "\n",
    "print tag_list"
   ]
  },
  {
   "cell_type": "markdown",
   "metadata": {},
   "source": [
    "### 1.6 모스부호 해석하기"
   ]
  },
  {
   "cell_type": "code",
   "execution_count": 110,
   "metadata": {
    "collapsed": false
   },
   "outputs": [
    {
     "name": "stdout",
     "output_type": "stream",
     "text": [
      "H E   S L E E P S   E A R L Y  \n"
     ]
    }
   ],
   "source": [
    "# coding: UTF-8\n",
    "\n",
    "# 모스부호\n",
    "dic = {\n",
    "    '.-':'A','-...':'B','-.-.':'C','-..':'D','.':'E','..-.':'F',\n",
    "    '--.':'G','....':'H','..':'I','.---':'J','-.-':'K','.-..':'L',\n",
    "    '--':'M','-.':'N','---':'O','.--.':'P','--.-':'Q','.-.':'R',\n",
    "    '...':'S','-':'T','..-':'U','...-':'V','.--':'W','-..-':'X',\n",
    "    '-.--':'Y','--..':'Z'\n",
    "}\n",
    " \n",
    "# 풀어야할 암호 - HE SLEEPS EARLY\n",
    "code = '.... .  ... .-.. . . .--. ...  . .- .-. .-.. -.--'\n",
    " \n",
    "# Write your code below.\n",
    "for line in code.split(\"  \"):\n",
    "    for char in line.split():\n",
    "        print dic.get(char),\n",
    "    print \" \","
   ]
  },
  {
   "cell_type": "markdown",
   "metadata": {},
   "source": [
    "### 1.7 Sorting Algorithm - Bubble Sort"
   ]
  },
  {
   "cell_type": "code",
   "execution_count": 132,
   "metadata": {
    "collapsed": false,
    "scrolled": true
   },
   "outputs": [
    {
     "name": "stdout",
     "output_type": "stream",
     "text": [
      "[17, 20, 26, 31, 44, 54, 55, 77, 93]\n"
     ]
    }
   ],
   "source": [
    "def bubbleSort(alist):\n",
    "    for passnum in range(len(alist)-1,0,-1):\n",
    "        for i in range(passnum):\n",
    "            if alist[i]>alist[i+1]:\n",
    "                temp = alist[i]\n",
    "                alist[i] = alist[i+1]\n",
    "                alist[i+1] = temp\n",
    "                # alist[i], alist[i+1] = alist[i+1], alist[i]\n",
    "\n",
    "alist = [54,26,93,17,77,31,44,55,20]\n",
    "bubbleSort(alist)\n",
    "print(alist)"
   ]
  },
  {
   "cell_type": "markdown",
   "metadata": {},
   "source": [
    "---"
   ]
  },
  {
   "cell_type": "markdown",
   "metadata": {},
   "source": [
    "2015 psygrammer 정광윤 email to initialkommit at gmail.com, twitter @initialkommit"
   ]
  }
 ],
 "metadata": {
  "kernelspec": {
   "display_name": "Python 2",
   "language": "python",
   "name": "python2"
  },
  "language_info": {
   "codemirror_mode": {
    "name": "ipython",
    "version": 2
   },
   "file_extension": ".py",
   "mimetype": "text/x-python",
   "name": "python",
   "nbconvert_exporter": "python",
   "pygments_lexer": "ipython2",
   "version": "2.7.10"
  }
 },
 "nbformat": 4,
 "nbformat_minor": 0
}
