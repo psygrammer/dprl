{
 "cells": [
  {
   "cell_type": "markdown",
   "metadata": {},
   "source": [
    "# 의사결정 스터디 9/21 이상열 (RL) Bellman Equation \n",
    "## R맛보기 및 코드설명"
   ]
  },
  {
   "cell_type": "markdown",
   "metadata": {},
   "source": [
    "### 1) R맛보기"
   ]
  },
  {
   "cell_type": "code",
   "execution_count": 19,
   "metadata": {
    "collapsed": true
   },
   "outputs": [],
   "source": [
    "x <- 2*3"
   ]
  },
  {
   "cell_type": "code",
   "execution_count": 20,
   "metadata": {
    "collapsed": false
   },
   "outputs": [
    {
     "data": {
      "text/html": [
       "6"
      ],
      "text/latex": [
       "6"
      ],
      "text/markdown": [
       "6"
      ],
      "text/plain": [
       "[1] 6"
      ]
     },
     "execution_count": 20,
     "metadata": {},
     "output_type": "execute_result"
    }
   ],
   "source": [
    "x"
   ]
  },
  {
   "cell_type": "code",
   "execution_count": 21,
   "metadata": {
    "collapsed": true
   },
   "outputs": [],
   "source": [
    "myvector <- c(8,6,9,10,5)"
   ]
  },
  {
   "cell_type": "code",
   "execution_count": 22,
   "metadata": {
    "collapsed": false
   },
   "outputs": [
    {
     "data": {
      "text/html": [
       "<ol class=list-inline>\n",
       "\t<li>8</li>\n",
       "\t<li>6</li>\n",
       "\t<li>9</li>\n",
       "\t<li>10</li>\n",
       "\t<li>5</li>\n",
       "</ol>\n"
      ],
      "text/latex": [
       "\\begin{enumerate*}\n",
       "\\item 8\n",
       "\\item 6\n",
       "\\item 9\n",
       "\\item 10\n",
       "\\item 5\n",
       "\\end{enumerate*}\n"
      ],
      "text/markdown": [
       "1. 8\n",
       "2. 6\n",
       "3. 9\n",
       "4. 10\n",
       "5. 5\n",
       "\n",
       "\n"
      ],
      "text/plain": [
       "[1]  8  6  9 10  5"
      ]
     },
     "execution_count": 22,
     "metadata": {},
     "output_type": "execute_result"
    }
   ],
   "source": [
    "myvector"
   ]
  },
  {
   "cell_type": "code",
   "execution_count": 23,
   "metadata": {
    "collapsed": false
   },
   "outputs": [
    {
     "data": {
      "text/html": [
       "10"
      ],
      "text/latex": [
       "10"
      ],
      "text/markdown": [
       "10"
      ],
      "text/plain": [
       "[1] 10"
      ]
     },
     "execution_count": 23,
     "metadata": {},
     "output_type": "execute_result"
    }
   ],
   "source": [
    "myvector[4]"
   ]
  },
  {
   "cell_type": "code",
   "execution_count": 24,
   "metadata": {
    "collapsed": true
   },
   "outputs": [],
   "source": [
    "mylist <- list(name=\"Fred\", wife=\"Mary\", myvector)"
   ]
  },
  {
   "cell_type": "code",
   "execution_count": 25,
   "metadata": {
    "collapsed": false
   },
   "outputs": [
    {
     "data": {
      "text/html": [
       "<dl>\n",
       "\t<dt>$name</dt>\n",
       "\t\t<dd>\"Fred\"</dd>\n",
       "\t<dt>$wife</dt>\n",
       "\t\t<dd>\"Mary\"</dd>\n",
       "\t<dt>[[3]]</dt>\n",
       "\t\t<dd><ol class=list-inline>\n",
       "\t<li>8</li>\n",
       "\t<li>6</li>\n",
       "\t<li>9</li>\n",
       "\t<li>10</li>\n",
       "\t<li>5</li>\n",
       "</ol>\n",
       "</dd>\n",
       "</dl>\n"
      ],
      "text/latex": [
       "\\begin{description}\n",
       "\\item[\\$name] \"Fred\"\n",
       "\\item[\\$wife] \"Mary\"\n",
       "\\item[{[[3]]}] \\begin{enumerate*}\n",
       "\\item 8\n",
       "\\item 6\n",
       "\\item 9\n",
       "\\item 10\n",
       "\\item 5\n",
       "\\end{enumerate*}\n",
       "\n",
       "\\end{description}\n"
      ],
      "text/markdown": [
       "$name\n",
       ":   \"Fred\"\n",
       "$wife\n",
       ":   \"Mary\"\n",
       "[[3]]\n",
       ":   1. 8\n",
       "2. 6\n",
       "3. 9\n",
       "4. 10\n",
       "5. 5\n",
       "\n",
       "\n",
       "\n",
       "\n",
       "\n"
      ],
      "text/plain": [
       "$name\n",
       "[1] \"Fred\"\n",
       "\n",
       "$wife\n",
       "[1] \"Mary\"\n",
       "\n",
       "[[3]]\n",
       "[1]  8  6  9 10  5\n"
      ]
     },
     "execution_count": 25,
     "metadata": {},
     "output_type": "execute_result"
    }
   ],
   "source": [
    "mylist"
   ]
  },
  {
   "cell_type": "code",
   "execution_count": 30,
   "metadata": {
    "collapsed": true
   },
   "outputs": [],
   "source": [
    "mynames <- c(\"mary\", \"john\", \"ahn\", \"sinead\", \"joe\", \"mary\", \"jim\", \"john\", \"simon\")"
   ]
  },
  {
   "cell_type": "code",
   "execution_count": 31,
   "metadata": {
    "collapsed": false
   },
   "outputs": [
    {
     "data": {
      "text/plain": [
       "mynames\n",
       "   ahn    jim    joe   john   mary  simon sinead \n",
       "     1      1      1      2      2      1      1 "
      ]
     },
     "execution_count": 31,
     "metadata": {},
     "output_type": "execute_result"
    }
   ],
   "source": [
    "table(mynames)"
   ]
  },
  {
   "cell_type": "code",
   "execution_count": 32,
   "metadata": {
    "collapsed": false
   },
   "outputs": [],
   "source": [
    "mytable <- table(mynames)"
   ]
  },
  {
   "cell_type": "code",
   "execution_count": 33,
   "metadata": {
    "collapsed": false
   },
   "outputs": [
    {
     "data": {
      "text/html": [
       "2"
      ],
      "text/latex": [
       "2"
      ],
      "text/markdown": [
       "2"
      ],
      "text/plain": [
       "[1] 2"
      ]
     },
     "execution_count": 33,
     "metadata": {},
     "output_type": "execute_result"
    }
   ],
   "source": [
    "mytable[[4]]"
   ]
  },
  {
   "cell_type": "code",
   "execution_count": 34,
   "metadata": {
    "collapsed": false
   },
   "outputs": [
    {
     "data": {
      "text/html": [
       "2"
      ],
      "text/latex": [
       "2"
      ],
      "text/markdown": [
       "2"
      ],
      "text/plain": [
       "[1] 2"
      ]
     },
     "execution_count": 34,
     "metadata": {},
     "output_type": "execute_result"
    }
   ],
   "source": [
    "log10(100)"
   ]
  },
  {
   "cell_type": "code",
   "execution_count": 35,
   "metadata": {
    "collapsed": false
   },
   "outputs": [
    {
     "data": {
      "text/html": [
       "7.6"
      ],
      "text/latex": [
       "7.6"
      ],
      "text/markdown": [
       "7.6"
      ],
      "text/plain": [
       "[1] 7.6"
      ]
     },
     "execution_count": 35,
     "metadata": {},
     "output_type": "execute_result"
    }
   ],
   "source": [
    "mean(myvector)"
   ]
  },
  {
   "cell_type": "code",
   "execution_count": 36,
   "metadata": {
    "collapsed": true
   },
   "outputs": [],
   "source": [
    "myfunction <- function(x) {\n",
    "    return(20 + (x*x))\n",
    "}"
   ]
  },
  {
   "cell_type": "code",
   "execution_count": 38,
   "metadata": {
    "collapsed": false
   },
   "outputs": [
    {
     "data": {
      "text/html": [
       "120"
      ],
      "text/latex": [
       "120"
      ],
      "text/markdown": [
       "120"
      ],
      "text/plain": [
       "[1] 120"
      ]
     },
     "execution_count": 38,
     "metadata": {},
     "output_type": "execute_result"
    }
   ],
   "source": [
    "myfunction(10)"
   ]
  },
  {
   "cell_type": "code",
   "execution_count": 39,
   "metadata": {
    "collapsed": false
   },
   "outputs": [
    {
     "data": {
      "text/html": [
       "645"
      ],
      "text/latex": [
       "645"
      ],
      "text/markdown": [
       "645"
      ],
      "text/plain": [
       "[1] 645"
      ]
     },
     "execution_count": 39,
     "metadata": {},
     "output_type": "execute_result"
    }
   ],
   "source": [
    "myfunction(25)"
   ]
  },
  {
   "cell_type": "code",
   "execution_count": 40,
   "metadata": {
    "collapsed": true
   },
   "outputs": [],
   "source": [
    "myFamilyNames <- c(\"Dad\", \"Mom\", \"Sis\", \"Bro\", \"Dog\")"
   ]
  },
  {
   "cell_type": "code",
   "execution_count": 41,
   "metadata": {
    "collapsed": false
   },
   "outputs": [
    {
     "data": {
      "text/html": [
       "<ol class=list-inline>\n",
       "\t<li>\"Dad\"</li>\n",
       "\t<li>\"Mom\"</li>\n",
       "\t<li>\"Sis\"</li>\n",
       "\t<li>\"Bro\"</li>\n",
       "\t<li>\"Dog\"</li>\n",
       "</ol>\n"
      ],
      "text/latex": [
       "\\begin{enumerate*}\n",
       "\\item \"Dad\"\n",
       "\\item \"Mom\"\n",
       "\\item \"Sis\"\n",
       "\\item \"Bro\"\n",
       "\\item \"Dog\"\n",
       "\\end{enumerate*}\n"
      ],
      "text/markdown": [
       "1. \"Dad\"\n",
       "2. \"Mom\"\n",
       "3. \"Sis\"\n",
       "4. \"Bro\"\n",
       "5. \"Dog\"\n",
       "\n",
       "\n"
      ],
      "text/plain": [
       "[1] \"Dad\" \"Mom\" \"Sis\" \"Bro\" \"Dog\""
      ]
     },
     "execution_count": 41,
     "metadata": {},
     "output_type": "execute_result"
    }
   ],
   "source": [
    "myFamilyNames"
   ]
  },
  {
   "cell_type": "code",
   "execution_count": 42,
   "metadata": {
    "collapsed": true
   },
   "outputs": [],
   "source": [
    "myFamilyAges <- c(43,42,12,8,5)"
   ]
  },
  {
   "cell_type": "code",
   "execution_count": 43,
   "metadata": {
    "collapsed": false
   },
   "outputs": [
    {
     "data": {
      "text/html": [
       "<ol class=list-inline>\n",
       "\t<li>43</li>\n",
       "\t<li>42</li>\n",
       "\t<li>12</li>\n",
       "\t<li>8</li>\n",
       "\t<li>5</li>\n",
       "</ol>\n"
      ],
      "text/latex": [
       "\\begin{enumerate*}\n",
       "\\item 43\n",
       "\\item 42\n",
       "\\item 12\n",
       "\\item 8\n",
       "\\item 5\n",
       "\\end{enumerate*}\n"
      ],
      "text/markdown": [
       "1. 43\n",
       "2. 42\n",
       "3. 12\n",
       "4. 8\n",
       "5. 5\n",
       "\n",
       "\n"
      ],
      "text/plain": [
       "[1] 43 42 12  8  5"
      ]
     },
     "execution_count": 43,
     "metadata": {},
     "output_type": "execute_result"
    }
   ],
   "source": [
    "myFamilyAges"
   ]
  },
  {
   "cell_type": "code",
   "execution_count": 44,
   "metadata": {
    "collapsed": true
   },
   "outputs": [],
   "source": [
    "myFamilyGenders <- c(\"Male\", \"Female\", \"Female\", \"Male\", \"Female\")"
   ]
  },
  {
   "cell_type": "code",
   "execution_count": 46,
   "metadata": {
    "collapsed": true
   },
   "outputs": [],
   "source": [
    "myFamilyWeights <- c(188,136,83,61,44)"
   ]
  },
  {
   "cell_type": "code",
   "execution_count": 55,
   "metadata": {
    "collapsed": true
   },
   "outputs": [],
   "source": [
    "myFamily <- data.frame(myFamilyNames, myFamilyAges, myFamilyGenders, myFamilyWeights)"
   ]
  },
  {
   "cell_type": "code",
   "execution_count": 48,
   "metadata": {
    "collapsed": false
   },
   "outputs": [
    {
     "data": {
      "text/html": [
       "<table>\n",
       "<thead><tr><th></th><th scope=col>myFamilyNames</th><th scope=col>myFamilyAges</th><th scope=col>myFamilyGenders</th><th scope=col>myFamilyWeights</th></tr></thead>\n",
       "<tbody>\n",
       "\t<tr><th scope=row>1</th><td>Dad</td><td>43</td><td>Male</td><td>188</td></tr>\n",
       "\t<tr><th scope=row>2</th><td>Mom</td><td>42</td><td>Female</td><td>136</td></tr>\n",
       "\t<tr><th scope=row>3</th><td>Sis</td><td>12</td><td>Female</td><td>83</td></tr>\n",
       "\t<tr><th scope=row>4</th><td>Bro</td><td>8</td><td>Male</td><td>61</td></tr>\n",
       "\t<tr><th scope=row>5</th><td>Dog</td><td>5</td><td>Female</td><td>44</td></tr>\n",
       "</tbody>\n",
       "</table>\n"
      ],
      "text/latex": [
       "\\begin{tabular}{r|llll}\n",
       "  & myFamilyNames & myFamilyAges & myFamilyGenders & myFamilyWeights\\\\\n",
       "\\hline\n",
       "\t1 & Dad & 43 & Male & 188\\\\\n",
       "\t2 & Mom & 42 & Female & 136\\\\\n",
       "\t3 & Sis & 12 & Female & 83\\\\\n",
       "\t4 & Bro & 8 & Male & 61\\\\\n",
       "\t5 & Dog & 5 & Female & 44\\\\\n",
       "\\end{tabular}\n"
      ],
      "text/plain": [
       "  myFamilyNames myFamilyAges myFamilyGenders myFamilyWeights\n",
       "1           Dad           43            Male             188\n",
       "2           Mom           42          Female             136\n",
       "3           Sis           12          Female              83\n",
       "4           Bro            8            Male              61\n",
       "5           Dog            5          Female              44"
      ]
     },
     "execution_count": 48,
     "metadata": {},
     "output_type": "execute_result"
    }
   ],
   "source": [
    "myFamily"
   ]
  },
  {
   "cell_type": "code",
   "execution_count": 49,
   "metadata": {
    "collapsed": false
   },
   "outputs": [
    {
     "name": "stdout",
     "output_type": "stream",
     "text": [
      "'data.frame':\t5 obs. of  4 variables:\n",
      " $ myFamilyNames  : Factor w/ 5 levels \"Bro\",\"Dad\",\"Dog\",..: 2 4 5 1 3\n",
      " $ myFamilyAges   : num  43 42 12 8 5\n",
      " $ myFamilyGenders: Factor w/ 2 levels \"Female\",\"Male\": 2 1 1 2 1\n",
      " $ myFamilyWeights: num  188 136 83 61 44\n"
     ]
    }
   ],
   "source": [
    "str(myFamily)"
   ]
  },
  {
   "cell_type": "code",
   "execution_count": 50,
   "metadata": {
    "collapsed": false
   },
   "outputs": [
    {
     "data": {
      "text/html": [
       "\"character\""
      ],
      "text/latex": [
       "\"character\""
      ],
      "text/markdown": [
       "\"character\""
      ],
      "text/plain": [
       "[1] \"character\""
      ]
     },
     "execution_count": 50,
     "metadata": {},
     "output_type": "execute_result"
    }
   ],
   "source": [
    "class(myFamilyGenders)"
   ]
  },
  {
   "cell_type": "code",
   "execution_count": 52,
   "metadata": {
    "collapsed": true
   },
   "outputs": [],
   "source": [
    "myFamilyStr <- data.frame(myFamilyNames, myFamilyAges, myFamilyGenders, myFamilyWeights, stringsAsFactors=FALSE)"
   ]
  },
  {
   "cell_type": "code",
   "execution_count": 54,
   "metadata": {
    "collapsed": false
   },
   "outputs": [
    {
     "name": "stdout",
     "output_type": "stream",
     "text": [
      "'data.frame':\t5 obs. of  4 variables:\n",
      " $ myFamilyNames  : chr  \"Dad\" \"Mom\" \"Sis\" \"Bro\" ...\n",
      " $ myFamilyAges   : num  43 42 12 8 5\n",
      " $ myFamilyGenders: chr  \"Male\" \"Female\" \"Female\" \"Male\" ...\n",
      " $ myFamilyWeights: num  188 136 83 61 44\n"
     ]
    }
   ],
   "source": [
    "str(myFamilyStr)"
   ]
  },
  {
   "cell_type": "code",
   "execution_count": 57,
   "metadata": {
    "collapsed": false
   },
   "outputs": [
    {
     "data": {
      "text/plain": [
       " myFamilyNames  myFamilyAges myFamilyGenders myFamilyWeights\n",
       " Bro:1         Min.   : 5    Female:3        Min.   : 44.0  \n",
       " Dad:1         1st Qu.: 8    Male  :2        1st Qu.: 61.0  \n",
       " Dog:1         Median :12                    Median : 83.0  \n",
       " Mom:1         Mean   :22                    Mean   :102.4  \n",
       " Sis:1         3rd Qu.:42                    3rd Qu.:136.0  \n",
       "               Max.   :43                    Max.   :188.0  "
      ]
     },
     "execution_count": 57,
     "metadata": {},
     "output_type": "execute_result"
    }
   ],
   "source": [
    "summary(myFamily)"
   ]
  },
  {
   "cell_type": "code",
   "execution_count": 58,
   "metadata": {
    "collapsed": false
   },
   "outputs": [
    {
     "data": {
      "text/html": [
       "<ol class=list-inline>\n",
       "\t<li>43</li>\n",
       "\t<li>42</li>\n",
       "\t<li>12</li>\n",
       "\t<li>8</li>\n",
       "\t<li>5</li>\n",
       "</ol>\n"
      ],
      "text/latex": [
       "\\begin{enumerate*}\n",
       "\\item 43\n",
       "\\item 42\n",
       "\\item 12\n",
       "\\item 8\n",
       "\\item 5\n",
       "\\end{enumerate*}\n"
      ],
      "text/markdown": [
       "1. 43\n",
       "2. 42\n",
       "3. 12\n",
       "4. 8\n",
       "5. 5\n",
       "\n",
       "\n"
      ],
      "text/plain": [
       "[1] 43 42 12  8  5"
      ]
     },
     "execution_count": 58,
     "metadata": {},
     "output_type": "execute_result"
    }
   ],
   "source": [
    "myFamily$myFamilyAges"
   ]
  },
  {
   "cell_type": "code",
   "execution_count": 59,
   "metadata": {
    "collapsed": false
   },
   "outputs": [
    {
     "data": {
      "text/html": [
       "<table>\n",
       "<thead><tr><th></th><th scope=col>myFamilyNames</th><th scope=col>myFamilyAges</th><th scope=col>myFamilyGenders</th><th scope=col>myFamilyWeights</th></tr></thead>\n",
       "<tbody>\n",
       "\t<tr><th scope=row>2</th><td>Mom</td><td>42</td><td>Female</td><td>136</td></tr>\n",
       "</tbody>\n",
       "</table>\n"
      ],
      "text/latex": [
       "\\begin{tabular}{r|llll}\n",
       "  & myFamilyNames & myFamilyAges & myFamilyGenders & myFamilyWeights\\\\\n",
       "\\hline\n",
       "\t2 & Mom & 42 & Female & 136\\\\\n",
       "\\end{tabular}\n"
      ],
      "text/plain": [
       "  myFamilyNames myFamilyAges myFamilyGenders myFamilyWeights\n",
       "2           Mom           42          Female             136"
      ]
     },
     "execution_count": 59,
     "metadata": {},
     "output_type": "execute_result"
    }
   ],
   "source": [
    "myFamily[2,]"
   ]
  },
  {
   "cell_type": "code",
   "execution_count": 60,
   "metadata": {
    "collapsed": true
   },
   "outputs": [],
   "source": [
    "myFamilyAges <- c(myFamilyAges, 11)"
   ]
  },
  {
   "cell_type": "code",
   "execution_count": 61,
   "metadata": {
    "collapsed": false
   },
   "outputs": [
    {
     "data": {
      "text/html": [
       "<ol class=list-inline>\n",
       "\t<li>43</li>\n",
       "\t<li>42</li>\n",
       "\t<li>12</li>\n",
       "\t<li>8</li>\n",
       "\t<li>5</li>\n",
       "\t<li>11</li>\n",
       "</ol>\n"
      ],
      "text/latex": [
       "\\begin{enumerate*}\n",
       "\\item 43\n",
       "\\item 42\n",
       "\\item 12\n",
       "\\item 8\n",
       "\\item 5\n",
       "\\item 11\n",
       "\\end{enumerate*}\n"
      ],
      "text/markdown": [
       "1. 43\n",
       "2. 42\n",
       "3. 12\n",
       "4. 8\n",
       "5. 5\n",
       "6. 11\n",
       "\n",
       "\n"
      ],
      "text/plain": [
       "[1] 43 42 12  8  5 11"
      ]
     },
     "execution_count": 61,
     "metadata": {},
     "output_type": "execute_result"
    }
   ],
   "source": [
    "myFamilyAges"
   ]
  },
  {
   "cell_type": "code",
   "execution_count": 62,
   "metadata": {
    "collapsed": false
   },
   "outputs": [
    {
     "data": {
      "text/html": [
       "<ol class=list-inline>\n",
       "\t<li>43</li>\n",
       "\t<li>42</li>\n",
       "\t<li>12</li>\n",
       "\t<li>8</li>\n",
       "\t<li>5</li>\n",
       "</ol>\n"
      ],
      "text/latex": [
       "\\begin{enumerate*}\n",
       "\\item 43\n",
       "\\item 42\n",
       "\\item 12\n",
       "\\item 8\n",
       "\\item 5\n",
       "\\end{enumerate*}\n"
      ],
      "text/markdown": [
       "1. 43\n",
       "2. 42\n",
       "3. 12\n",
       "4. 8\n",
       "5. 5\n",
       "\n",
       "\n"
      ],
      "text/plain": [
       "[1] 43 42 12  8  5"
      ]
     },
     "execution_count": 62,
     "metadata": {},
     "output_type": "execute_result"
    }
   ],
   "source": [
    "myFamily$myFamilyAges"
   ]
  },
  {
   "cell_type": "code",
   "execution_count": 63,
   "metadata": {
    "collapsed": false
   },
   "outputs": [
    {
     "data": {
      "text/html": [
       "<table>\n",
       "<thead><tr><th></th><th scope=col>Sepal.Length</th><th scope=col>Sepal.Width</th><th scope=col>Petal.Length</th><th scope=col>Petal.Width</th><th scope=col>Species</th></tr></thead>\n",
       "<tbody>\n",
       "\t<tr><th scope=row>1</th><td>5.1</td><td>3.5</td><td>1.4</td><td>0.2</td><td>setosa</td></tr>\n",
       "\t<tr><th scope=row>2</th><td>4.9</td><td>3</td><td>1.4</td><td>0.2</td><td>setosa</td></tr>\n",
       "\t<tr><th scope=row>3</th><td>4.7</td><td>3.2</td><td>1.3</td><td>0.2</td><td>setosa</td></tr>\n",
       "\t<tr><th scope=row>4</th><td>4.6</td><td>3.1</td><td>1.5</td><td>0.2</td><td>setosa</td></tr>\n",
       "\t<tr><th scope=row>5</th><td>5</td><td>3.6</td><td>1.4</td><td>0.2</td><td>setosa</td></tr>\n",
       "\t<tr><th scope=row>6</th><td>5.4</td><td>3.9</td><td>1.7</td><td>0.4</td><td>setosa</td></tr>\n",
       "</tbody>\n",
       "</table>\n"
      ],
      "text/latex": [
       "\\begin{tabular}{r|lllll}\n",
       "  & Sepal.Length & Sepal.Width & Petal.Length & Petal.Width & Species\\\\\n",
       "\\hline\n",
       "\t1 & 5.1 & 3.5 & 1.4 & 0.2 & setosa\\\\\n",
       "\t2 & 4.9 & 3 & 1.4 & 0.2 & setosa\\\\\n",
       "\t3 & 4.7 & 3.2 & 1.3 & 0.2 & setosa\\\\\n",
       "\t4 & 4.6 & 3.1 & 1.5 & 0.2 & setosa\\\\\n",
       "\t5 & 5 & 3.6 & 1.4 & 0.2 & setosa\\\\\n",
       "\t6 & 5.4 & 3.9 & 1.7 & 0.4 & setosa\\\\\n",
       "\\end{tabular}\n"
      ],
      "text/plain": [
       "  Sepal.Length Sepal.Width Petal.Length Petal.Width Species\n",
       "1          5.1         3.5          1.4         0.2  setosa\n",
       "2          4.9         3.0          1.4         0.2  setosa\n",
       "3          4.7         3.2          1.3         0.2  setosa\n",
       "4          4.6         3.1          1.5         0.2  setosa\n",
       "5          5.0         3.6          1.4         0.2  setosa\n",
       "6          5.4         3.9          1.7         0.4  setosa"
      ]
     },
     "execution_count": 63,
     "metadata": {},
     "output_type": "execute_result"
    }
   ],
   "source": [
    "head(iris)"
   ]
  },
  {
   "cell_type": "code",
   "execution_count": 64,
   "metadata": {
    "collapsed": false
   },
   "outputs": [
    {
     "name": "stdout",
     "output_type": "stream",
     "text": [
      "'data.frame':\t150 obs. of  5 variables:\n",
      " $ Sepal.Length: num  5.1 4.9 4.7 4.6 5 5.4 4.6 5 4.4 4.9 ...\n",
      " $ Sepal.Width : num  3.5 3 3.2 3.1 3.6 3.9 3.4 3.4 2.9 3.1 ...\n",
      " $ Petal.Length: num  1.4 1.4 1.3 1.5 1.4 1.7 1.4 1.5 1.4 1.5 ...\n",
      " $ Petal.Width : num  0.2 0.2 0.2 0.2 0.2 0.4 0.3 0.2 0.2 0.1 ...\n",
      " $ Species     : Factor w/ 3 levels \"setosa\",\"versicolor\",..: 1 1 1 1 1 1 1 1 1 1 ...\n"
     ]
    }
   ],
   "source": [
    "str(iris)"
   ]
  },
  {
   "cell_type": "code",
   "execution_count": 65,
   "metadata": {
    "collapsed": false
   },
   "outputs": [
    {
     "data": {
      "text/html": [
       "<dl class=dl-horizontal>\n",
       "\t<dt>Sepal.Length</dt>\n",
       "\t\t<dd>876.5</dd>\n",
       "\t<dt>Sepal.Width</dt>\n",
       "\t\t<dd>458.6</dd>\n",
       "\t<dt>Petal.Length</dt>\n",
       "\t\t<dd>563.7</dd>\n",
       "\t<dt>Petal.Width</dt>\n",
       "\t\t<dd>179.9</dd>\n",
       "</dl>\n"
      ],
      "text/latex": [
       "\\begin{description*}\n",
       "\\item[Sepal.Length] 876.5\n",
       "\\item[Sepal.Width] 458.6\n",
       "\\item[Petal.Length] 563.7\n",
       "\\item[Petal.Width] 179.9\n",
       "\\end{description*}\n"
      ],
      "text/markdown": [
       "Sepal.Length\n",
       ":   876.5Sepal.Width\n",
       ":   458.6Petal.Length\n",
       ":   563.7Petal.Width\n",
       ":   179.9\n",
       "\n"
      ],
      "text/plain": [
       "Sepal.Length  Sepal.Width Petal.Length  Petal.Width \n",
       "       876.5        458.6        563.7        179.9 "
      ]
     },
     "execution_count": 65,
     "metadata": {},
     "output_type": "execute_result"
    }
   ],
   "source": [
    "apply(iris[,1:4], 2, sum)"
   ]
  },
  {
   "cell_type": "code",
   "execution_count": 66,
   "metadata": {
    "collapsed": false
   },
   "outputs": [
    {
     "data": {
      "text/html": [
       "<dl>\n",
       "\t<dt>$Sepal.Length</dt>\n",
       "\t\t<dd>5.84333333333333</dd>\n",
       "\t<dt>$Sepal.Width</dt>\n",
       "\t\t<dd>3.05733333333333</dd>\n",
       "\t<dt>$Petal.Length</dt>\n",
       "\t\t<dd>3.758</dd>\n",
       "\t<dt>$Petal.Width</dt>\n",
       "\t\t<dd>1.19933333333333</dd>\n",
       "</dl>\n"
      ],
      "text/latex": [
       "\\begin{description}\n",
       "\\item[\\$Sepal.Length] 5.84333333333333\n",
       "\\item[\\$Sepal.Width] 3.05733333333333\n",
       "\\item[\\$Petal.Length] 3.758\n",
       "\\item[\\$Petal.Width] 1.19933333333333\n",
       "\\end{description}\n"
      ],
      "text/markdown": [
       "$Sepal.Length\n",
       ":   5.84333333333333\n",
       "$Sepal.Width\n",
       ":   3.05733333333333\n",
       "$Petal.Length\n",
       ":   3.758\n",
       "$Petal.Width\n",
       ":   1.19933333333333\n",
       "\n",
       "\n"
      ],
      "text/plain": [
       "$Sepal.Length\n",
       "[1] 5.843333\n",
       "\n",
       "$Sepal.Width\n",
       "[1] 3.057333\n",
       "\n",
       "$Petal.Length\n",
       "[1] 3.758\n",
       "\n",
       "$Petal.Width\n",
       "[1] 1.199333\n"
      ]
     },
     "execution_count": 66,
     "metadata": {},
     "output_type": "execute_result"
    }
   ],
   "source": [
    "lapply(iris[,1:4], mean)"
   ]
  },
  {
   "cell_type": "code",
   "execution_count": 2,
   "metadata": {
    "collapsed": false
   },
   "outputs": [
    {
     "data": {
      "text/html": [
       "<dl class=dl-horizontal>\n",
       "\t<dt>Sepal.Length</dt>\n",
       "\t\t<dd>5.84333333333333</dd>\n",
       "\t<dt>Sepal.Width</dt>\n",
       "\t\t<dd>3.05733333333333</dd>\n",
       "\t<dt>Petal.Length</dt>\n",
       "\t\t<dd>3.758</dd>\n",
       "\t<dt>Petal.Width</dt>\n",
       "\t\t<dd>1.19933333333333</dd>\n",
       "</dl>\n"
      ],
      "text/latex": [
       "\\begin{description*}\n",
       "\\item[Sepal.Length] 5.84333333333333\n",
       "\\item[Sepal.Width] 3.05733333333333\n",
       "\\item[Petal.Length] 3.758\n",
       "\\item[Petal.Width] 1.19933333333333\n",
       "\\end{description*}\n"
      ],
      "text/markdown": [
       "Sepal.Length\n",
       ":   5.84333333333333Sepal.Width\n",
       ":   3.05733333333333Petal.Length\n",
       ":   3.758Petal.Width\n",
       ":   1.19933333333333\n",
       "\n"
      ],
      "text/plain": [
       "Sepal.Length  Sepal.Width Petal.Length  Petal.Width \n",
       "    5.843333     3.057333     3.758000     1.199333 "
      ]
     },
     "execution_count": 2,
     "metadata": {},
     "output_type": "execute_result"
    }
   ],
   "source": [
    "sapply(iris[,1:4], mean) #vector or matrix"
   ]
  },
  {
   "cell_type": "code",
   "execution_count": 3,
   "metadata": {
    "collapsed": false
   },
   "outputs": [
    {
     "data": {
      "text/html": [
       "<ol class=list-inline>\n",
       "\t<li>\"setosa\"</li>\n",
       "\t<li>\"versicolor\"</li>\n",
       "\t<li>\"virginica\"</li>\n",
       "</ol>\n"
      ],
      "text/latex": [
       "\\begin{enumerate*}\n",
       "\\item \"setosa\"\n",
       "\\item \"versicolor\"\n",
       "\\item \"virginica\"\n",
       "\\end{enumerate*}\n"
      ],
      "text/markdown": [
       "1. \"setosa\"\n",
       "2. \"versicolor\"\n",
       "3. \"virginica\"\n",
       "\n",
       "\n"
      ],
      "text/plain": [
       "[1] \"setosa\"     \"versicolor\" \"virginica\" "
      ]
     },
     "execution_count": 3,
     "metadata": {},
     "output_type": "execute_result"
    }
   ],
   "source": [
    "levels(iris$Species)"
   ]
  },
  {
   "cell_type": "code",
   "execution_count": 5,
   "metadata": {
    "collapsed": false
   },
   "outputs": [
    {
     "data": {
      "text/html": [
       "<dl class=dl-horizontal>\n",
       "\t<dt>setosa</dt>\n",
       "\t\t<dd>5.006</dd>\n",
       "\t<dt>versicolor</dt>\n",
       "\t\t<dd>5.936</dd>\n",
       "\t<dt>virginica</dt>\n",
       "\t\t<dd>6.588</dd>\n",
       "</dl>\n"
      ],
      "text/latex": [
       "\\begin{description*}\n",
       "\\item[setosa] 5.006\n",
       "\\item[versicolor] 5.936\n",
       "\\item[virginica] 6.588\n",
       "\\end{description*}\n"
      ],
      "text/markdown": [
       "setosa\n",
       ":   5.006versicolor\n",
       ":   5.936virginica\n",
       ":   6.588\n",
       "\n"
      ],
      "text/plain": [
       "    setosa versicolor  virginica \n",
       "     5.006      5.936      6.588 "
      ]
     },
     "execution_count": 5,
     "metadata": {},
     "output_type": "execute_result"
    }
   ],
   "source": [
    "tapply(iris$Sepal.Length, iris$Species, mean)"
   ]
  },
  {
   "cell_type": "code",
   "execution_count": 7,
   "metadata": {
    "collapsed": true
   },
   "outputs": [],
   "source": [
    "byspecies <- split(iris, iris$Species)"
   ]
  },
  {
   "cell_type": "code",
   "execution_count": 8,
   "metadata": {
    "collapsed": false
   },
   "outputs": [
    {
     "name": "stdout",
     "output_type": "stream",
     "text": [
      "List of 3\n",
      " $ setosa    :'data.frame':\t50 obs. of  5 variables:\n",
      "  ..$ Sepal.Length: num [1:50] 5.1 4.9 4.7 4.6 5 5.4 4.6 5 4.4 4.9 ...\n",
      "  ..$ Sepal.Width : num [1:50] 3.5 3 3.2 3.1 3.6 3.9 3.4 3.4 2.9 3.1 ...\n",
      "  ..$ Petal.Length: num [1:50] 1.4 1.4 1.3 1.5 1.4 1.7 1.4 1.5 1.4 1.5 ...\n",
      "  ..$ Petal.Width : num [1:50] 0.2 0.2 0.2 0.2 0.2 0.4 0.3 0.2 0.2 0.1 ...\n",
      "  ..$ Species     : Factor w/ 3 levels \"setosa\",\"versicolor\",..: 1 1 1 1 1 1 1 1 1 1 ...\n",
      " $ versicolor:'data.frame':\t50 obs. of  5 variables:\n",
      "  ..$ Sepal.Length: num [1:50] 7 6.4 6.9 5.5 6.5 5.7 6.3 4.9 6.6 5.2 ...\n",
      "  ..$ Sepal.Width : num [1:50] 3.2 3.2 3.1 2.3 2.8 2.8 3.3 2.4 2.9 2.7 ...\n",
      "  ..$ Petal.Length: num [1:50] 4.7 4.5 4.9 4 4.6 4.5 4.7 3.3 4.6 3.9 ...\n",
      "  ..$ Petal.Width : num [1:50] 1.4 1.5 1.5 1.3 1.5 1.3 1.6 1 1.3 1.4 ...\n",
      "  ..$ Species     : Factor w/ 3 levels \"setosa\",\"versicolor\",..: 2 2 2 2 2 2 2 2 2 2 ...\n",
      " $ virginica :'data.frame':\t50 obs. of  5 variables:\n",
      "  ..$ Sepal.Length: num [1:50] 6.3 5.8 7.1 6.3 6.5 7.6 4.9 7.3 6.7 7.2 ...\n",
      "  ..$ Sepal.Width : num [1:50] 3.3 2.7 3 2.9 3 3 2.5 2.9 2.5 3.6 ...\n",
      "  ..$ Petal.Length: num [1:50] 6 5.1 5.9 5.6 5.8 6.6 4.5 6.3 5.8 6.1 ...\n",
      "  ..$ Petal.Width : num [1:50] 2.5 1.9 2.1 1.8 2.2 2.1 1.7 1.8 1.8 2.5 ...\n",
      "  ..$ Species     : Factor w/ 3 levels \"setosa\",\"versicolor\",..: 3 3 3 3 3 3 3 3 3 3 ...\n"
     ]
    }
   ],
   "source": [
    "str(byspecies)"
   ]
  },
  {
   "cell_type": "code",
   "execution_count": 9,
   "metadata": {
    "collapsed": true
   },
   "outputs": [],
   "source": [
    "setosa <- subset(iris, Species=\"setosa\")"
   ]
  },
  {
   "cell_type": "code",
   "execution_count": 10,
   "metadata": {
    "collapsed": false
   },
   "outputs": [
    {
     "data": {
      "text/html": [
       "<table>\n",
       "<thead><tr><th></th><th scope=col>Sepal.Length</th><th scope=col>Sepal.Width</th><th scope=col>Petal.Length</th><th scope=col>Petal.Width</th><th scope=col>Species</th></tr></thead>\n",
       "<tbody>\n",
       "\t<tr><th scope=row>1</th><td>5.1</td><td>3.5</td><td>1.4</td><td>0.2</td><td>setosa</td></tr>\n",
       "\t<tr><th scope=row>2</th><td>4.9</td><td>3</td><td>1.4</td><td>0.2</td><td>setosa</td></tr>\n",
       "\t<tr><th scope=row>3</th><td>4.7</td><td>3.2</td><td>1.3</td><td>0.2</td><td>setosa</td></tr>\n",
       "\t<tr><th scope=row>4</th><td>4.6</td><td>3.1</td><td>1.5</td><td>0.2</td><td>setosa</td></tr>\n",
       "\t<tr><th scope=row>5</th><td>5</td><td>3.6</td><td>1.4</td><td>0.2</td><td>setosa</td></tr>\n",
       "\t<tr><th scope=row>6</th><td>5.4</td><td>3.9</td><td>1.7</td><td>0.4</td><td>setosa</td></tr>\n",
       "</tbody>\n",
       "</table>\n"
      ],
      "text/latex": [
       "\\begin{tabular}{r|lllll}\n",
       "  & Sepal.Length & Sepal.Width & Petal.Length & Petal.Width & Species\\\\\n",
       "\\hline\n",
       "\t1 & 5.1 & 3.5 & 1.4 & 0.2 & setosa\\\\\n",
       "\t2 & 4.9 & 3 & 1.4 & 0.2 & setosa\\\\\n",
       "\t3 & 4.7 & 3.2 & 1.3 & 0.2 & setosa\\\\\n",
       "\t4 & 4.6 & 3.1 & 1.5 & 0.2 & setosa\\\\\n",
       "\t5 & 5 & 3.6 & 1.4 & 0.2 & setosa\\\\\n",
       "\t6 & 5.4 & 3.9 & 1.7 & 0.4 & setosa\\\\\n",
       "\\end{tabular}\n"
      ],
      "text/plain": [
       "  Sepal.Length Sepal.Width Petal.Length Petal.Width Species\n",
       "1          5.1         3.5          1.4         0.2  setosa\n",
       "2          4.9         3.0          1.4         0.2  setosa\n",
       "3          4.7         3.2          1.3         0.2  setosa\n",
       "4          4.6         3.1          1.5         0.2  setosa\n",
       "5          5.0         3.6          1.4         0.2  setosa\n",
       "6          5.4         3.9          1.7         0.4  setosa"
      ]
     },
     "execution_count": 10,
     "metadata": {},
     "output_type": "execute_result"
    }
   ],
   "source": [
    "head(setosa)"
   ]
  },
  {
   "cell_type": "code",
   "execution_count": 12,
   "metadata": {
    "collapsed": true
   },
   "outputs": [],
   "source": [
    "colsel <- subset(iris, select=c(Sepal.Length, Species))"
   ]
  },
  {
   "cell_type": "code",
   "execution_count": 13,
   "metadata": {
    "collapsed": false
   },
   "outputs": [
    {
     "data": {
      "text/html": [
       "<table>\n",
       "<thead><tr><th></th><th scope=col>Sepal.Length</th><th scope=col>Species</th></tr></thead>\n",
       "<tbody>\n",
       "\t<tr><th scope=row>1</th><td>5.1</td><td>setosa</td></tr>\n",
       "\t<tr><th scope=row>2</th><td>4.9</td><td>setosa</td></tr>\n",
       "\t<tr><th scope=row>3</th><td>4.7</td><td>setosa</td></tr>\n",
       "\t<tr><th scope=row>4</th><td>4.6</td><td>setosa</td></tr>\n",
       "\t<tr><th scope=row>5</th><td>5</td><td>setosa</td></tr>\n",
       "\t<tr><th scope=row>6</th><td>5.4</td><td>setosa</td></tr>\n",
       "</tbody>\n",
       "</table>\n"
      ],
      "text/latex": [
       "\\begin{tabular}{r|ll}\n",
       "  & Sepal.Length & Species\\\\\n",
       "\\hline\n",
       "\t1 & 5.1 & setosa\\\\\n",
       "\t2 & 4.9 & setosa\\\\\n",
       "\t3 & 4.7 & setosa\\\\\n",
       "\t4 & 4.6 & setosa\\\\\n",
       "\t5 & 5 & setosa\\\\\n",
       "\t6 & 5.4 & setosa\\\\\n",
       "\\end{tabular}\n"
      ],
      "text/plain": [
       "  Sepal.Length Species\n",
       "1          5.1  setosa\n",
       "2          4.9  setosa\n",
       "3          4.7  setosa\n",
       "4          4.6  setosa\n",
       "5          5.0  setosa\n",
       "6          5.4  setosa"
      ]
     },
     "execution_count": 13,
     "metadata": {},
     "output_type": "execute_result"
    }
   ],
   "source": [
    "head(colsel)"
   ]
  },
  {
   "cell_type": "code",
   "execution_count": 14,
   "metadata": {
    "collapsed": true
   },
   "outputs": [],
   "source": [
    "colsel <- subset(iris, select=-c(Sepal.Length, Species))"
   ]
  },
  {
   "cell_type": "code",
   "execution_count": 15,
   "metadata": {
    "collapsed": false
   },
   "outputs": [
    {
     "data": {
      "text/html": [
       "<table>\n",
       "<thead><tr><th></th><th scope=col>Sepal.Width</th><th scope=col>Petal.Length</th><th scope=col>Petal.Width</th></tr></thead>\n",
       "<tbody>\n",
       "\t<tr><th scope=row>1</th><td>3.5</td><td>1.4</td><td>0.2</td></tr>\n",
       "\t<tr><th scope=row>2</th><td>3</td><td>1.4</td><td>0.2</td></tr>\n",
       "\t<tr><th scope=row>3</th><td>3.2</td><td>1.3</td><td>0.2</td></tr>\n",
       "\t<tr><th scope=row>4</th><td>3.1</td><td>1.5</td><td>0.2</td></tr>\n",
       "\t<tr><th scope=row>5</th><td>3.6</td><td>1.4</td><td>0.2</td></tr>\n",
       "\t<tr><th scope=row>6</th><td>3.9</td><td>1.7</td><td>0.4</td></tr>\n",
       "</tbody>\n",
       "</table>\n"
      ],
      "text/latex": [
       "\\begin{tabular}{r|lll}\n",
       "  & Sepal.Width & Petal.Length & Petal.Width\\\\\n",
       "\\hline\n",
       "\t1 & 3.5 & 1.4 & 0.2\\\\\n",
       "\t2 & 3 & 1.4 & 0.2\\\\\n",
       "\t3 & 3.2 & 1.3 & 0.2\\\\\n",
       "\t4 & 3.1 & 1.5 & 0.2\\\\\n",
       "\t5 & 3.6 & 1.4 & 0.2\\\\\n",
       "\t6 & 3.9 & 1.7 & 0.4\\\\\n",
       "\\end{tabular}\n"
      ],
      "text/plain": [
       "  Sepal.Width Petal.Length Petal.Width\n",
       "1         3.5          1.4         0.2\n",
       "2         3.0          1.4         0.2\n",
       "3         3.2          1.3         0.2\n",
       "4         3.1          1.5         0.2\n",
       "5         3.6          1.4         0.2\n",
       "6         3.9          1.7         0.4"
      ]
     },
     "execution_count": 15,
     "metadata": {},
     "output_type": "execute_result"
    }
   ],
   "source": [
    "head(colsel)"
   ]
  },
  {
   "cell_type": "code",
   "execution_count": 16,
   "metadata": {
    "collapsed": true
   },
   "outputs": [],
   "source": [
    "x <- c(20,11,33,50,47)"
   ]
  },
  {
   "cell_type": "code",
   "execution_count": 17,
   "metadata": {
    "collapsed": false
   },
   "outputs": [
    {
     "data": {
      "text/html": [
       "<ol class=list-inline>\n",
       "\t<li>11</li>\n",
       "\t<li>20</li>\n",
       "\t<li>33</li>\n",
       "\t<li>47</li>\n",
       "\t<li>50</li>\n",
       "</ol>\n"
      ],
      "text/latex": [
       "\\begin{enumerate*}\n",
       "\\item 11\n",
       "\\item 20\n",
       "\\item 33\n",
       "\\item 47\n",
       "\\item 50\n",
       "\\end{enumerate*}\n"
      ],
      "text/markdown": [
       "1. 11\n",
       "2. 20\n",
       "3. 33\n",
       "4. 47\n",
       "5. 50\n",
       "\n",
       "\n"
      ],
      "text/plain": [
       "[1] 11 20 33 47 50"
      ]
     },
     "execution_count": 17,
     "metadata": {},
     "output_type": "execute_result"
    }
   ],
   "source": [
    "sort(x)"
   ]
  },
  {
   "cell_type": "code",
   "execution_count": 19,
   "metadata": {
    "collapsed": false
   },
   "outputs": [
    {
     "data": {
      "text/html": [
       "<ol class=list-inline>\n",
       "\t<li>2</li>\n",
       "\t<li>1</li>\n",
       "\t<li>3</li>\n",
       "\t<li>5</li>\n",
       "\t<li>4</li>\n",
       "</ol>\n"
      ],
      "text/latex": [
       "\\begin{enumerate*}\n",
       "\\item 2\n",
       "\\item 1\n",
       "\\item 3\n",
       "\\item 5\n",
       "\\item 4\n",
       "\\end{enumerate*}\n"
      ],
      "text/markdown": [
       "1. 2\n",
       "2. 1\n",
       "3. 3\n",
       "4. 5\n",
       "5. 4\n",
       "\n",
       "\n"
      ],
      "text/plain": [
       "[1] 2 1 3 5 4"
      ]
     },
     "execution_count": 19,
     "metadata": {},
     "output_type": "execute_result"
    }
   ],
   "source": [
    "order(x)"
   ]
  },
  {
   "cell_type": "code",
   "execution_count": 20,
   "metadata": {
    "collapsed": false
   },
   "outputs": [
    {
     "data": {
      "text/html": [
       "<ol class=list-inline>\n",
       "\t<li>11</li>\n",
       "\t<li>20</li>\n",
       "\t<li>33</li>\n",
       "\t<li>47</li>\n",
       "\t<li>50</li>\n",
       "</ol>\n"
      ],
      "text/latex": [
       "\\begin{enumerate*}\n",
       "\\item 11\n",
       "\\item 20\n",
       "\\item 33\n",
       "\\item 47\n",
       "\\item 50\n",
       "\\end{enumerate*}\n"
      ],
      "text/markdown": [
       "1. 11\n",
       "2. 20\n",
       "3. 33\n",
       "4. 47\n",
       "5. 50\n",
       "\n",
       "\n"
      ],
      "text/plain": [
       "[1] 11 20 33 47 50"
      ]
     },
     "execution_count": 20,
     "metadata": {},
     "output_type": "execute_result"
    }
   ],
   "source": [
    "x[order(x)]"
   ]
  },
  {
   "cell_type": "code",
   "execution_count": 21,
   "metadata": {
    "collapsed": true
   },
   "outputs": [],
   "source": [
    "iris.ordered <- iris[order(iris$Sepal.Length), ]"
   ]
  },
  {
   "cell_type": "code",
   "execution_count": 23,
   "metadata": {
    "collapsed": false
   },
   "outputs": [
    {
     "data": {
      "text/html": [
       "<table>\n",
       "<thead><tr><th></th><th scope=col>Sepal.Length</th><th scope=col>Sepal.Width</th><th scope=col>Petal.Length</th><th scope=col>Petal.Width</th><th scope=col>Species</th></tr></thead>\n",
       "<tbody>\n",
       "\t<tr><th scope=row>14</th><td>4.3</td><td>3</td><td>1.1</td><td>0.1</td><td>setosa</td></tr>\n",
       "\t<tr><th scope=row>9</th><td>4.4</td><td>2.9</td><td>1.4</td><td>0.2</td><td>setosa</td></tr>\n",
       "\t<tr><th scope=row>39</th><td>4.4</td><td>3</td><td>1.3</td><td>0.2</td><td>setosa</td></tr>\n",
       "\t<tr><th scope=row>43</th><td>4.4</td><td>3.2</td><td>1.3</td><td>0.2</td><td>setosa</td></tr>\n",
       "\t<tr><th scope=row>42</th><td>4.5</td><td>2.3</td><td>1.3</td><td>0.3</td><td>setosa</td></tr>\n",
       "\t<tr><th scope=row>4</th><td>4.6</td><td>3.1</td><td>1.5</td><td>0.2</td><td>setosa</td></tr>\n",
       "</tbody>\n",
       "</table>\n"
      ],
      "text/latex": [
       "\\begin{tabular}{r|lllll}\n",
       "  & Sepal.Length & Sepal.Width & Petal.Length & Petal.Width & Species\\\\\n",
       "\\hline\n",
       "\t14 & 4.3 & 3 & 1.1 & 0.1 & setosa\\\\\n",
       "\t9 & 4.4 & 2.9 & 1.4 & 0.2 & setosa\\\\\n",
       "\t39 & 4.4 & 3 & 1.3 & 0.2 & setosa\\\\\n",
       "\t43 & 4.4 & 3.2 & 1.3 & 0.2 & setosa\\\\\n",
       "\t42 & 4.5 & 2.3 & 1.3 & 0.3 & setosa\\\\\n",
       "\t4 & 4.6 & 3.1 & 1.5 & 0.2 & setosa\\\\\n",
       "\\end{tabular}\n"
      ],
      "text/plain": [
       "   Sepal.Length Sepal.Width Petal.Length Petal.Width Species\n",
       "14          4.3         3.0          1.1         0.1  setosa\n",
       "9           4.4         2.9          1.4         0.2  setosa\n",
       "39          4.4         3.0          1.3         0.2  setosa\n",
       "43          4.4         3.2          1.3         0.2  setosa\n",
       "42          4.5         2.3          1.3         0.3  setosa\n",
       "4           4.6         3.1          1.5         0.2  setosa"
      ]
     },
     "execution_count": 23,
     "metadata": {},
     "output_type": "execute_result"
    }
   ],
   "source": [
    "head(iris.ordered)"
   ]
  },
  {
   "cell_type": "code",
   "execution_count": 24,
   "metadata": {
    "collapsed": false
   },
   "outputs": [
    {
     "data": {
      "text/html": [
       "<table>\n",
       "<thead><tr><th></th><th scope=col>Sepal.Length</th><th scope=col>Sepal.Width</th><th scope=col>Petal.Length</th><th scope=col>Petal.Width</th><th scope=col>Species</th></tr></thead>\n",
       "<tbody>\n",
       "\t<tr><th scope=row>14</th><td>4.3</td><td>3</td><td>1.1</td><td>0.1</td><td>setosa</td></tr>\n",
       "\t<tr><th scope=row>39</th><td>4.4</td><td>3</td><td>1.3</td><td>0.2</td><td>setosa</td></tr>\n",
       "\t<tr><th scope=row>43</th><td>4.4</td><td>3.2</td><td>1.3</td><td>0.2</td><td>setosa</td></tr>\n",
       "\t<tr><th scope=row>9</th><td>4.4</td><td>2.9</td><td>1.4</td><td>0.2</td><td>setosa</td></tr>\n",
       "\t<tr><th scope=row>42</th><td>4.5</td><td>2.3</td><td>1.3</td><td>0.3</td><td>setosa</td></tr>\n",
       "\t<tr><th scope=row>23</th><td>4.6</td><td>3.6</td><td>1</td><td>0.2</td><td>setosa</td></tr>\n",
       "</tbody>\n",
       "</table>\n"
      ],
      "text/latex": [
       "\\begin{tabular}{r|lllll}\n",
       "  & Sepal.Length & Sepal.Width & Petal.Length & Petal.Width & Species\\\\\n",
       "\\hline\n",
       "\t14 & 4.3 & 3 & 1.1 & 0.1 & setosa\\\\\n",
       "\t39 & 4.4 & 3 & 1.3 & 0.2 & setosa\\\\\n",
       "\t43 & 4.4 & 3.2 & 1.3 & 0.2 & setosa\\\\\n",
       "\t9 & 4.4 & 2.9 & 1.4 & 0.2 & setosa\\\\\n",
       "\t42 & 4.5 & 2.3 & 1.3 & 0.3 & setosa\\\\\n",
       "\t23 & 4.6 & 3.6 & 1 & 0.2 & setosa\\\\\n",
       "\\end{tabular}\n"
      ],
      "text/plain": [
       "   Sepal.Length Sepal.Width Petal.Length Petal.Width Species\n",
       "14          4.3         3.0          1.1         0.1  setosa\n",
       "39          4.4         3.0          1.3         0.2  setosa\n",
       "43          4.4         3.2          1.3         0.2  setosa\n",
       "9           4.4         2.9          1.4         0.2  setosa\n",
       "42          4.5         2.3          1.3         0.3  setosa\n",
       "23          4.6         3.6          1.0         0.2  setosa"
      ]
     },
     "execution_count": 24,
     "metadata": {},
     "output_type": "execute_result"
    }
   ],
   "source": [
    "head(iris[order(iris$Sepal.Length, iris$Petal.Length),])"
   ]
  },
  {
   "cell_type": "code",
   "execution_count": 25,
   "metadata": {
    "collapsed": false
   },
   "outputs": [
    {
     "data": {
      "text/html": [
       "<ol class=list-inline>\n",
       "\t<li>9</li>\n",
       "\t<li>4</li>\n",
       "\t<li>8</li>\n",
       "\t<li>5</li>\n",
       "\t<li>6</li>\n",
       "</ol>\n"
      ],
      "text/latex": [
       "\\begin{enumerate*}\n",
       "\\item 9\n",
       "\\item 4\n",
       "\\item 8\n",
       "\\item 5\n",
       "\\item 6\n",
       "\\end{enumerate*}\n"
      ],
      "text/markdown": [
       "1. 9\n",
       "2. 4\n",
       "3. 8\n",
       "4. 5\n",
       "5. 6\n",
       "\n",
       "\n"
      ],
      "text/plain": [
       "[1] 9 4 8 5 6"
      ]
     },
     "execution_count": 25,
     "metadata": {},
     "output_type": "execute_result"
    }
   ],
   "source": [
    "sample(1:10,5)"
   ]
  },
  {
   "cell_type": "code",
   "execution_count": 26,
   "metadata": {
    "collapsed": false
   },
   "outputs": [
    {
     "data": {
      "text/html": [
       "<ol class=list-inline>\n",
       "\t<li>10</li>\n",
       "\t<li>10</li>\n",
       "\t<li>9</li>\n",
       "\t<li>1</li>\n",
       "\t<li>5</li>\n",
       "</ol>\n"
      ],
      "text/latex": [
       "\\begin{enumerate*}\n",
       "\\item 10\n",
       "\\item 10\n",
       "\\item 9\n",
       "\\item 1\n",
       "\\item 5\n",
       "\\end{enumerate*}\n"
      ],
      "text/markdown": [
       "1. 10\n",
       "2. 10\n",
       "3. 9\n",
       "4. 1\n",
       "5. 5\n",
       "\n",
       "\n"
      ],
      "text/plain": [
       "[1] 10 10  9  1  5"
      ]
     },
     "execution_count": 26,
     "metadata": {},
     "output_type": "execute_result"
    }
   ],
   "source": [
    "sample(1:10, 5, replace=T)"
   ]
  },
  {
   "cell_type": "code",
   "execution_count": 27,
   "metadata": {
    "collapsed": false
   },
   "outputs": [
    {
     "data": {
      "text/html": [
       "<table>\n",
       "<thead><tr><th></th><th scope=col>Species</th><th scope=col>Sepal.Width</th></tr></thead>\n",
       "<tbody>\n",
       "\t<tr><th scope=row>1</th><td>setosa</td><td>3.428</td></tr>\n",
       "\t<tr><th scope=row>2</th><td>versicolor</td><td>2.77</td></tr>\n",
       "\t<tr><th scope=row>3</th><td>virginica</td><td>2.974</td></tr>\n",
       "</tbody>\n",
       "</table>\n"
      ],
      "text/latex": [
       "\\begin{tabular}{r|ll}\n",
       "  & Species & Sepal.Width\\\\\n",
       "\\hline\n",
       "\t1 & setosa & 3.428\\\\\n",
       "\t2 & versicolor & 2.77\\\\\n",
       "\t3 & virginica & 2.974\\\\\n",
       "\\end{tabular}\n"
      ],
      "text/plain": [
       "     Species Sepal.Width\n",
       "1     setosa       3.428\n",
       "2 versicolor       2.770\n",
       "3  virginica       2.974"
      ]
     },
     "execution_count": 27,
     "metadata": {},
     "output_type": "execute_result"
    }
   ],
   "source": [
    "aggregate(Sepal.Width~ Species, iris, mean)"
   ]
  },
  {
   "cell_type": "markdown",
   "metadata": {},
   "source": [
    "### 2) Bellman Equation 코드"
   ]
  },
  {
   "cell_type": "code",
   "execution_count": 3,
   "metadata": {
    "collapsed": true
   },
   "outputs": [],
   "source": [
    "x <- 1:4\n",
    "y <- 1:3"
   ]
  },
  {
   "cell_type": "code",
   "execution_count": 4,
   "metadata": {
    "collapsed": true
   },
   "outputs": [],
   "source": [
    "rewards <- matrix(rep(0, 12), nrow=3)"
   ]
  },
  {
   "cell_type": "code",
   "execution_count": 5,
   "metadata": {
    "collapsed": false
   },
   "outputs": [
    {
     "data": {
      "text/html": [
       "<table>\n",
       "<tbody>\n",
       "\t<tr><td>0</td><td>0</td><td>0</td><td>0</td></tr>\n",
       "\t<tr><td>0</td><td>0</td><td>0</td><td>0</td></tr>\n",
       "\t<tr><td>0</td><td>0</td><td>0</td><td>0</td></tr>\n",
       "</tbody>\n",
       "</table>\n"
      ],
      "text/latex": [
       "\\begin{tabular}{llll}\n",
       "\t 0 & 0 & 0 & 0\\\\\n",
       "\t 0 & 0 & 0 & 0\\\\\n",
       "\t 0 & 0 & 0 & 0\\\\\n",
       "\\end{tabular}\n"
      ],
      "text/markdown": [
       "1. 0\n",
       "2. 0\n",
       "3. 0\n",
       "4. 0\n",
       "5. 0\n",
       "6. 0\n",
       "7. 0\n",
       "8. 0\n",
       "9. 0\n",
       "10. 0\n",
       "11. 0\n",
       "12. 0\n",
       "\n",
       "\n"
      ],
      "text/plain": [
       "     [,1] [,2] [,3] [,4]\n",
       "[1,]    0    0    0    0\n",
       "[2,]    0    0    0    0\n",
       "[3,]    0    0    0    0"
      ]
     },
     "execution_count": 5,
     "metadata": {},
     "output_type": "execute_result"
    }
   ],
   "source": [
    "rewards"
   ]
  },
  {
   "cell_type": "code",
   "execution_count": 6,
   "metadata": {
    "collapsed": false
   },
   "outputs": [
    {
     "data": {
      "text/html": [
       "<table>\n",
       "<tbody>\n",
       "\t<tr><td>0</td><td>0</td><td>0</td><td>1</td></tr>\n",
       "\t<tr><td> 0</td><td>NA</td><td> 0</td><td>-1</td></tr>\n",
       "\t<tr><td>0</td><td>0</td><td>0</td><td>0</td></tr>\n",
       "</tbody>\n",
       "</table>\n"
      ],
      "text/latex": [
       "\\begin{tabular}{llll}\n",
       "\t 0 & 0 & 0 & 1\\\\\n",
       "\t  0 & NA &  0 & -1\\\\\n",
       "\t 0 & 0 & 0 & 0\\\\\n",
       "\\end{tabular}\n"
      ],
      "text/markdown": [
       "1. 0\n",
       "2. 0\n",
       "3. 0\n",
       "4. 0\n",
       "5. NA\n",
       "6. 0\n",
       "7. 0\n",
       "8. 0\n",
       "9. 0\n",
       "10. 1\n",
       "11. -1\n",
       "12. 0\n",
       "\n",
       "\n"
      ],
      "text/plain": [
       "     [,1] [,2] [,3] [,4]\n",
       "[1,]    0    0    0    1\n",
       "[2,]    0   NA    0   -1\n",
       "[3,]    0    0    0    0"
      ]
     },
     "execution_count": 6,
     "metadata": {},
     "output_type": "execute_result"
    }
   ],
   "source": [
    "rewards[2, 2] <- NA\n",
    "rewards[1, 4] <- 1\n",
    "rewards[2, 4] <- -1\n",
    "rewards"
   ]
  },
  {
   "cell_type": "code",
   "execution_count": 7,
   "metadata": {
    "collapsed": true
   },
   "outputs": [],
   "source": [
    "values <- rewards # initial values"
   ]
  },
  {
   "cell_type": "code",
   "execution_count": 8,
   "metadata": {
    "collapsed": false
   },
   "outputs": [
    {
     "data": {
      "text/html": [
       "<table>\n",
       "<tbody>\n",
       "\t<tr><td>0</td><td>0</td><td>0</td><td>1</td></tr>\n",
       "\t<tr><td> 0</td><td>NA</td><td> 0</td><td>-1</td></tr>\n",
       "\t<tr><td>0</td><td>0</td><td>0</td><td>0</td></tr>\n",
       "</tbody>\n",
       "</table>\n"
      ],
      "text/latex": [
       "\\begin{tabular}{llll}\n",
       "\t 0 & 0 & 0 & 1\\\\\n",
       "\t  0 & NA &  0 & -1\\\\\n",
       "\t 0 & 0 & 0 & 0\\\\\n",
       "\\end{tabular}\n"
      ],
      "text/markdown": [
       "1. 0\n",
       "2. 0\n",
       "3. 0\n",
       "4. 0\n",
       "5. NA\n",
       "6. 0\n",
       "7. 0\n",
       "8. 0\n",
       "9. 0\n",
       "10. 1\n",
       "11. -1\n",
       "12. 0\n",
       "\n",
       "\n"
      ],
      "text/plain": [
       "     [,1] [,2] [,3] [,4]\n",
       "[1,]    0    0    0    1\n",
       "[2,]    0   NA    0   -1\n",
       "[3,]    0    0    0    0"
      ]
     },
     "execution_count": 8,
     "metadata": {},
     "output_type": "execute_result"
    },
    {
     "data": {
      "text/html": [
       "<table>\n",
       "<thead><tr><th></th><th scope=col>x</th><th scope=col>y</th></tr></thead>\n",
       "<tbody>\n",
       "\t<tr><th scope=row>1</th><td>1</td><td>1</td></tr>\n",
       "\t<tr><th scope=row>2</th><td>2</td><td>1</td></tr>\n",
       "\t<tr><th scope=row>3</th><td>3</td><td>1</td></tr>\n",
       "\t<tr><th scope=row>4</th><td>4</td><td>1</td></tr>\n",
       "\t<tr><th scope=row>5</th><td>1</td><td>2</td></tr>\n",
       "\t<tr><th scope=row>6</th><td>2</td><td>2</td></tr>\n",
       "\t<tr><th scope=row>7</th><td>3</td><td>2</td></tr>\n",
       "\t<tr><th scope=row>8</th><td>4</td><td>2</td></tr>\n",
       "\t<tr><th scope=row>9</th><td>1</td><td>3</td></tr>\n",
       "\t<tr><th scope=row>10</th><td>2</td><td>3</td></tr>\n",
       "\t<tr><th scope=row>11</th><td>3</td><td>3</td></tr>\n",
       "\t<tr><th scope=row>12</th><td>4</td><td>3</td></tr>\n",
       "</tbody>\n",
       "</table>\n"
      ],
      "text/latex": [
       "\\begin{tabular}{r|ll}\n",
       "  & x & y\\\\\n",
       "\\hline\n",
       "\t1 & 1 & 1\\\\\n",
       "\t2 & 2 & 1\\\\\n",
       "\t3 & 3 & 1\\\\\n",
       "\t4 & 4 & 1\\\\\n",
       "\t5 & 1 & 2\\\\\n",
       "\t6 & 2 & 2\\\\\n",
       "\t7 & 3 & 2\\\\\n",
       "\t8 & 4 & 2\\\\\n",
       "\t9 & 1 & 3\\\\\n",
       "\t10 & 2 & 3\\\\\n",
       "\t11 & 3 & 3\\\\\n",
       "\t12 & 4 & 3\\\\\n",
       "\\end{tabular}\n"
      ],
      "text/plain": [
       "   x y\n",
       "1  1 1\n",
       "2  2 1\n",
       "3  3 1\n",
       "4  4 1\n",
       "5  1 2\n",
       "6  2 2\n",
       "7  3 2\n",
       "8  4 2\n",
       "9  1 3\n",
       "10 2 3\n",
       "11 3 3\n",
       "12 4 3"
      ]
     },
     "execution_count": 8,
     "metadata": {},
     "output_type": "execute_result"
    }
   ],
   "source": [
    "values\n",
    "states <- expand.grid(x=x, y=y)\n",
    "states"
   ]
  },
  {
   "cell_type": "code",
   "execution_count": 9,
   "metadata": {
    "collapsed": true
   },
   "outputs": [],
   "source": [
    "# Transition probability\n",
    "transition <- list(\"N\" = c(\"N\" = 0.8, \"S\" = 0, \"E\" = 0.1, \"W\" = 0.1), \n",
    "                   \"S\"= c(\"S\" = 0.8, \"N\" = 0, \"E\" = 0.1, \"W\" = 0.1),\n",
    "                   \"E\"= c(\"E\" = 0.8, \"W\" = 0, \"S\" = 0.1, \"N\" = 0.1),\n",
    "                   \"W\"= c(\"W\" = 0.8, \"E\" = 0, \"S\" = 0.1, \"N\" = 0.1))"
   ]
  },
  {
   "cell_type": "code",
   "execution_count": 10,
   "metadata": {
    "collapsed": false
   },
   "outputs": [
    {
     "data": {
      "text/html": [
       "<dl>\n",
       "\t<dt>$N</dt>\n",
       "\t\t<dd><dl class=dl-horizontal>\n",
       "\t<dt>N</dt>\n",
       "\t\t<dd>0.8</dd>\n",
       "\t<dt>S</dt>\n",
       "\t\t<dd>0</dd>\n",
       "\t<dt>E</dt>\n",
       "\t\t<dd>0.1</dd>\n",
       "\t<dt>W</dt>\n",
       "\t\t<dd>0.1</dd>\n",
       "</dl>\n",
       "</dd>\n",
       "\t<dt>$S</dt>\n",
       "\t\t<dd><dl class=dl-horizontal>\n",
       "\t<dt>S</dt>\n",
       "\t\t<dd>0.8</dd>\n",
       "\t<dt>N</dt>\n",
       "\t\t<dd>0</dd>\n",
       "\t<dt>E</dt>\n",
       "\t\t<dd>0.1</dd>\n",
       "\t<dt>W</dt>\n",
       "\t\t<dd>0.1</dd>\n",
       "</dl>\n",
       "</dd>\n",
       "\t<dt>$E</dt>\n",
       "\t\t<dd><dl class=dl-horizontal>\n",
       "\t<dt>E</dt>\n",
       "\t\t<dd>0.8</dd>\n",
       "\t<dt>W</dt>\n",
       "\t\t<dd>0</dd>\n",
       "\t<dt>S</dt>\n",
       "\t\t<dd>0.1</dd>\n",
       "\t<dt>N</dt>\n",
       "\t\t<dd>0.1</dd>\n",
       "</dl>\n",
       "</dd>\n",
       "\t<dt>$W</dt>\n",
       "\t\t<dd><dl class=dl-horizontal>\n",
       "\t<dt>W</dt>\n",
       "\t\t<dd>0.8</dd>\n",
       "\t<dt>E</dt>\n",
       "\t\t<dd>0</dd>\n",
       "\t<dt>S</dt>\n",
       "\t\t<dd>0.1</dd>\n",
       "\t<dt>N</dt>\n",
       "\t\t<dd>0.1</dd>\n",
       "</dl>\n",
       "</dd>\n",
       "</dl>\n"
      ],
      "text/latex": [
       "\\begin{description}\n",
       "\\item[\\$N] \\begin{description*}\n",
       "\\item[N] 0.8\n",
       "\\item[S] 0\n",
       "\\item[E] 0.1\n",
       "\\item[W] 0.1\n",
       "\\end{description*}\n",
       "\n",
       "\\item[\\$S] \\begin{description*}\n",
       "\\item[S] 0.8\n",
       "\\item[N] 0\n",
       "\\item[E] 0.1\n",
       "\\item[W] 0.1\n",
       "\\end{description*}\n",
       "\n",
       "\\item[\\$E] \\begin{description*}\n",
       "\\item[E] 0.8\n",
       "\\item[W] 0\n",
       "\\item[S] 0.1\n",
       "\\item[N] 0.1\n",
       "\\end{description*}\n",
       "\n",
       "\\item[\\$W] \\begin{description*}\n",
       "\\item[W] 0.8\n",
       "\\item[E] 0\n",
       "\\item[S] 0.1\n",
       "\\item[N] 0.1\n",
       "\\end{description*}\n",
       "\n",
       "\\end{description}\n"
      ],
      "text/markdown": [
       "$N\n",
       ":   N\n",
       ":   0.8S\n",
       ":   0E\n",
       ":   0.1W\n",
       ":   0.1\n",
       "\n",
       "\n",
       "$S\n",
       ":   S\n",
       ":   0.8N\n",
       ":   0E\n",
       ":   0.1W\n",
       ":   0.1\n",
       "\n",
       "\n",
       "$E\n",
       ":   E\n",
       ":   0.8W\n",
       ":   0S\n",
       ":   0.1N\n",
       ":   0.1\n",
       "\n",
       "\n",
       "$W\n",
       ":   W\n",
       ":   0.8E\n",
       ":   0S\n",
       ":   0.1N\n",
       ":   0.1\n",
       "\n",
       "\n",
       "\n",
       "\n"
      ],
      "text/plain": [
       "$N\n",
       "  N   S   E   W \n",
       "0.8 0.0 0.1 0.1 \n",
       "\n",
       "$S\n",
       "  S   N   E   W \n",
       "0.8 0.0 0.1 0.1 \n",
       "\n",
       "$E\n",
       "  E   W   S   N \n",
       "0.8 0.0 0.1 0.1 \n",
       "\n",
       "$W\n",
       "  W   E   S   N \n",
       "0.8 0.0 0.1 0.1 \n"
      ]
     },
     "execution_count": 10,
     "metadata": {},
     "output_type": "execute_result"
    }
   ],
   "source": [
    "transition"
   ]
  },
  {
   "cell_type": "code",
   "execution_count": 11,
   "metadata": {
    "collapsed": true
   },
   "outputs": [],
   "source": [
    "# The value of an action (e.g. move north means y + 1)\n",
    "action.values <- list(\"N\" = c(\"x\" = 0, \"y\" = 1), \n",
    "                      \"S\" = c(\"x\" = 0, \"y\" = -1),\n",
    "                      \"E\" = c(\"x\" = -1, \"y\" = 0),\n",
    "                      \"W\" = c(\"x\" = 1, \"y\" = 0))"
   ]
  },
  {
   "cell_type": "code",
   "execution_count": 12,
   "metadata": {
    "collapsed": false
   },
   "outputs": [
    {
     "data": {
      "text/html": [
       "<dl>\n",
       "\t<dt>$N</dt>\n",
       "\t\t<dd><dl class=dl-horizontal>\n",
       "\t<dt>x</dt>\n",
       "\t\t<dd>0</dd>\n",
       "\t<dt>y</dt>\n",
       "\t\t<dd>1</dd>\n",
       "</dl>\n",
       "</dd>\n",
       "\t<dt>$S</dt>\n",
       "\t\t<dd><dl class=dl-horizontal>\n",
       "\t<dt>x</dt>\n",
       "\t\t<dd>0</dd>\n",
       "\t<dt>y</dt>\n",
       "\t\t<dd>-1</dd>\n",
       "</dl>\n",
       "</dd>\n",
       "\t<dt>$E</dt>\n",
       "\t\t<dd><dl class=dl-horizontal>\n",
       "\t<dt>x</dt>\n",
       "\t\t<dd>-1</dd>\n",
       "\t<dt>y</dt>\n",
       "\t\t<dd>0</dd>\n",
       "</dl>\n",
       "</dd>\n",
       "\t<dt>$W</dt>\n",
       "\t\t<dd><dl class=dl-horizontal>\n",
       "\t<dt>x</dt>\n",
       "\t\t<dd>1</dd>\n",
       "\t<dt>y</dt>\n",
       "\t\t<dd>0</dd>\n",
       "</dl>\n",
       "</dd>\n",
       "</dl>\n"
      ],
      "text/latex": [
       "\\begin{description}\n",
       "\\item[\\$N] \\begin{description*}\n",
       "\\item[x] 0\n",
       "\\item[y] 1\n",
       "\\end{description*}\n",
       "\n",
       "\\item[\\$S] \\begin{description*}\n",
       "\\item[x] 0\n",
       "\\item[y] -1\n",
       "\\end{description*}\n",
       "\n",
       "\\item[\\$E] \\begin{description*}\n",
       "\\item[x] -1\n",
       "\\item[y] 0\n",
       "\\end{description*}\n",
       "\n",
       "\\item[\\$W] \\begin{description*}\n",
       "\\item[x] 1\n",
       "\\item[y] 0\n",
       "\\end{description*}\n",
       "\n",
       "\\end{description}\n"
      ],
      "text/markdown": [
       "$N\n",
       ":   x\n",
       ":   0y\n",
       ":   1\n",
       "\n",
       "\n",
       "$S\n",
       ":   x\n",
       ":   0y\n",
       ":   -1\n",
       "\n",
       "\n",
       "$E\n",
       ":   x\n",
       ":   -1y\n",
       ":   0\n",
       "\n",
       "\n",
       "$W\n",
       ":   x\n",
       ":   1y\n",
       ":   0\n",
       "\n",
       "\n",
       "\n",
       "\n"
      ],
      "text/plain": [
       "$N\n",
       "x y \n",
       "0 1 \n",
       "\n",
       "$S\n",
       " x  y \n",
       " 0 -1 \n",
       "\n",
       "$E\n",
       " x  y \n",
       "-1  0 \n",
       "\n",
       "$W\n",
       "x y \n",
       "1 0 \n"
      ]
     },
     "execution_count": 12,
     "metadata": {},
     "output_type": "execute_result"
    }
   ],
   "source": [
    "action.values"
   ]
  },
  {
   "cell_type": "code",
   "execution_count": 13,
   "metadata": {
    "collapsed": true
   },
   "outputs": [],
   "source": [
    "# act() function serves to move the robot through states based on an action\n",
    "act <- function(action, state) {\n",
    "  action.value <- action.values[[action]]\n",
    "  new.state <- state\n",
    "  #\n",
    "  if(state[\"x\"] == 4 && state[\"y\"] == 1 || (state[\"x\"] == 4 && state[\"y\"] == 2))\n",
    "    return(state)\n",
    "  #\n",
    "  new.x = state[\"x\"] + action.value[\"x\"]\n",
    "  new.y = state[\"y\"] + action.value[\"y\"]\n",
    "  # Constrained by edge of grid\n",
    "  new.state[\"x\"] <- min(x[length(x)], max(x[1], new.x))\n",
    "  new.state[\"y\"] <- min(y[length(y)], max(y[1], new.y))\n",
    "  #\n",
    "  if(is.na(rewards[new.state[\"y\"], new.state[\"x\"]]))\n",
    "    new.state <- state\n",
    "  #\n",
    "  return(new.state)\n",
    "}"
   ]
  },
  {
   "cell_type": "code",
   "execution_count": 14,
   "metadata": {
    "collapsed": true
   },
   "outputs": [],
   "source": [
    "bellman.update <- function(action, state, values, gamma=1) {\n",
    "  state.transition.prob <- transition[[action]]\n",
    "  q <- rep(0, length(state.transition.prob))\n",
    "  for(i in 1:length(state.transition.prob)) {        \n",
    "    new.state <- act(names(state.transition.prob)[i], state) \n",
    "    q[i] <- (state.transition.prob[i] * (rewards[state[\"y\"], state[\"x\"]] + (gamma * values[new.state[\"y\"], new.state[\"x\"]])))\n",
    "  }\n",
    "  sum(q)\n",
    "}"
   ]
  },
  {
   "cell_type": "code",
   "execution_count": 15,
   "metadata": {
    "collapsed": true
   },
   "outputs": [],
   "source": [
    "value.iteration <- function(states, actions, rewards, values, gamma, niter) {\n",
    "  for (j in 1:niter) {\n",
    "    for (i in 1:nrow(states)) {\n",
    "      state <- unlist(states[i,])\n",
    "      if(i %in% c(4, 8)) next # terminal states\n",
    "      q.values <- as.numeric(lapply(actions, bellman.update, state=state, values=values, gamma=gamma))\n",
    "      values[state[\"y\"], state[\"x\"]] <- max(q.values)\n",
    "    }\n",
    "  }\n",
    "  return(values)\n",
    "}"
   ]
  },
  {
   "cell_type": "code",
   "execution_count": 16,
   "metadata": {
    "collapsed": true
   },
   "outputs": [],
   "source": [
    "final.values <- value.iteration(states=states, actions=actions, rewards=rewards, values=values, gamma=0.99, niter=100)"
   ]
  },
  {
   "cell_type": "code",
   "execution_count": 17,
   "metadata": {
    "collapsed": false
   },
   "outputs": [
    {
     "data": {
      "text/html": [
       "<table>\n",
       "<tbody>\n",
       "\t<tr><td>0.9516605</td><td>0.9651596</td><td>0.9773460</td><td>1.0000000</td></tr>\n",
       "\t<tr><td> 0.9397944</td><td>        NA</td><td> 0.8948359</td><td>-1.0000000</td></tr>\n",
       "\t<tr><td>0.9266500</td><td>0.9150957</td><td>0.9027132</td><td>0.8198900</td></tr>\n",
       "</tbody>\n",
       "</table>\n"
      ],
      "text/latex": [
       "\\begin{tabular}{llll}\n",
       "\t 0.9516605 & 0.9651596 & 0.9773460 & 1.0000000\\\\\n",
       "\t  0.9397944 &         NA &  0.8948359 & -1.0000000\\\\\n",
       "\t 0.9266500 & 0.9150957 & 0.9027132 & 0.8198900\\\\\n",
       "\\end{tabular}\n"
      ],
      "text/markdown": [
       "1. 0.951660467678032\n",
       "2. 0.939794376988557\n",
       "3. 0.926649971125347\n",
       "4. 0.965159644298362\n",
       "5. NA\n",
       "6. 0.915095732007943\n",
       "7. 0.977346003674035\n",
       "8. 0.894835853102686\n",
       "9. 0.902713173324702\n",
       "10. 1\n",
       "11. -1\n",
       "12. 0.81988998536617\n",
       "\n",
       "\n"
      ],
      "text/plain": [
       "          [,1]      [,2]      [,3]     [,4]\n",
       "[1,] 0.9516605 0.9651596 0.9773460  1.00000\n",
       "[2,] 0.9397944        NA 0.8948359 -1.00000\n",
       "[3,] 0.9266500 0.9150957 0.9027132  0.81989"
      ]
     },
     "execution_count": 17,
     "metadata": {},
     "output_type": "execute_result"
    }
   ],
   "source": [
    "final.values"
   ]
  }
 ],
 "metadata": {
  "kernelspec": {
   "display_name": "R",
   "language": "R",
   "name": "ir"
  },
  "language_info": {
   "codemirror_mode": "r",
   "file_extension": ".r",
   "mimetype": "text/x-r-source",
   "name": "R",
   "pygments_lexer": "r",
   "version": "3.1.3"
  }
 },
 "nbformat": 4,
 "nbformat_minor": 0
}
