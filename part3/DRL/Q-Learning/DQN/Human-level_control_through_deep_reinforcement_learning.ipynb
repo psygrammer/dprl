{
 "cells": [
  {
   "cell_type": "markdown",
   "metadata": {},
   "source": [
    "# Human-level control through deep reinforcement learning\n"
   ]
  },
  {
   "cell_type": "markdown",
   "metadata": {},
   "source": [
    "* 싸이그래머 / 의사결정RL - 파트 4 : DeepRL [1, 2]\n",
    "* 김무성"
   ]
  },
  {
   "cell_type": "markdown",
   "metadata": {},
   "source": [
    "#### 참고\n",
    "* [3] Playing Atari With Deep Reinforcement Learning (NIPS 2013) 논문리뷰 - http://sanghyukchun.github.io/90/\n",
    "* [4] RL slide - https://computing.ece.vt.edu/~f15ece6504/slides/L26_RL.pdf"
   ]
  },
  {
   "cell_type": "markdown",
   "metadata": {},
   "source": [
    "<img src=\"figures/capn.1.png\" width=600>\n",
    "<img src=\"figures/capn.2.png\" width=600>\n",
    "<img src=\"figures/capn.3.png\" width=600>\n",
    "<img src=\"figures/capn.4.png\" width=600>\n",
    "<img src=\"figures/capn.5.png\" width=600>\n",
    "<img src=\"figures/capn.6.png\" width=600>\n",
    "<img src=\"figures/capn.7.png\" width=600>\n",
    "<img src=\"figures/capn.8.png\" width=600>"
   ]
  },
  {
   "cell_type": "markdown",
   "metadata": {},
   "source": [
    "# 참고자료\n",
    "* [1] Playing Atari With Deep Reinforcement Learning - http://arxiv.org/abs/1312.5602\n",
    "* [2] Human-level control through deep reinforcement learning - http://home.uchicago.edu/~arij/journalclub/papers/2015_Mnih_et_al.pdf\n",
    "* [3] Playing Atari With Deep Reinforcement Learning (NIPS 2013) 논문리뷰 -  http://sanghyukchun.github.io/90/\n",
    "* [4] RL slide - https://computing.ece.vt.edu/~f15ece6504/slides/L26_RL.pdf\n",
    "* [5] code - https://github.com/songrotek/DQN-Atari-Tensorflow\n",
    "* [6] code - https://github.com/asrivat1/DeepLearningVideoGames\n",
    "* [7] code - https://github.com/gliese581gg/DQN_tensorflow\n",
    "* [8] code - https://github.com/devsisters/DQN-tensorflow/\n",
    "* [9] 강화학습 그리고 OpenAI - http://www.modulabs.co.kr/RL_library/3237\n",
    "* http://www.slideshare.net/onghaoyi/distributed-deep-qlearning\n",
    "* http://www.slideshare.net/nikolaypavlov/deep-qlearning"
   ]
  }
 ],
 "metadata": {
  "kernelspec": {
   "display_name": "Python 2",
   "language": "python",
   "name": "python2"
  },
  "language_info": {
   "codemirror_mode": {
    "name": "ipython",
    "version": 2
   },
   "file_extension": ".py",
   "mimetype": "text/x-python",
   "name": "python",
   "nbconvert_exporter": "python",
   "pygments_lexer": "ipython2",
   "version": "2.7.6"
  }
 },
 "nbformat": 4,
 "nbformat_minor": 0
}
